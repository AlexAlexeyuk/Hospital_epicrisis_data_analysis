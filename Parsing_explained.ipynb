{
  "nbformat": 4,
  "nbformat_minor": 0,
  "metadata": {
    "colab": {
      "name": "14/02/2021.ipynb",
      "provenance": [],
      "collapsed_sections": [],
      "mount_file_id": "19rArXD-659xiNBp9JEKSORwJJh_5o2Po",
      "authorship_tag": "ABX9TyMXgtYiyN3f2n5afLwlTkaJ",
      "include_colab_link": true
    },
    "kernelspec": {
      "display_name": "Python 3",
      "name": "python3"
    }
  },
  "cells": [
    {
      "cell_type": "markdown",
      "metadata": {
        "id": "view-in-github",
        "colab_type": "text"
      },
      "source": [
        "<a href=\"https://colab.research.google.com/github/AlexAlexeyuk/Hospital_epicrisis_data_analysis/blob/1%2F02%2F2021/Parsing_explained.ipynb\" target=\"_parent\"><img src=\"https://colab.research.google.com/assets/colab-badge.svg\" alt=\"Open In Colab\"/></a>"
      ]
    },
    {
      "cell_type": "code",
      "metadata": {
        "id": "FQ4Ib5X1qQ-6"
      },
      "source": [
        "import os\r\n",
        "import pandas as pd\r\n",
        "import glob\r\n",
        "import string\r\n",
        "import nltk\r\n",
        "import re\r\n",
        "import numpy as np\r\n",
        "\r\n",
        "\r\n",
        "\r\n",
        "class Utils():\r\n",
        "    root_directory = os.chdir('/content/drive/MyDrive/parser')# input path\r\n",
        "    list_of_files = glob.glob('**/*.txt', recursive=True)\r\n",
        "    invalid_parsing = []\r\n",
        "    trash = ['Волковыск-1.txt','Волковыск.txt','Вороново-1.txt',\r\n",
        "         'Вороново.txt', 'Черновик-1.txt', 'Черновик.txt']\r\n",
        "    for file in list_of_files:\r\n",
        "        try:\r\n",
        "             with open(file, encoding='utf-8') as f:\r\n",
        "                    num = f.readline()\r\n",
        "                    file_ = f.read()\r\n",
        "                    if num and file_:\r\n",
        "                        pass\r\n",
        "        except:\r\n",
        "            invalid_parsing.append(file)\r\n",
        "    for i in invalid_parsing:\r\n",
        "        list_of_files.remove(i)\r\n",
        "    for i in trash: \r\n",
        "        list_of_files.remove(i)\r\n",
        "\r\n",
        "\r\n",
        "list_of_files = Utils.list_of_files\r\n"
      ],
      "execution_count": 2,
      "outputs": []
    },
    {
      "cell_type": "code",
      "metadata": {
        "id": "2QxoC7ObD_b-"
      },
      "source": [
        "plt_ = []\r\n",
        "wbc_ = []\r\n",
        "hgb_ = []\r\n",
        "crea_ = []\r\n",
        "ldh_ = []\r\n",
        "sex_ = []\r\n",
        "crp_ = []\r\n",
        "tr = []\r\n",
        "bir = []\r\n",
        "ad = []\r\n",
        "dis = []\r\n",
        "ID_ = []\r\n",
        "dgs_ = []\r\n",
        "rf_ = []\r\n",
        "alt_ = []\r\n",
        "ast_ = []\r\n",
        "pct_ = []"
      ],
      "execution_count": 3,
      "outputs": []
    },
    {
      "cell_type": "code",
      "metadata": {
        "id": "yBzpnM2oD3c5"
      },
      "source": [
        "def ID(num):\r\n",
        "  \"\"\"returns ID of the patient\"\"\"\r\n",
        "  for i in num.split():\r\n",
        "    for char in i.split():\r\n",
        "        if char.isnumeric():\r\n",
        "            try:\r\n",
        "                return int(char)\r\n",
        "            except:\r\n",
        "                return 'None'\r\n",
        "            \r\n",
        "            \r\n",
        "def treatment(file_):\r\n",
        "  \"\"\" returns srting of remedies used for the patient \"\"\"\r\n",
        "  for line in file_.split('\\n'):\r\n",
        "    if re.search('Провед.нное.лечение', line):  # Does the same thing as \"if 'hello' in line:\"\r\n",
        "        return(line.replace('Проведенное лечение:', \\\r\n",
        "                            '').replace('ЛФК', '').replace('ФТЛ', ''))\r\n",
        "    \r\n",
        "\r\n",
        "def born_adm_disch(file_):\r\n",
        "    \"\"\" finds all nessesary dates in the epicrisis\"\"\"\r\n",
        "    pattern = re.compile(\"(\\d{2}).(\\d{2}).(\\d{4})\") # check all dates\r\n",
        "    birthday, admission = pattern.findall(file_)[:2]\r\n",
        "    discharging = pattern.findall(file_)[-1]\r\n",
        "    try:\r\n",
        "        return ':'.join(birthday), ':'.join(admission), ':'.join(discharging)\r\n",
        "    except:\r\n",
        "        return 'None'\r\n",
        "\r\n",
        "\r\n",
        "pattern_diagnosis = ['Диагноз:','Диагноз клинический:','Диагноз', 'Д-з:',\r\n",
        "                     \"Диагноз заключительный:\"]\r\n",
        "def diagnosis_dirty(file_):\r\n",
        "  int_ = 0\r\n",
        "  for i in file_.split():\r\n",
        "    int_ += 1\r\n",
        "    if i in pattern_diagnosis:\r\n",
        "      return file_.split()[int_+1:int_+40]    \r\n",
        "  \r\n",
        "\r\n",
        "def crp(file_):\r\n",
        "  \"\"\"returns all crp values\"\"\"\r\n",
        "  file_= ''.join(file_.split())\r\n",
        "  file_ = re.sub(r'[ЦСC]РБ|\\w\\D(реактив.|реакт.|реак.)белок', 'С-реактивныйбелок', file_)\r\n",
        "  file_ = re.sub(r'\\d{,2}\\.\\d\\d\\.\\d{2,4}', '', file_)\r\n",
        "  file_ = re.sub(r'[():]', '', file_)\r\n",
        "  file_ = re.sub(r'(?<!С-реактивныйбелок)\\d\\d\\.\\d\\d', '', file_)\r\n",
        "  file_ = re.sub(r',', '.', file_)\r\n",
        "  pattern_1 = re.compile(r'(?:\\w\\Dреактивныйбелок|\\w\\Dреактивныйбелокдо)(\\d*\\.\\d+|\\d+)')\r\n",
        "  pattern_2 = pattern_1.findall(file_)\r\n",
        "  try:\r\n",
        "    if pattern_2:\r\n",
        "      return np.float_(pattern_2)\r\n",
        "    else:\r\n",
        "      return 'None'\r\n",
        "  except:\r\n",
        "    pass\r\n",
        "\r\n",
        "\r\n",
        "def gender(file_):\r\n",
        "  file_ = file_.title()\r\n",
        "  file_ = ''.join(file_.split())\r\n",
        "  file_ = re.sub(r'Диагноз.*', '', file_)\r\n",
        "  patt1 = re.compile(r'[А-Я](\\w{,19}(\\w|\\ич))[А-Я]\\w{,20}(вна)')\r\n",
        "  patt2 = patt1.findall(file_)\r\n",
        "  try:\r\n",
        "    if patt2:\r\n",
        "      return 'female'\r\n",
        "    else:\r\n",
        "      return 'male'\r\n",
        "  except:\r\n",
        "    pass\r\n",
        "  \r\n",
        "\r\n",
        "def ldh(file_):\r\n",
        "  file_= ''.join(file_.split())\r\n",
        "  file_ = file_.lower()\r\n",
        "  file_ = re.sub(r'[():]', '', file_)\r\n",
        "  file_ = re.sub(r'\\d{,2}\\.\\d\\d\\.\\d{2,4}', '', file_)\r\n",
        "  file_ = re.sub(r'\\wактатдегидрогеназ\\w', 'лдг', file_)\r\n",
        "  file_ = re.sub(r'(?<!лдг)\\d\\d\\.\\d\\d', '', file_)\r\n",
        "  patt1 = re.compile(r'(?<=лдг)\\d{,4}')\r\n",
        "  patt2 = patt1.findall(file_)\r\n",
        "  try:\r\n",
        "    if patt2:\r\n",
        "      return np.float_(patt2)\r\n",
        "    else:\r\n",
        "      return 'None'\r\n",
        "  except:\r\n",
        "    pass\r\n",
        "\r\n",
        "\r\n",
        "\r\n",
        "def cre(file_):\r\n",
        "  \"\"\"Returns all creatinine values\"\"\"\r\n",
        "  file_= ''.join(file_.split())  \r\n",
        "  file_ = file_.lower()\r\n",
        "  file_ = re.sub(r'[():]', '', file_)\r\n",
        "  file_ = re.sub(r'\\d{,2}\\.\\d\\d\\.\\d{2,4}', '', file_)\r\n",
        "  file_ = re.sub(r'(\\wреатини\\w|креатин|креат)(?![а-яА-Я,])', 'cre', file_)\r\n",
        "  file_ = re.sub(r'(?<!cre)\\d\\d\\.\\d\\d', '', file_)\r\n",
        "  patt1 = re.compile(r'(?<=cre)\\d{2,3}')\r\n",
        "  patt2 = patt1.findall(file_)\r\n",
        "  try:\r\n",
        "    if patt2:\r\n",
        "      return np.float_(patt2)\r\n",
        "    else:\r\n",
        "      return 'None'\r\n",
        "  except:\r\n",
        "    pass\r\n",
        "\r\n",
        "\r\n",
        "def hgb(file_):\r\n",
        "  \"\"\"returns list of str with level of hemoglobin\"\"\"\r\n",
        "  file_= ''.join(file_.split())  \r\n",
        "  file_ = file_.lower()\r\n",
        "  file_ = re.sub(r'[():]', '', file_)\r\n",
        "  patt = re.compile(r'гемоглобин|гемогл|гб|гем')\r\n",
        "  patt1 = re.sub(patt, r'hgb', file_)\r\n",
        "  patt2 = re.compile(r'(?<=hgb)\\d{2,3}')\r\n",
        "  all_hgb = patt2.findall(patt1)\r\n",
        "  try:\r\n",
        "    if all_hgb:\r\n",
        "      return np.float_(all_hgb)\r\n",
        "    else:\r\n",
        "      return 'None'\r\n",
        "  except:\r\n",
        "    pass\r\n",
        "\r\n",
        "\r\n",
        "def wbc(file_):\r\n",
        "  \"\"\"returns list of str with level of wbc\"\"\"\r\n",
        "  file_= ''.join(file_.split())\r\n",
        "  file_ = file_.lower()\r\n",
        "  file_ = re.sub(r'[():]', '', file_)\r\n",
        "  file_ = re.sub(r'10(\\*|[еe])9', '', file_)\r\n",
        "  file_ = re.sub(r'\\d{,2}\\.\\d\\d\\.\\d{2,4}', '', file_)\r\n",
        "  file_ = re.sub(r'\\Dбщийанализкрови', 'оак', file_)\r\n",
        "  file_ = re.sub(r'(?<=оак)гб\\d*,', '', file_)\r\n",
        "  file_ = re.sub(r',', '.', file_)\r\n",
        "  patt1 = re.compile(r'(?<=оак|wbc)(?:л|лейкоцит\\w)(\\d*\\.\\d+|\\d+)')\r\n",
        "  all_wbc = patt1.findall(file_)\r\n",
        "  try:\r\n",
        "    if all_wbc:\r\n",
        "      return np.float_(all_wbc)\r\n",
        "    else:\r\n",
        "      return 'None'\r\n",
        "  except:\r\n",
        "    pass\r\n",
        "\r\n",
        "\r\n",
        "def plt(file_):\r\n",
        "  \"\"\"returns list of str with level of plt\"\"\"\r\n",
        "  file_= ''.join(file_.split())\r\n",
        "  file_ = file_.lower()\r\n",
        "  file_ = re.sub(r'[():]', '', file_)\r\n",
        "  file_ = re.sub(r'10(\\*|[еe])9', '', file_)\r\n",
        "  file_ = re.sub(r'\\d{,2}\\.\\d\\d\\.\\d{2,4}', '', file_)\r\n",
        "  patt1 = re.compile(r'\\wромбоцит\\w|(?<![а-яА-Я])тр(?![а-яА-Я])')\r\n",
        "  file_ = re.sub(patt1, r'plt', file_)\r\n",
        "  file_ = re.sub(r'(?<!plt)\\d\\d\\.\\d\\d', '', file_)\r\n",
        "  patt2 = re.compile(r'(?<=plt)\\d{3}')\r\n",
        "  all_plt = patt2.findall(file_)\r\n",
        "  try:\r\n",
        "    if all_plt:\r\n",
        "      return np.float_(all_plt)\r\n",
        "    else:\r\n",
        "      return 'None'\r\n",
        "  except:\r\n",
        "    pass\r\n",
        "\r\n",
        "\r\n",
        "def rf(file_):\r\n",
        "  file_= ''.join(file_.split())  \r\n",
        "  file_ = re.sub(r'[а-яА-ЯёЁ]ДН[^Шш0-9]', 'ДН'.lower(), file_)\r\n",
        "  file_ = re.sub(r'(?<=ДН)[1iI]{3}|[Шш]', '3', file_)\r\n",
        "  file_ = re.sub(r'(?<=ДН)[1iI]{2}|1-2', '2', file_)\r\n",
        "  file_ = re.sub(r'(?<=ДН)[оoОO]', '0', file_)\r\n",
        "  patt1 = re.compile(r'(?<=ДН)\\d')\r\n",
        "  patt2 = patt1.findall(file_)\r\n",
        "  try:\r\n",
        "    if patt2:\r\n",
        "      return patt2\r\n",
        "    else:\r\n",
        "      return 0\r\n",
        "  except:\r\n",
        "      return 0\r\n",
        "\r\n",
        "\r\n",
        "\r\n",
        "def alt(file_):\r\n",
        "  file_= ''.join(file_.split())\r\n",
        "  file_ = file_.lower()\r\n",
        "  file_ = re.sub(r'[():]', '', file_)\r\n",
        "  file_ = re.sub(r'\\d{,2}\\.\\d\\d\\.\\d{2,4}', '', file_)\r\n",
        "  file_ = re.sub(r'\\wланинаминотрансфераз\\w|алат', 'алт', file_)\r\n",
        "  file_ = re.sub(r'(?<!алт)\\d\\d\\.\\d\\d', '', file_)\r\n",
        "  file_ = re.sub(r',', '.', file_) \r\n",
        "  patt1 = re.compile(r'(?<=алт)(\\d*\\.\\d+|\\d+)')\r\n",
        "  patt2 = patt1.findall(file_)\r\n",
        "  try:\r\n",
        "    if patt2:\r\n",
        "      return np.float_(patt2)\r\n",
        "    else:\r\n",
        "      return 'None'\r\n",
        "  except:\r\n",
        "    pass\r\n",
        "\r\n",
        "\r\n",
        "def ast(file_):\r\n",
        "  file_= ''.join(file_.split())\r\n",
        "  file_ = file_.lower()\r\n",
        "  file_ = re.sub(r'[():]', '', file_)\r\n",
        "  file_ = re.sub(r'\\d{,2}\\.\\d\\d\\.\\d{2,4}', '', file_)\r\n",
        "  file_ = re.sub(r'\\wспартатаминотрансфераз\\w|асат', 'аст', file_)\r\n",
        "  file_ = re.sub(r'(?<!аст)\\d\\d\\.\\d\\d', '', file_)\r\n",
        "  file_ = re.sub(r',', '.', file_)\r\n",
        "  patt1 = re.compile(r'(?<=аст)(\\d*\\.\\d+|\\d+)')\r\n",
        "  patt2 = patt1.findall(file_)\r\n",
        "  try:\r\n",
        "    if patt2:\r\n",
        "      return np.float_(patt2)\r\n",
        "    else:\r\n",
        "      return 'None'\r\n",
        "  except:\r\n",
        "    pass\r\n",
        "\r\n",
        "\r\n",
        "def pct(file_):\r\n",
        "  file_= ''.join(file_.split())\r\n",
        "  file_ = file_.lower()\r\n",
        "  file_ = re.sub(r'(?<=\\,\\d)\\,|\\.\\d{2}\\.\\d\\d\\.\\d{2,4}.', '', file_)\r\n",
        "  file_ = re.sub(r'\\d{,2}\\.\\d\\d\\.\\d{2,4}(\\.|)', '', file_)\r\n",
        "  file_ = re.sub(r'[–-]|[():<>=]', '', file_)\r\n",
        "  file_ = re.sub(r'менее', '', file_)\r\n",
        "  file_ = re.sub(r'от', '', file_)\r\n",
        "  file_ = re.sub(r'(\\wрокальцитони\\w|прокальцитон|прокальцит|прокальц|рст)(?![а-яА-Я,])', 'pct', file_)\r\n",
        "  file_ = re.sub(r',', '.', file_)\r\n",
        "  patt1 = re.compile(r'(?<=pct)(\\d*\\.\\d+|\\d+)')\r\n",
        "  patt2 = patt1.findall(file_)\r\n",
        "  try:\r\n",
        "    if patt2:\r\n",
        "      return np.float_(patt2)\r\n",
        "    else:\r\n",
        "      return 'None'\r\n",
        "  except:\r\n",
        "    pass"
      ],
      "execution_count": 4,
      "outputs": []
    },
    {
      "cell_type": "code",
      "metadata": {
        "id": "nn5MGzXVCJ3i"
      },
      "source": [
        "for file in list_of_files:\r\n",
        "    try:\r\n",
        "         with open(file, encoding='utf-8') as f:\r\n",
        "                num = f.readline()\r\n",
        "                file_ = f.read()\r\n",
        "                ID_.append(ID((num)))\r\n",
        "                tr.append(treatment((file_)))\r\n",
        "                bir.append(born_adm_disch(file_)[0])\r\n",
        "                ad.append(born_adm_disch(file_)[1])\r\n",
        "                dis.append(born_adm_disch(file_)[2])\r\n",
        "                dgs_.append(diagnosis_dirty((file_)))\r\n",
        "                crp_.append(crp(file_))\r\n",
        "                sex_.append(gender(file_))\r\n",
        "                ldh_.append(ldh(file_))\r\n",
        "                crea_.append(cre(file_))\r\n",
        "                hgb_.append(hgb(file_))\r\n",
        "                wbc_.append(wbc(file_))\r\n",
        "                plt_.append(plt(file_))\r\n",
        "                rf_.append(rf(file_))\r\n",
        "                alt_.append(alt(file_))\r\n",
        "                ast_.append(ast(file_))\r\n",
        "                pct_.append(pct(file_))\r\n",
        "    except:\r\n",
        "        print('stp')"
      ],
      "execution_count": 5,
      "outputs": []
    },
    {
      "cell_type": "code",
      "metadata": {
        "id": "mX118PEvBhch"
      },
      "source": [
        "diagnosis_cleaned =  []\r\n",
        "for diagnos in dgs_:\r\n",
        "    try:\r\n",
        "        diagnosis_cleaned.append(' '.join(diagnos))\r\n",
        "    except:\r\n",
        "        diagnosis_cleaned.append('None')\r\n",
        "        \r\n",
        "        \r\n",
        "        \r\n",
        "PUNCT_TO_REMOVE = string.punctuation\r\n",
        "def remove_punctuation(text):\r\n",
        "    \"\"\"custom function to remove the punctuation\"\"\"\r\n",
        "    return text.translate(str.maketrans('', '', PUNCT_TO_REMOVE))\r\n",
        "\r\n",
        "\r\n",
        "\r\n",
        "\r\n",
        "\r\n",
        "list_wo_punct = []\r\n",
        "for sent in diagnosis_cleaned:\r\n",
        "    try:\r\n",
        "        sent = remove_punctuation(sent.lower())\r\n",
        "        list_wo_punct.append(sent)\r\n",
        "    except:\r\n",
        "        pass\r\n",
        "        \r\n"
      ],
      "execution_count": 6,
      "outputs": []
    },
    {
      "cell_type": "code",
      "metadata": {
        "id": "wrJHpXKnBhh2"
      },
      "source": [
        "covid_list = []    \r\n",
        "for sent in list_wo_punct:\r\n",
        "    pattern = re.sub(r'covid19', 'covid', sent )\r\n",
        "    pattern = re.sub(r'коронавирусная', 'covid', pattern)\r\n",
        "    pattern = re.sub(r'короновирусная', 'covid', pattern)\r\n",
        "    pattern = re.sub(r'b342', 'covid', pattern)\r\n",
        "    pattern = re.sub(r'sarscov2', 'covid', pattern)\r\n",
        "    pattern = re.sub(r'торсков2', 'covid', pattern)\r\n",
        "    pattern_1 = re.compile(r'covid')\r\n",
        "    patt_2 = re.search(pattern_1, pattern)\r\n",
        "    try:\r\n",
        "        covid_list.append(patt_2)\r\n",
        "    except:\r\n",
        "        pass\r\n",
        "    \r\n",
        "    \r\n",
        "c =[]\r\n",
        "#если есть коронавирусная инфекция - 1, иначе - 0\r\n",
        "for i in covid_list:\r\n",
        "    if not i:\r\n",
        "        c.append(0)\r\n",
        "    else:\r\n",
        "        c.append(1) "
      ],
      "execution_count": 7,
      "outputs": []
    },
    {
      "cell_type": "code",
      "metadata": {
        "id": "lR3TXAM7CNLv"
      },
      "source": [
        "pn_list = []\r\n",
        "for sent in list_wo_punct:\r\n",
        "    pattern = re.sub(r'пневмония', 'J18', sent )\r\n",
        "    pattern = re.sub(r'пне...ния', 'J18', pattern)\r\n",
        "    pattern = re.sub(r'внегоспитальная', 'J18', pattern)\r\n",
        "    pattern = re.sub(r'внебольничная', 'J18', pattern)\r\n",
        "    pattern_1 = re.compile(r'J18')\r\n",
        "    patt_2 = re.search(pattern_1, pattern)\r\n",
        "    try:\r\n",
        "        pn_list.append(patt_2)\r\n",
        "    except:\r\n",
        "        pass  \r\n",
        "    \r\n",
        "    \r\n",
        "p = []\r\n",
        "# если есть пневмония - 1, иначе - 0\r\n",
        "for i in pn_list:\r\n",
        "    if not i:\r\n",
        "        p.append(0)\r\n",
        "    else:\r\n",
        "        p.append(1)"
      ],
      "execution_count": 8,
      "outputs": []
    },
    {
      "cell_type": "code",
      "metadata": {
        "id": "naVYVgYpDgt7",
        "colab": {
          "base_uri": "https://localhost:8080/"
        },
        "outputId": "ed970a69-31d7-459a-f51a-9e33e270cbb6"
      },
      "source": [
        "ihd_list = []\r\n",
        "for sent in list_wo_punct:\r\n",
        "    pattern = re.sub(r'ссн', 'ИБС', sent )\r\n",
        "    pattern = re.sub(r'ибс', 'ИБС', pattern)\r\n",
        "    pattern = re.sub(r'атеросклеротический', 'ИБС', pattern)\r\n",
        "    pattern = re.sub(r'кардиосклероз', 'ИБС', pattern)\r\n",
        "    pattern = re.sub(r'фп', 'ИБС', pattern)\r\n",
        "    pattern = re.sub(r'фибрил....', 'ИБС', pattern)\r\n",
        "    pattern_1 = re.compile(r'ИБС')\r\n",
        "    patt_2 = re.search(pattern_1, pattern)\r\n",
        "    try:\r\n",
        "        ihd_list.append(patt_2)\r\n",
        "    except:\r\n",
        "        pass  \r\n",
        "# итого, обработаны все возможные паттерны    \r\n",
        "    \r\n",
        "ihd = []\r\n",
        "\r\n",
        "for i in ihd_list:\r\n",
        "    if not i:\r\n",
        "        ihd.append(0)\r\n",
        "    else:\r\n",
        "        ihd.append(1)\r\n",
        "\r\n",
        "d = {}\r\n",
        "for i in ihd:\r\n",
        "    d[i]=d.get(i, 0)+1\r\n",
        "d"
      ],
      "execution_count": 9,
      "outputs": [
        {
          "output_type": "execute_result",
          "data": {
            "text/plain": [
              "{0: 1253, 1: 978}"
            ]
          },
          "metadata": {
            "tags": []
          },
          "execution_count": 9
        }
      ]
    },
    {
      "cell_type": "code",
      "metadata": {
        "colab": {
          "base_uri": "https://localhost:8080/"
        },
        "id": "1uobHqWlDC3T",
        "outputId": "1c73c2a0-88fa-4b4b-f79e-5d90a90f66af"
      },
      "source": [
        "dm_list = []\r\n",
        "for sent in list_wo_punct:\r\n",
        "    pattern = re.sub(r'сд', 'СД', sent )\r\n",
        "    pattern = re.sub(r'сах.....', 'СД', pattern)\r\n",
        "    pattern = re.sub(r'д.абет', 'СД', pattern)\r\n",
        "    pattern_1 = re.compile(r'СД')\r\n",
        "    patt_2 = re.search(pattern_1, pattern)\r\n",
        "    try:\r\n",
        "        dm_list.append(patt_2)\r\n",
        "    except:\r\n",
        "        pass  \r\n",
        "    \r\n",
        "dm_ = []\r\n",
        "\r\n",
        "for i in dm_list:\r\n",
        "    if not i:\r\n",
        "        dm_.append(0)\r\n",
        "    else:\r\n",
        "        dm_.append(1)\r\n",
        "        \r\n",
        "d = {}\r\n",
        "for i in dm_:\r\n",
        "    d[i]=d.get(i, 0)+1\r\n",
        "d"
      ],
      "execution_count": 10,
      "outputs": [
        {
          "output_type": "execute_result",
          "data": {
            "text/plain": [
              "{0: 2102, 1: 129}"
            ]
          },
          "metadata": {
            "tags": []
          },
          "execution_count": 10
        }
      ]
    },
    {
      "cell_type": "code",
      "metadata": {
        "id": "ERpLma1lDC9u",
        "colab": {
          "base_uri": "https://localhost:8080/"
        },
        "outputId": "2c981f91-2a6b-465d-fbcd-90fc418d63d6"
      },
      "source": [
        "obes_list = []\r\n",
        "for sent in list_wo_punct:\r\n",
        "    pattern = re.sub(r'ожир.н..', 'ОЖИРЕНИЕ', sent )\r\n",
        "    pattern = re.sub(r'.нжо.', 'ОЖИРЕНИЕ', pattern)\r\n",
        "    \r\n",
        "    #pattern = re.sub(r'торсков2', 'covid', pattern)\r\n",
        "    pattern_1 = re.compile(r'ОЖИРЕНИЕ')\r\n",
        "    patt_2 = re.search(pattern_1, pattern)\r\n",
        "    #patt_2 = pattern_1.findall(''.join(pattern.split()))\r\n",
        "    try:\r\n",
        "        obes_list.append(patt_2)\r\n",
        "    except:\r\n",
        "        pass  \r\n",
        "    \r\n",
        "ob_ = []\r\n",
        "\r\n",
        "for i in obes_list:\r\n",
        "    if not i:\r\n",
        "        ob_.append(0)\r\n",
        "    else:\r\n",
        "        ob_.append(1)\r\n",
        "    \r\n",
        "d = {}\r\n",
        "for i in ob_:\r\n",
        "    d[i]=d.get(i, 0)+1\r\n",
        "d"
      ],
      "execution_count": 11,
      "outputs": [
        {
          "output_type": "execute_result",
          "data": {
            "text/plain": [
              "{0: 2119, 1: 112}"
            ]
          },
          "metadata": {
            "tags": []
          },
          "execution_count": 11
        }
      ]
    },
    {
      "cell_type": "code",
      "metadata": {
        "id": "McJhrJErEdIr",
        "colab": {
          "base_uri": "https://localhost:8080/"
        },
        "outputId": "5784043b-4bf2-49c6-fd0f-2f652dcc3d68"
      },
      "source": [
        "copd_list = []\r\n",
        "for sent in list_wo_punct:\r\n",
        "    pattern = re.sub(r'хобл', 'ХОБЛ', sent )\r\n",
        "    pattern = re.sub(r'другая обструктивная', 'ХОБЛ', pattern)\r\n",
        "    pattern = re.sub(r'j44', 'ХОБЛ', pattern)\r\n",
        "    pattern_1 = re.compile(r'ХОБЛ')\r\n",
        "    patt_2 = re.search(pattern_1, pattern)\r\n",
        "    try:\r\n",
        "        copd_list.append(patt_2)\r\n",
        "    except:\r\n",
        "        pass  \r\n",
        "\r\n",
        "\r\n",
        "copd_ = []\r\n",
        "for i in copd_list:\r\n",
        "    if not i:\r\n",
        "        copd_.append(0)\r\n",
        "    else:\r\n",
        "        copd_.append(1)    \r\n",
        "        \r\n",
        "d = {}\r\n",
        "for i in copd_:\r\n",
        "    d[i] = d.get(i, 0) + 1\r\n",
        "d"
      ],
      "execution_count": 12,
      "outputs": [
        {
          "output_type": "execute_result",
          "data": {
            "text/plain": [
              "{0: 1837, 1: 394}"
            ]
          },
          "metadata": {
            "tags": []
          },
          "execution_count": 12
        }
      ]
    },
    {
      "cell_type": "code",
      "metadata": {
        "colab": {
          "base_uri": "https://localhost:8080/"
        },
        "id": "ylvSJO2HElU8",
        "outputId": "569675a5-4a04-405d-d45d-fea5861ea35d"
      },
      "source": [
        "ba_list = []\r\n",
        "for sent in list_wo_punct:\r\n",
        "  pattern = re.sub(r'бронхиальная', 'БА', sent )\r\n",
        "  pattern = re.sub(r'частично контролируемая', 'БА', pattern)\r\n",
        "  pattern = re.sub(r'\\sба\\s', 'БА', pattern )\r\n",
        "  pattern = re.sub(r'неконтролируемая', 'БА', pattern )\r\n",
        "  pattern_1 = re.compile(r'БА')\r\n",
        "  pattern_2 = re.search(pattern_1, pattern)\r\n",
        "  try:\r\n",
        "    ba_list.append(pattern_2)\r\n",
        "  except:\r\n",
        "    pass\r\n",
        "ba = []\r\n",
        "for i in ba_list:\r\n",
        "    if not i:\r\n",
        "        ba.append(0)\r\n",
        "    else:\r\n",
        "        ba.append(1)\r\n",
        "\r\n",
        "d = {}\r\n",
        "for i in ba:\r\n",
        "    d[i] = d.get(i, 0) + 1\r\n",
        "d"
      ],
      "execution_count": 24,
      "outputs": [
        {
          "output_type": "execute_result",
          "data": {
            "text/plain": [
              "{0: 2071, 1: 160}"
            ]
          },
          "metadata": {
            "tags": []
          },
          "execution_count": 24
        }
      ]
    },
    {
      "cell_type": "code",
      "metadata": {
        "id": "GO3XJ40-E9QW",
        "colab": {
          "base_uri": "https://localhost:8080/"
        },
        "outputId": "2ecd70bd-adc5-410d-c350-917a77181920"
      },
      "source": [
        "# нас интересует самый высокий уроведь ДН, т.к. у пациента при поступлении ДН может быть 2, а при выписке - 0,\r\n",
        "# о тяжести пациента мы будем судить по наибольшему значению\r\n",
        "rfl = []\r\n",
        "for i in rf_:\r\n",
        "    if i:\r\n",
        "        rfl.append(max(np.float_(i)))\r\n",
        "    else:\r\n",
        "        rfl.append(0)\r\n",
        "\r\n",
        "d = {}\r\n",
        "for i in rfl:\r\n",
        "    d[i] = d.get(i, 0) + 1\r\n",
        "d"
      ],
      "execution_count": 14,
      "outputs": [
        {
          "output_type": "execute_result",
          "data": {
            "text/plain": [
              "{0: 1009, 1.0: 665, 2.0: 534, 3.0: 23}"
            ]
          },
          "metadata": {
            "tags": []
          },
          "execution_count": 14
        }
      ]
    },
    {
      "cell_type": "code",
      "metadata": {
        "id": "BvQSgiPvFj1r"
      },
      "source": [
        "gr_list = []\r\n",
        "for sent in list_wo_punct:\r\n",
        "  pattern = re.sub(r'среднетяж.л..', '', sent)\r\n",
        "  pattern = re.sub(r'ср.тяж.', '', sent)\r\n",
        "  pattern = re.sub(r'нетяж.л..', '', pattern)\r\n",
        "  pattern_1 = re.compile(r'тяж.л..')\r\n",
        "  pattern_2 = re.search(pattern_1, pattern)\r\n",
        "  try:\r\n",
        "    gr_list.append(pattern_2)\r\n",
        "  except:\r\n",
        "    pass"
      ],
      "execution_count": 15,
      "outputs": []
    },
    {
      "cell_type": "code",
      "metadata": {
        "colab": {
          "base_uri": "https://localhost:8080/"
        },
        "id": "zjHjWNVYFgBH",
        "outputId": "b44bd98e-550d-4c6b-9862-8d70abb39b3f"
      },
      "source": [
        "g = []\r\n",
        "for i in gr_list:\r\n",
        "    if not i:\r\n",
        "        g.append(0)\r\n",
        "    else:\r\n",
        "        g.append(1)\r\n",
        "d = {}\r\n",
        "for i in g:\r\n",
        "    d[i] = d.get(i, 0) + 1\r\n",
        "d"
      ],
      "execution_count": 16,
      "outputs": [
        {
          "output_type": "execute_result",
          "data": {
            "text/plain": [
              "{0: 2017, 1: 214}"
            ]
          },
          "metadata": {
            "tags": []
          },
          "execution_count": 16
        }
      ]
    },
    {
      "cell_type": "code",
      "metadata": {
        "id": "ClMAecNSFsos"
      },
      "source": [
        "# задаём словарь, в котором ключ - истинное название препарата, а значения - варианты названий ( коммерческих) и\r\n",
        "# названия с ошибками для обработки с помощью регулярных выражений\r\n",
        "\r\n",
        "dict_treatment = {'лизиноприл':'л.з.....ил|лизитар|лизинеоприл', \r\n",
        "                  'цефтриаксон':'три.....ф|цефт.....он|цефтриакосн', \r\n",
        "                   \"метопролол\":\"мет.....ол|эгилок\", \r\n",
        "                  \"фраксипарин\":\"фра......ин\",\r\n",
        "                  'тейкопланин': \"тей......ин.\",\r\n",
        "                  \"амброксол\": \"аброкол|амброко.|амб......|амброксолс|амброкосл|амброксолл|амброксолл|аброксол|амброксолл\", \r\n",
        "                  \"моксифлоксацин\": 'пле....кс.|мокс.......цин',\r\n",
        "                  \"молсидомин\":\"м.лсид...н\",\r\n",
        "                  \"спиронолактон\":\"сп.р.......он.|верош....н\",\r\n",
        "                 \"бисопролол\":\"б.с.пр..ол|бисопралдол|бикард|конкор\", \r\n",
        "                  \"лансопрозол\": \"лан......ол|ланс.зол\",\r\n",
        "                 \"меропенем\":\"мер....ем\",\r\n",
        "                  \"аторвастатин\": \"липромак|аторв.......\",\r\n",
        "                 \"дексаметазон\": \"декс.......н|дексаетазон\",\r\n",
        "                 \"левофлоксацин\": \"лев.......цин\",\r\n",
        "                 \"омепразол\": \"омез|омепр..ол\",\r\n",
        "                 \"азитромицин\": \"азит.......\",\r\n",
        "                 \"кандесартан\": \"к.с.рк\",\r\n",
        "                 \"амоксициллин\": \"амоксицилин|амо........н\",\r\n",
        "                 \"озельтамивир\": \"флустоп|озел.......р\",\r\n",
        "                 \"эноксапарин\": \"клексан|кл...ан\",\r\n",
        "                 \"имепенем\": \"им....ем\",\r\n",
        "                 \"клопидогрел\": \"клопидогрель|плавикс|клорпидогрель\",\r\n",
        "                 \"аспикард\": \"аспкиард|кардиомагнил|ас....рд\",\r\n",
        "                 \"амлодипин\":\"амл....ин\",\r\n",
        "                 \"амикацин\": \"ам.к...н\",\r\n",
        "                 \"индапамид\": \"индап|инд.....д\",\r\n",
        "                 \"беродуал\": \"бер.дуал|ипратропия.бромид\",\r\n",
        "                 \"ацетилцистеин\": \"ацецемед|асс|ацц|ацемед|ацецезон\",\r\n",
        "                 \"парацетамол\": \"парац.....л\",\r\n",
        "                 \"гидроксихлорохин\": \"плаквенил|имар.|иммар.\",\r\n",
        "                 \"метилпреднизолон\": \"медрол|м.дрол|метипред|диметилпреднизолон\",\r\n",
        "                 \"теофиллин\": \"теофилин|теотард|теофилл\",\r\n",
        "                 \"кларитромицин\": \"кларибацин|кла.......цин\",\r\n",
        "                 \"лозартан\": \"лазртан|л...ртан|л.риста\",\r\n",
        "                 \"валсартан\": \"валозартан|валз|вал....ан\",\r\n",
        "                 \"моксонидин\": \"м.кс.н.дин\",\r\n",
        "                 \"амиодарон\": \"ами.д.р.н|к.рд.рон\",\r\n",
        "                 \"полимиксин\": \"колистин|колистат|к.л.стат\",\r\n",
        "                 \"преднизолон\": \"преднезолон|пре.н.з.лон\",\r\n",
        "                 \"рамиприл\": \"рам.л...|рам.прил\",\r\n",
        "                 \"карбомазепин\": \"карб.м.з.п.н\",\r\n",
        "                 \"кетаролак\": \"кет.р.лак|кет.рол|кет.н.в\",\r\n",
        "                 \"гентамицин\": \"г.нт.мицин\",\r\n",
        "                 \"цефепим\": \"ц.ф.пим\",\r\n",
        "                 \"цефоперазон/сульбактам\": \"цеф.пер.зон|цеф.пер.зон.су.......\",\r\n",
        "                 \"тайгециклин\": \"тиг.циклин|та.г.циклин\",\r\n",
        "                 \"зопиклон\": \"з.п.клон|соне.|соне.с\"}\r\n",
        "\r\n",
        "cleaned_treatment = []\r\n",
        "for words in tr:\r\n",
        "    try:\r\n",
        "        for i, j in dict_treatment.items():\r\n",
        "            words = re.sub(j, i, words.lower())\r\n",
        "\r\n",
        "        cleaned_treatment.append(words)\r\n",
        "    except:\r\n",
        "        cleaned_treatment.append(\"None\")\r\n",
        "        \r\n",
        "        \r\n",
        "        "
      ],
      "execution_count": 17,
      "outputs": []
    },
    {
      "cell_type": "code",
      "metadata": {
        "colab": {
          "base_uri": "https://localhost:8080/"
        },
        "id": "r0zzq0vgGjmb",
        "outputId": "13b73a80-5d23-4e7e-9b31-f3880a1af4e3"
      },
      "source": [
        "initial_pct = []\r\n",
        "max_pct = []\r\n",
        "try:\r\n",
        "    for pct in pct_:\r\n",
        "        if pct != 'None':\r\n",
        "            initial_pct.append(pct[0])\r\n",
        "            max_pct.append(max(pct))\r\n",
        "        else:\r\n",
        "            initial_pct.append(0)\r\n",
        "            max_pct.append(0)\r\n",
        "            \r\n",
        "except:\r\n",
        "    initial_pct.append(0)\r\n",
        "    max_pct.append(0)"
      ],
      "execution_count": 18,
      "outputs": [
        {
          "output_type": "stream",
          "text": [
            "/usr/local/lib/python3.6/dist-packages/ipykernel_launcher.py:5: FutureWarning: elementwise comparison failed; returning scalar instead, but in the future will perform elementwise comparison\n",
            "  \"\"\"\n"
          ],
          "name": "stderr"
        }
      ]
    },
    {
      "cell_type": "code",
      "metadata": {
        "id": "eou-8wBLqSSc"
      },
      "source": [
        "initial_pct_ = list(map(lambda x: x / 100 if x > 5 else x, initial_pct))\r\n",
        "max_pct_ = list(map(lambda x: x / 100 if x > 5 else x, max_pct))"
      ],
      "execution_count": 19,
      "outputs": []
    },
    {
      "cell_type": "code",
      "metadata": {
        "id": "yLjom9KVGD6t"
      },
      "source": [
        "ind_4_ab = []\r\n",
        "for pct_i  in  max_pct_:\r\n",
        "    if pct_i > .49:\r\n",
        "        ind_4_ab.append(1)\r\n",
        "    else:\r\n",
        "        ind_4_ab.append(0)"
      ],
      "execution_count": 20,
      "outputs": []
    },
    {
      "cell_type": "code",
      "metadata": {
        "id": "YaqQ3FpQI1Wi"
      },
      "source": [
        ""
      ],
      "execution_count": null,
      "outputs": []
    }
  ]
}
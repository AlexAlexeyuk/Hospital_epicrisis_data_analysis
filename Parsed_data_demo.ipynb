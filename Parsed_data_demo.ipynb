{
  "nbformat": 4,
  "nbformat_minor": 0,
  "metadata": {
    "kernelspec": {
      "display_name": "Python 3",
      "language": "python",
      "name": "python3"
    },
    "language_info": {
      "codemirror_mode": {
        "name": "ipython",
        "version": 3
      },
      "file_extension": ".py",
      "mimetype": "text/x-python",
      "name": "python",
      "nbconvert_exporter": "python",
      "pygments_lexer": "ipython3",
      "version": "3.8.5"
    },
    "colab": {
      "name": "Parsed_data.ipynb",
      "provenance": [],
      "include_colab_link": true
    }
  },
  "cells": [
    {
      "cell_type": "markdown",
      "metadata": {
        "id": "view-in-github",
        "colab_type": "text"
      },
      "source": [
        "<a href=\"https://colab.research.google.com/github/AlexAlexeyuk/Hospital_epicrisis_data_analysis/blob/main/Parsed_data_demo.ipynb\" target=\"_parent\"><img src=\"https://colab.research.google.com/assets/colab-badge.svg\" alt=\"Open In Colab\"/></a>"
      ]
    },
    {
      "cell_type": "code",
      "metadata": {
        "id": "Q7jXvQEoQwFQ"
      },
      "source": [
        "import os\n",
        "import pandas as pd\n",
        "import glob\n",
        "import re"
      ],
      "execution_count": 31,
      "outputs": []
    },
    {
      "cell_type": "code",
      "metadata": {
        "id": "uyoZMS0QQwFc"
      },
      "source": [
        "class Utils():\n",
        "    root_directory = os.chdir('/content/Untitled Folder')# input path\n",
        "    list_of_files = glob.glob('**/*.txt', recursive=True)\n",
        "    invalid_parsing = []\n",
        "    trash = ['Волковыск-1.txt','Волковыск.txt','Вороново-1.txt',\n",
        "         'Вороново.txt', 'Черновик-1.txt', 'Черновик.txt']\n",
        "    for file in list_of_files:\n",
        "        try:\n",
        "             with open(file, encoding='utf-8') as f:\n",
        "                    num = f.readline()\n",
        "                    file_ = f.read()\n",
        "                    if num and file_:\n",
        "                        pass\n",
        "        except:\n",
        "            invalid_parsing.append(file)\n",
        "    for i in invalid_parsing:\n",
        "        list_of_files.remove(i)\n",
        "    # for i in trash: \n",
        "    #     list_of_files.remove(i)\n"
      ],
      "execution_count": 32,
      "outputs": []
    },
    {
      "cell_type": "code",
      "metadata": {
        "id": "j9l8T2iPQwFe"
      },
      "source": [
        "list_of_files = Utils.list_of_files"
      ],
      "execution_count": 33,
      "outputs": []
    },
    {
      "cell_type": "code",
      "metadata": {
        "id": "1jZJVAdrQwFf"
      },
      "source": [
        "plt_ = []\n",
        "wbc_ = []\n",
        "hgb_ = []\n",
        "crea_ = []\n",
        "ldh_ = []\n",
        "sex_ = []\n",
        "crp_ = []\n",
        "tr = []\n",
        "bir = []\n",
        "ad = []\n",
        "dis = []\n",
        "ID_ = []\n",
        "dgs_ = []"
      ],
      "execution_count": 34,
      "outputs": []
    },
    {
      "cell_type": "code",
      "metadata": {
        "id": "p4-6ztYUQwFg"
      },
      "source": [
        "def ID(num):\n",
        "  \"\"\"returns ID of the patient\"\"\"\n",
        "  for i in num.split():\n",
        "    for char in i.split():\n",
        "        if char.isnumeric():\n",
        "            try:\n",
        "                return int(char)\n",
        "            except:\n",
        "                return 'None'\n"
      ],
      "execution_count": 35,
      "outputs": []
    },
    {
      "cell_type": "code",
      "metadata": {
        "id": "RuaDJp2XQwFh"
      },
      "source": [
        "def treatment(file_):\n",
        "  \"\"\" returns srting of remedies used for the patient \"\"\"\n",
        "  for line in file_.split('\\n'):\n",
        "    if re.search('лечение', line):  # Does the same thing as \"if 'hello' in line:\"\n",
        "        return(line.replace('Проведенное лечение:', '').replace('ЛФК', '').replace('ФТЛ', ''))"
      ],
      "execution_count": 36,
      "outputs": []
    },
    {
      "cell_type": "code",
      "metadata": {
        "id": "7hf_92HRQwFi"
      },
      "source": [
        "def born_adm_disch(file_):\n",
        "    \"\"\" finds all nessesary dates in the epicrisis\"\"\"\n",
        "    pattern = re.compile(\"(\\d{2}).(\\d{2}).(\\d{4})\") # check all dates\n",
        "    birthday, admission = pattern.findall(file_)[:2]\n",
        "    discharging = pattern.findall(file_)[-1]\n",
        "    try:\n",
        "        return ':'.join(birthday), ':'.join(admission), ':'.join(discharging)\n",
        "    except:\n",
        "        return 'None'"
      ],
      "execution_count": 37,
      "outputs": []
    },
    {
      "cell_type": "code",
      "metadata": {
        "id": "OLsFdWDVQwFj"
      },
      "source": [
        "pattern_diagnosis = ['Диагноз:','Диагноз клинический:','Диагноз', 'Д-з:', \"Диагноз заключительный:\"]\n",
        "def diagnosis_dirty(file_):\n",
        "  int_=0\n",
        "  for i in file_.split():\n",
        "    int_ += 1\n",
        "    if i in pattern_diagnosis:\n",
        "      return file_.split()[int_+1:int_+30]"
      ],
      "execution_count": 38,
      "outputs": []
    },
    {
      "cell_type": "code",
      "metadata": {
        "id": "fX63o6jGQwFk"
      },
      "source": [
        "def crp(file_):\n",
        "  \"\"\"returns all crp values\"\"\"\n",
        "  pattern = re.sub(r'[ЦСC]РБ', 'С-реактивныйбелок', file_)\n",
        "  pattern_1 = re.compile(r'(?:\\w\\Dреактивныйбелок|\\w\\Dреактивныйбелокдо)(\\d*.\\d+|\\d+)')\n",
        "  pattern_2 = pattern_1.findall(''.join(pattern.split()))\n",
        "  try:\n",
        "    return pattern_2\n",
        "  except:\n",
        "    return 'None'"
      ],
      "execution_count": 39,
      "outputs": []
    },
    {
      "cell_type": "code",
      "metadata": {
        "id": "wqi-tuMGQwFk"
      },
      "source": [
        "def gender(file_):\n",
        "  patt1 = re.compile(r'(?<=Ф.И.О:)[А-Я]\\w{,20}[А-Я]\\w{,20}(вич)')\n",
        "  patt2 = patt1.findall(file_)\n",
        "  try:\n",
        "    if patt2:\n",
        "      return 'male'\n",
        "    else:\n",
        "      return 'female'\n",
        "  except:\n",
        "      pass"
      ],
      "execution_count": 40,
      "outputs": []
    },
    {
      "cell_type": "code",
      "metadata": {
        "id": "JvOPFqFqQwFl"
      },
      "source": [
        "def ldh(file_):\n",
        "  file_ = file_.lower()\n",
        "  file_ = re.sub(r'[():]', '', file_)\n",
        "  file_ = re.sub(r'\\d\\d\\.\\d\\d\\.\\d{2,4}', '', file_)\n",
        "  file_ = re.sub(r'\\wактатдегидрогеназ\\w', 'лдг', file_)\n",
        "  patt1 = re.compile(r'(?<=лдг)\\d{,4}')\n",
        "  patt2 = patt1.findall(''.join(file_.split()))\n",
        "  try:\n",
        "    if patt2:\n",
        "      return patt2\n",
        "    else:\n",
        "      return 'None'\n",
        "  except:\n",
        "    pass"
      ],
      "execution_count": 41,
      "outputs": []
    },
    {
      "cell_type": "code",
      "metadata": {
        "id": "ZP36rr0-QwFm"
      },
      "source": [
        "def cre(file_):\n",
        "  \"\"\"Returns all creatinine values\"\"\"\n",
        "  file_ = file_.lower()\n",
        "  file_ = re.sub(r'[():]', '', file_)\n",
        "  file_ = re.sub(r'\\d\\d\\.\\d\\d\\.\\d{2,4}', '', file_)\n",
        "  file_ = re.sub(r'(\\wреатини\\w|креатин|креат)(?![а-яА-Я,])', 'cre', file_)\n",
        "  patt1 = re.compile(r'(?<=cre)\\d{,3}')\n",
        "  patt2 = patt1.findall(''.join(file_.split()))\n",
        "  try:\n",
        "    if patt2:\n",
        "      return patt2\n",
        "    else:\n",
        "      return 'None'\n",
        "  except:\n",
        "    pass"
      ],
      "execution_count": 42,
      "outputs": []
    },
    {
      "cell_type": "code",
      "metadata": {
        "id": "tEc1WlfaQwFm"
      },
      "source": [
        "def hgb(file_):\n",
        "  \"\"\"returns list of str with level of hemoglobin\"\"\"\n",
        "  file_ = file_.lower()\n",
        "  file_ = re.sub(r'[():]', '', file_)\n",
        "  patt = re.compile(r'гемоглобин|гемогл|гб|гем')\n",
        "  patt1 = re.sub(patt, r'hgb', file_)\n",
        "  patt2 = re.compile(r'(?<=hgb)\\d{2,3}')\n",
        "  all_hgb = patt2.findall(''.join(patt1.split()))\n",
        "  try:\n",
        "    if all_hgb:\n",
        "      return all_hgb\n",
        "    else:\n",
        "      return 'None'\n",
        "  except:\n",
        "    pass"
      ],
      "execution_count": 43,
      "outputs": []
    },
    {
      "cell_type": "code",
      "metadata": {
        "id": "kUX29zNVQwFm"
      },
      "source": [
        "def wbc(file_):\n",
        "  \"\"\"returns list of str with level of wbc\"\"\"\n",
        "  file_ = file_.lower()\n",
        "  patt1 = re.sub(r'[():]', '', file_)\n",
        "  patt1 = re.sub(r'10(\\*|[еe])9', '', patt1)\n",
        "  patt1 = re.sub(r'\\Dбщийанализкрови', 'оак', patt1) \n",
        "  patt2 = re.sub(r'(?<=оак)\\d\\d.\\d\\d.\\d{2,4}|(?<=оак)\\d\\d.\\d\\d', '', patt1)\n",
        "  patt3 = re.compile(r'(?<=оак|wbc)(?:л|лейкоцит\\w)(\\d*.\\d+|\\d+)')\n",
        "  all_wbc = patt3.findall(''.join(patt2.split()))\n",
        "  try:\n",
        "    if all_wbc:\n",
        "      return all_wbc\n",
        "    else:\n",
        "      return 'None'\n",
        "  except:\n",
        "    pass"
      ],
      "execution_count": 44,
      "outputs": []
    },
    {
      "cell_type": "code",
      "metadata": {
        "id": "LAbMm_ipQwFn"
      },
      "source": [
        "def plt(file_):\n",
        "  \"\"\"returns list of str with level of plt\"\"\"\n",
        "  file_ = file_.lower()\n",
        "  file_ = re.sub(r'[():]', '', file_)\n",
        "  file_ = re.sub(r'10(\\*|[еe])9', '', file_)\n",
        "  patt2 = re.compile(r'(?:\\wромбоцит\\w|тр)')\n",
        "  patt1 = re.sub(patt2, '', file_)\n",
        "  patt1 = ''.join(patt1.split())\n",
        "  patt2 = re.compile(r'(?<=plt)\\d{3}')\n",
        "  all_plt = patt2.findall(patt1)\n",
        "  try:\n",
        "    if all_plt:\n",
        "      return all_plt\n",
        "    else:\n",
        "      return 'None'\n",
        "  except:\n",
        "    pass"
      ],
      "execution_count": 45,
      "outputs": []
    },
    {
      "cell_type": "code",
      "metadata": {
        "id": "aNI7CxgvQwFp"
      },
      "source": [
        "for file in list_of_files:\n",
        "    try:\n",
        "         with open(file, encoding='utf-8') as f:\n",
        "                num = f.readline()\n",
        "                file_ = f.read()\n",
        "                ID_.append(ID((num)))\n",
        "                tr.append(treatment((file_)))\n",
        "                bir.append(born_adm_disch(file_)[0])\n",
        "                ad.append(born_adm_disch(file_)[1])\n",
        "                dis.append(born_adm_disch(file_)[2])\n",
        "                dgs_.append(diagnosis_dirty((file_)))\n",
        "                crp_.append(crp(''.join(file_.split())))\n",
        "                sex_.append(gender(''.join(file_.split())))\n",
        "                ldh_.append(ldh(file_))\n",
        "                crea_.append(cre(file_))\n",
        "                hgb_.append(hgb(file_))\n",
        "                wbc_.append(wbc(file_))\n",
        "                plt_.append(plt(file_))\n",
        "    except:\n",
        "        print(file)"
      ],
      "execution_count": 46,
      "outputs": []
    },
    {
      "cell_type": "code",
      "metadata": {
        "id": "e3c7CdbSRoIR"
      },
      "source": [
        "import string\r\n",
        "PUNCT_TO_REMOVE = string.punctuation\r\n",
        "def remove_punctuation(text):\r\n",
        "    \"\"\"custom function to remove the punctuation\"\"\"\r\n",
        "    return text.translate(str.maketrans('', '', PUNCT_TO_REMOVE))"
      ],
      "execution_count": 48,
      "outputs": []
    },
    {
      "cell_type": "code",
      "metadata": {
        "id": "4sT5CNLKRoO_"
      },
      "source": [
        "diagnosis_cleaned =  []\r\n",
        "for diagnos in dgs_:\r\n",
        "    try:\r\n",
        "        diagnosis_cleaned.append(' '.join(diagnos))\r\n",
        "    except:\r\n",
        "        diagnosis_cleaned.append('None')"
      ],
      "execution_count": 30,
      "outputs": []
    },
    {
      "cell_type": "code",
      "metadata": {
        "id": "wX3S-5PfRoRK"
      },
      "source": [
        ""
      ],
      "execution_count": null,
      "outputs": []
    },
    {
      "cell_type": "code",
      "metadata": {
        "id": "7gE-0I-vRoS4"
      },
      "source": [
        ""
      ],
      "execution_count": null,
      "outputs": []
    },
    {
      "cell_type": "code",
      "metadata": {
        "id": "yKX4mymaRoU3"
      },
      "source": [
        ""
      ],
      "execution_count": null,
      "outputs": []
    },
    {
      "cell_type": "code",
      "metadata": {
        "id": "1HD5YySuRoWd"
      },
      "source": [
        ""
      ],
      "execution_count": null,
      "outputs": []
    },
    {
      "cell_type": "code",
      "metadata": {
        "id": "caFDyZjNQwFr"
      },
      "source": [
        "data_dct = {'Platlets':plt_, 'Leucocytes': wbc_, 'Hemoglobin': hgb_,\n",
        "           'Creatinine': crea_, 'LDG':ldh_, 'Gender':sex_, 'CRP':crp_,\n",
        "                                  'Treatment':tr, 'Birthday': bir, \n",
        "            'Admission':ad,\n",
        "            'Discharge':dis, 'ID':ID_, 'Diagnosis': diagnosis_cleaned}"
      ],
      "execution_count": 49,
      "outputs": []
    },
    {
      "cell_type": "code",
      "metadata": {
        "id": "9ZCxCF5AQwFr"
      },
      "source": [
        "dataFrame = pd.DataFrame(data_dct)\n"
      ],
      "execution_count": 50,
      "outputs": []
    },
    {
      "cell_type": "code",
      "metadata": {
        "colab": {
          "base_uri": "https://localhost:8080/",
          "height": 289
        },
        "id": "6UPZ4HT3QwFs",
        "outputId": "16f54bfb-d16a-49ab-fd1c-30d10a61c67b"
      },
      "source": [
        "dataFrame.head()"
      ],
      "execution_count": 51,
      "outputs": [
        {
          "output_type": "execute_result",
          "data": {
            "text/html": [
              "<div>\n",
              "<style scoped>\n",
              "    .dataframe tbody tr th:only-of-type {\n",
              "        vertical-align: middle;\n",
              "    }\n",
              "\n",
              "    .dataframe tbody tr th {\n",
              "        vertical-align: top;\n",
              "    }\n",
              "\n",
              "    .dataframe thead th {\n",
              "        text-align: right;\n",
              "    }\n",
              "</style>\n",
              "<table border=\"1\" class=\"dataframe\">\n",
              "  <thead>\n",
              "    <tr style=\"text-align: right;\">\n",
              "      <th></th>\n",
              "      <th>Platlets</th>\n",
              "      <th>Leucocytes</th>\n",
              "      <th>Hemoglobin</th>\n",
              "      <th>Creatinine</th>\n",
              "      <th>LDG</th>\n",
              "      <th>Gender</th>\n",
              "      <th>CRP</th>\n",
              "      <th>Treatment</th>\n",
              "      <th>Birthday</th>\n",
              "      <th>Admission</th>\n",
              "      <th>Discharge</th>\n",
              "      <th>ID</th>\n",
              "      <th>Diagnosis</th>\n",
              "    </tr>\n",
              "  </thead>\n",
              "  <tbody>\n",
              "    <tr>\n",
              "      <th>0</th>\n",
              "      <td>[261]</td>\n",
              "      <td>[8.91]</td>\n",
              "      <td>[136]</td>\n",
              "      <td>None</td>\n",
              "      <td>None</td>\n",
              "      <td>female</td>\n",
              "      <td>[6.2]</td>\n",
              "      <td>дексаметазон , теофил , амброксол , лазартан ...</td>\n",
              "      <td>18:11:1968</td>\n",
              "      <td>12:02:2020</td>\n",
              "      <td>21:02:2020</td>\n",
              "      <td>985</td>\n",
              "      <td>Внегоспитальная пневмония в в/д справа средней...</td>\n",
              "    </tr>\n",
              "    <tr>\n",
              "      <th>1</th>\n",
              "      <td>None</td>\n",
              "      <td>[1.77]</td>\n",
              "      <td>[107]</td>\n",
              "      <td>[86]</td>\n",
              "      <td>None</td>\n",
              "      <td>female</td>\n",
              "      <td>[96]</td>\n",
              "      <td>левофлоксацин, аспикард.дезинтоксикац тер. оме...</td>\n",
              "      <td>23:06:1951</td>\n",
              "      <td>12:09:2017</td>\n",
              "      <td>15:09:2017</td>\n",
              "      <td>6026</td>\n",
              "      <td>J44 Другая хроническая обструктивная легочная ...</td>\n",
              "    </tr>\n",
              "    <tr>\n",
              "      <th>2</th>\n",
              "      <td>[384]</td>\n",
              "      <td>[6.03]</td>\n",
              "      <td>[159]</td>\n",
              "      <td>None</td>\n",
              "      <td>None</td>\n",
              "      <td>male</td>\n",
              "      <td>[6]</td>\n",
              "      <td>амброксол , флустоп , теофил , цкфтриаксон ФТ</td>\n",
              "      <td>30:08:1989</td>\n",
              "      <td>04:04:2019</td>\n",
              "      <td>12:04:2019</td>\n",
              "      <td>2141</td>\n",
              "      <td>Внегоспитальная пневмония в н/д слева средней ...</td>\n",
              "    </tr>\n",
              "    <tr>\n",
              "      <th>3</th>\n",
              "      <td>[250, 431]</td>\n",
              "      <td>[4.38, 6.62]</td>\n",
              "      <td>[149, 145]</td>\n",
              "      <td>[68]</td>\n",
              "      <td>[325]</td>\n",
              "      <td>female</td>\n",
              "      <td>[17.42, 6, 6]</td>\n",
              "      <td>флустоп, амброксол  левофлоксацин инспирон,</td>\n",
              "      <td>22:01:1973</td>\n",
              "      <td>30:11:2017</td>\n",
              "      <td>08:12:2017</td>\n",
              "      <td>7970</td>\n",
              "      <td>J18 Пневмония без уточнения возбудителя внегос...</td>\n",
              "    </tr>\n",
              "    <tr>\n",
              "      <th>4</th>\n",
              "      <td>[162, 212]</td>\n",
              "      <td>[8.7, 8.82]</td>\n",
              "      <td>[165, 161]</td>\n",
              "      <td>None</td>\n",
              "      <td>None</td>\n",
              "      <td>male</td>\n",
              "      <td>[]</td>\n",
              "      <td>цефтриаксон, левофлоксацин,амброксол.</td>\n",
              "      <td>24:12:1956</td>\n",
              "      <td>04:04:2020</td>\n",
              "      <td>14:04:2020</td>\n",
              "      <td>2015</td>\n",
              "      <td>поступлении: Внегоспитальная пневмония в нижне...</td>\n",
              "    </tr>\n",
              "  </tbody>\n",
              "</table>\n",
              "</div>"
            ],
            "text/plain": [
              "     Platlets  ...                                          Diagnosis\n",
              "0       [261]  ...  Внегоспитальная пневмония в в/д справа средней...\n",
              "1        None  ...  J44 Другая хроническая обструктивная легочная ...\n",
              "2       [384]  ...  Внегоспитальная пневмония в н/д слева средней ...\n",
              "3  [250, 431]  ...  J18 Пневмония без уточнения возбудителя внегос...\n",
              "4  [162, 212]  ...  поступлении: Внегоспитальная пневмония в нижне...\n",
              "\n",
              "[5 rows x 13 columns]"
            ]
          },
          "metadata": {
            "tags": []
          },
          "execution_count": 51
        }
      ]
    },
    {
      "cell_type": "code",
      "metadata": {
        "id": "kkj8eCdKQwFt"
      },
      "source": [
        ""
      ],
      "execution_count": null,
      "outputs": []
    }
  ]
}
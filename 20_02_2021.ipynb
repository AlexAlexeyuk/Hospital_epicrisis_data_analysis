{
  "nbformat": 4,
  "nbformat_minor": 0,
  "metadata": {
    "colab": {
      "name": "15/02/2021.ipynb",
      "provenance": [],
      "collapsed_sections": [],
      "mount_file_id": "19rArXD-659xiNBp9JEKSORwJJh_5o2Po",
      "authorship_tag": "ABX9TyNBrDs4nZA1pgFsAN3R7XAU",
      "include_colab_link": true
    },
    "kernelspec": {
      "display_name": "Python 3",
      "name": "python3"
    }
  },
  "cells": [
    {
      "cell_type": "markdown",
      "metadata": {
        "id": "view-in-github",
        "colab_type": "text"
      },
      "source": [
        "<a href=\"https://colab.research.google.com/github/AlexAlexeyuk/Hospital_epicrisis_data_analysis/blob/1%2F02%2F2021/20_02_2021.ipynb\" target=\"_parent\"><img src=\"https://colab.research.google.com/assets/colab-badge.svg\" alt=\"Open In Colab\"/></a>"
      ]
    },
    {
      "cell_type": "code",
      "metadata": {
        "id": "SBaLRwyHnaaL"
      },
      "source": [
        "import os\r\n",
        "import pandas as pd\r\n",
        "import glob\r\n",
        "import string\r\n",
        "import nltk\r\n",
        "import re\r\n",
        "import numpy as np"
      ],
      "execution_count": 96,
      "outputs": []
    },
    {
      "cell_type": "code",
      "metadata": {
        "id": "FQ4Ib5X1qQ-6"
      },
      "source": [
        "class Utils():\r\n",
        "    root_directory = os.chdir('/content/drive/MyDrive/parser')# input path\r\n",
        "    list_of_files = glob.glob('**/*.txt', recursive=True)\r\n",
        "    invalid_parsing = []\r\n",
        "    trash = ['Волковыск-1.txt','Волковыск.txt','Вороново-1.txt',\r\n",
        "         'Вороново.txt', 'Черновик-1.txt', 'Черновик.txt']\r\n",
        "    for file in list_of_files:\r\n",
        "        try:\r\n",
        "             with open(file, encoding='utf-8') as f:\r\n",
        "                    num = f.readline()\r\n",
        "                    file_ = f.read()\r\n",
        "                    if num and file_:\r\n",
        "                        pass\r\n",
        "        except:\r\n",
        "            invalid_parsing.append(file)\r\n",
        "    for i in invalid_parsing:\r\n",
        "        list_of_files.remove(i)\r\n",
        "    for i in trash: \r\n",
        "        list_of_files.remove(i)\r\n",
        "\r\n",
        "\r\n",
        "list_of_files = Utils.list_of_files\r\n"
      ],
      "execution_count": 97,
      "outputs": []
    },
    {
      "cell_type": "code",
      "metadata": {
        "id": "2QxoC7ObD_b-"
      },
      "source": [
        "plt_ = []\r\n",
        "wbc_ = []\r\n",
        "hgb_ = []\r\n",
        "crea_ = []\r\n",
        "ldh_ = []\r\n",
        "sex_ = []\r\n",
        "crp_ = []\r\n",
        "tr = []\r\n",
        "bir = []\r\n",
        "ad = []\r\n",
        "dis = []\r\n",
        "ID_ = []\r\n",
        "dgs_ = []\r\n",
        "rf_ = []\r\n",
        "alt_ = []\r\n",
        "ast_ = []\r\n",
        "pct_ = []\r\n",
        "esr_ = []\r\n",
        "fibrin_ = []"
      ],
      "execution_count": 98,
      "outputs": []
    },
    {
      "cell_type": "code",
      "metadata": {
        "id": "yBzpnM2oD3c5"
      },
      "source": [
        "def esr(file_):\r\n",
        "  file_ = ''.join(file_.split()).lower()\r\n",
        "  file_ = re.sub(r'\\d{,2}\\.\\d\\d\\.\\d{2,4}', '', file_)\r\n",
        "  patt = re.compile(r'(?<=соэ)\\d+')\r\n",
        "  patt1 = patt.findall(file_)\r\n",
        "  try:\r\n",
        "    if patt1:\r\n",
        "      return np.float_(patt1)\r\n",
        "    else:\r\n",
        "      return 'None'\r\n",
        "  except:\r\n",
        "    pass\r\n",
        "\r\n",
        "def fibrn(file_):\r\n",
        "  file_ = ''.join(file_.split()).lower()\r\n",
        "  file_ = re.sub(r'\\d{,2}\\.\\d\\d\\.\\d{2,4}', '', file_)\r\n",
        "  file_ = re.sub(r',', '.', file_)\r\n",
        "  patt = re.compile(r'(?:фибриноген|фибр\\.|фибрин|ф)(\\d+.\\d+)')\r\n",
        "  patt1 = patt.findall(file_)\r\n",
        "  try:\r\n",
        "    if patt1:\r\n",
        "      return np.float_(patt1)\r\n",
        "    else:\r\n",
        "      return 'None'\r\n",
        "  except:\r\n",
        "    pass\r\n",
        "\r\n",
        "\r\n",
        "def ID(num):\r\n",
        "  \"\"\"returns ID of the patient\"\"\"\r\n",
        "  for i in num.split():\r\n",
        "    for char in i.split():\r\n",
        "        if char.isnumeric():\r\n",
        "            try:\r\n",
        "                return int(char)\r\n",
        "            except:\r\n",
        "                return 'None'\r\n",
        "            \r\n",
        "            \r\n",
        "def treatment(file_):\r\n",
        "  \"\"\" returns srting of remedies used for the patient \"\"\"\r\n",
        "  for line in file_.split('\\n'):\r\n",
        "    if re.search('Провед.нное.лечение', line):  \r\n",
        "        return(line.replace('Проведенное лечение:', \\\r\n",
        "                            '').replace('ЛФК', '').replace('ФТЛ', ''))\r\n",
        "    \r\n",
        "\r\n",
        "def born_adm_disch(file_):\r\n",
        "    \"\"\" finds all nessesary dates in the epicrisis\"\"\"\r\n",
        "    pattern = re.compile(\"(\\d{2}).(\\d{2}).(\\d{4})\") # check all dates\r\n",
        "    birthday, admission = pattern.findall(file_)[:2]\r\n",
        "    discharging = pattern.findall(file_)[-1]\r\n",
        "    try:\r\n",
        "        return ':'.join(birthday), ':'.join(admission), ':'.join(discharging)\r\n",
        "    except:\r\n",
        "        return 'None'\r\n",
        "\r\n",
        "\r\n",
        "pattern_diagnosis = ['Диагноз:','Диагноз клинический:','Диагноз', 'Д-з:',\r\n",
        "                     \"Диагноз заключительный:\"]\r\n",
        "def diagnosis_dirty(file_):\r\n",
        "  int_ = 0\r\n",
        "  for i in file_.split():\r\n",
        "    int_ += 1\r\n",
        "    if i in pattern_diagnosis:\r\n",
        "      return file_.split()[int_+1:int_+40]    \r\n",
        "  \r\n",
        "\r\n",
        "def crp(file_):\r\n",
        "  \"\"\"returns all crp values\"\"\"\r\n",
        "  file_= ''.join(file_.split())\r\n",
        "  file_ = re.sub(r'[ЦСC]РБ|\\w\\D(реактив.|реакт.|реак.)белок', 'С-реактивныйбелок', file_)\r\n",
        "  file_ = re.sub(r'\\d{,2}\\.\\d\\d\\.\\d{2,4}', '', file_)\r\n",
        "  file_ = re.sub(r'[():]', '', file_)\r\n",
        "  file_ = re.sub(r'(?<!С-реактивныйбелок)\\d\\d\\.\\d\\d', '', file_)\r\n",
        "  file_ = re.sub(r',', '.', file_)\r\n",
        "  pattern_1 = re.compile(r'(?:\\w\\Dреактивныйбелок|\\w\\Dреактивныйбелокдо)(\\d*\\.\\d+|\\d+)')\r\n",
        "  pattern_2 = pattern_1.findall(file_)\r\n",
        "  try:\r\n",
        "    if pattern_2:\r\n",
        "      return np.float_(pattern_2)\r\n",
        "    else:\r\n",
        "      return 'None'\r\n",
        "  except:\r\n",
        "    pass\r\n",
        "\r\n",
        "\r\n",
        "def gender(file_):\r\n",
        "  file_ = file_.title()\r\n",
        "  file_ = ''.join(file_.split())\r\n",
        "  file_ = re.sub(r'Диагноз.*', '', file_)\r\n",
        "  patt1 = re.compile(r'[А-Я](\\w{,19}(\\w|\\ич))[А-Я]\\w{,20}(вна)')\r\n",
        "  patt2 = patt1.findall(file_)\r\n",
        "  try:\r\n",
        "    if patt2:\r\n",
        "      return 'female'\r\n",
        "    else:\r\n",
        "      return 'male'\r\n",
        "  except:\r\n",
        "    pass\r\n",
        "  \r\n",
        "\r\n",
        "def ldh(file_):\r\n",
        "  file_= ''.join(file_.split())\r\n",
        "  file_ = file_.lower()\r\n",
        "  file_ = re.sub(r'[():]', '', file_)\r\n",
        "  file_ = re.sub(r'\\d{,2}\\.\\d\\d\\.\\d{2,4}', '', file_)\r\n",
        "  file_ = re.sub(r'\\wактатдегидрогеназ\\w', 'лдг', file_)\r\n",
        "  file_ = re.sub(r'(?<!лдг)\\d\\d\\.\\d\\d', '', file_)\r\n",
        "  patt1 = re.compile(r'(?<=лдг)\\d{,4}')\r\n",
        "  patt2 = patt1.findall(file_)\r\n",
        "  try:\r\n",
        "    if patt2:\r\n",
        "      return np.float_(patt2)\r\n",
        "    else:\r\n",
        "      return 'None'\r\n",
        "  except:\r\n",
        "    pass\r\n",
        "\r\n",
        "\r\n",
        "\r\n",
        "def cre(file_):\r\n",
        "  \"\"\"Returns all creatinine values\"\"\"\r\n",
        "  file_= ''.join(file_.split())  \r\n",
        "  file_ = file_.lower()\r\n",
        "  file_ = re.sub(r'[():]', '', file_)\r\n",
        "  file_ = re.sub(r'\\d{,2}\\.\\d\\d\\.\\d{2,4}', '', file_)\r\n",
        "  file_ = re.sub(r'(\\wреатини\\w|креатин|креат)(?![а-яА-Я,])', 'cre', file_)\r\n",
        "  file_ = re.sub(r'(?<!cre)\\d\\d\\.\\d\\d', '', file_)\r\n",
        "  patt1 = re.compile(r'(?<=cre)\\d{2,3}')\r\n",
        "  patt2 = patt1.findall(file_)\r\n",
        "  try:\r\n",
        "    if patt2:\r\n",
        "      return np.float_(patt2)\r\n",
        "    else:\r\n",
        "      return 'None'\r\n",
        "  except:\r\n",
        "    pass\r\n",
        "\r\n",
        "\r\n",
        "def hgb(file_):\r\n",
        "  \"\"\"returns list of str with level of hemoglobin\"\"\"\r\n",
        "  file_= ''.join(file_.split())  \r\n",
        "  file_ = file_.lower()\r\n",
        "  file_ = re.sub(r'[():]', '', file_)\r\n",
        "  patt = re.compile(r'гемоглобин|гемогл|гб|гем')\r\n",
        "  patt1 = re.sub(patt, r'hgb', file_)\r\n",
        "  patt2 = re.compile(r'(?<=hgb)\\d{2,3}')\r\n",
        "  all_hgb = patt2.findall(patt1)\r\n",
        "  try:\r\n",
        "    if all_hgb:\r\n",
        "      return np.float_(all_hgb)\r\n",
        "    else:\r\n",
        "      return 'None'\r\n",
        "  except:\r\n",
        "    pass\r\n",
        "\r\n",
        "\r\n",
        "def wbc(file_):\r\n",
        "  \"\"\"returns list of str with level of wbc\"\"\"\r\n",
        "  file_= ''.join(file_.split())\r\n",
        "  file_ = file_.lower()\r\n",
        "  file_ = re.sub(r'[():]', '', file_)\r\n",
        "  file_ = re.sub(r'10(\\*|[еe])9', '', file_)\r\n",
        "  file_ = re.sub(r'\\d{,2}\\.\\d\\d\\.\\d{2,4}', '', file_)\r\n",
        "  file_ = re.sub(r'\\Dбщийанализкрови', 'оак', file_)\r\n",
        "  file_ = re.sub(r'(?<=оак)гб\\d*,', '', file_)\r\n",
        "  file_ = re.sub(r',', '.', file_)\r\n",
        "  patt1 = re.compile(r'(?<=оак|wbc)(?:л|лейкоцит\\w)(\\d*\\.\\d+|\\d+)')\r\n",
        "  all_wbc = patt1.findall(file_)\r\n",
        "  try:\r\n",
        "    if all_wbc:\r\n",
        "      return np.float_(all_wbc)\r\n",
        "    else:\r\n",
        "      return 'None'\r\n",
        "  except:\r\n",
        "    pass\r\n",
        "\r\n",
        "\r\n",
        "def plt(file_):\r\n",
        "  \"\"\"returns list of str with level of plt\"\"\"\r\n",
        "  file_= ''.join(file_.split())\r\n",
        "  file_ = file_.lower()\r\n",
        "  file_ = re.sub(r'[():]', '', file_)\r\n",
        "  file_ = re.sub(r'10(\\*|[еe])9', '', file_)\r\n",
        "  file_ = re.sub(r'\\d{,2}\\.\\d\\d\\.\\d{2,4}', '', file_)\r\n",
        "  patt1 = re.compile(r'\\wромбоцит\\w|(?<![а-яА-Я])тр(?![а-яА-Я])')\r\n",
        "  file_ = re.sub(patt1, r'plt', file_)\r\n",
        "  file_ = re.sub(r'(?<!plt)\\d\\d\\.\\d\\d', '', file_)\r\n",
        "  patt2 = re.compile(r'(?<=plt)\\d{3}')\r\n",
        "  all_plt = patt2.findall(file_)\r\n",
        "  try:\r\n",
        "    if all_plt:\r\n",
        "      return np.float_(all_plt)\r\n",
        "    else:\r\n",
        "      return 'None'\r\n",
        "  except:\r\n",
        "    pass\r\n",
        "\r\n",
        "\r\n",
        "def rf(file_):\r\n",
        "  file_= ''.join(file_.split())  \r\n",
        "  file_ = re.sub(r'[а-яА-ЯёЁ]ДН[^Шш0-9]', 'ДН'.lower(), file_)\r\n",
        "  file_ = re.sub(r'(?<=ДН)[1iI]{3}|[Шш]', '3', file_)\r\n",
        "  file_ = re.sub(r'(?<=ДН)[1iI]{2}|1-2', '2', file_)\r\n",
        "  file_ = re.sub(r'(?<=ДН)[оoОO]', '0', file_)\r\n",
        "  patt1 = re.compile(r'(?<=ДН)\\d')\r\n",
        "  patt2 = patt1.findall(file_)\r\n",
        "  try:\r\n",
        "    if patt2:\r\n",
        "      return patt2\r\n",
        "    else:\r\n",
        "      return 0\r\n",
        "  except:\r\n",
        "      return 0\r\n",
        "\r\n",
        "\r\n",
        "\r\n",
        "def alt(file_):\r\n",
        "  file_= ''.join(file_.split())\r\n",
        "  file_ = file_.lower()\r\n",
        "  file_ = re.sub(r'[():]', '', file_)\r\n",
        "  file_ = re.sub(r'\\d{,2}\\.\\d\\d\\.\\d{2,4}', '', file_)\r\n",
        "  file_ = re.sub(r'\\wланинаминотрансфераз\\w|алат', 'алт', file_)\r\n",
        "  file_ = re.sub(r'(?<!алт)\\d\\d\\.\\d\\d', '', file_)\r\n",
        "  file_ = re.sub(r',', '.', file_) \r\n",
        "  patt1 = re.compile(r'(?<=алт)(\\d*\\.\\d+|\\d+)')\r\n",
        "  patt2 = patt1.findall(file_)\r\n",
        "  try:\r\n",
        "    if patt2:\r\n",
        "      return np.float_(patt2)\r\n",
        "    else:\r\n",
        "      return 'None'\r\n",
        "  except:\r\n",
        "    pass\r\n",
        "\r\n",
        "\r\n",
        "def ast(file_):\r\n",
        "  file_= ''.join(file_.split())\r\n",
        "  file_ = file_.lower()\r\n",
        "  file_ = re.sub(r'[():]', '', file_)\r\n",
        "  file_ = re.sub(r'\\d{,2}\\.\\d\\d\\.\\d{2,4}', '', file_)\r\n",
        "  file_ = re.sub(r'\\wспартатаминотрансфераз\\w|асат', 'аст', file_)\r\n",
        "  file_ = re.sub(r'(?<!аст)\\d\\d\\.\\d\\d', '', file_)\r\n",
        "  file_ = re.sub(r',', '.', file_)\r\n",
        "  patt1 = re.compile(r'(?<=аст)(\\d*\\.\\d+|\\d+)')\r\n",
        "  patt2 = patt1.findall(file_)\r\n",
        "  try:\r\n",
        "    if patt2:\r\n",
        "      return np.float_(patt2)\r\n",
        "    else:\r\n",
        "      return 'None'\r\n",
        "  except:\r\n",
        "    pass\r\n",
        "\r\n",
        "\r\n",
        "def pct(file_):\r\n",
        "  file_= ''.join(file_.split())\r\n",
        "  file_ = file_.lower()\r\n",
        "  file_ = re.sub(r'(?<=\\,\\d)\\,|\\.\\d{2}\\.\\d\\d\\.\\d{2,4}.', '', file_)\r\n",
        "  file_ = re.sub(r'\\d{,2}\\.\\d\\d\\.\\d{2,4}(\\.|)', '', file_)\r\n",
        "  file_ = re.sub(r'[–-]|[():<>=]', '', file_)\r\n",
        "  file_ = re.sub(r'менее', '', file_)\r\n",
        "  file_ = re.sub(r'от', '', file_)\r\n",
        "  file_ = re.sub(r'(\\wрокальцитони\\w|прокальцитон|прокальцит|прокальц|рст)(?![а-яА-Я,])', 'pct', file_)\r\n",
        "  file_ = re.sub(r',', '.', file_)\r\n",
        "  patt1 = re.compile(r'(?<=pct)(\\d*\\.\\d+|\\d+)')\r\n",
        "  patt2 = patt1.findall(file_)\r\n",
        "  try:\r\n",
        "    if patt2:\r\n",
        "      return np.float_(patt2)\r\n",
        "    else:\r\n",
        "      return 'None'\r\n",
        "  except:\r\n",
        "    pass"
      ],
      "execution_count": 99,
      "outputs": []
    },
    {
      "cell_type": "code",
      "metadata": {
        "id": "nn5MGzXVCJ3i"
      },
      "source": [
        "for file in list_of_files:\r\n",
        "    try:\r\n",
        "         with open(file, encoding='utf-8') as f:\r\n",
        "                num = f.readline()\r\n",
        "                file_ = f.read()\r\n",
        "                ID_.append(ID((num)))\r\n",
        "                tr.append(treatment((file_)))\r\n",
        "                bir.append(born_adm_disch(file_)[0])\r\n",
        "                ad.append(born_adm_disch(file_)[1])\r\n",
        "                dis.append(born_adm_disch(file_)[2])\r\n",
        "                dgs_.append(diagnosis_dirty((file_)))\r\n",
        "                crp_.append(crp(file_))\r\n",
        "                sex_.append(gender(file_))\r\n",
        "                ldh_.append(ldh(file_))\r\n",
        "                crea_.append(cre(file_))\r\n",
        "                hgb_.append(hgb(file_))\r\n",
        "                wbc_.append(wbc(file_))\r\n",
        "                plt_.append(plt(file_))\r\n",
        "                rf_.append(rf(file_))\r\n",
        "                alt_.append(alt(file_))\r\n",
        "                ast_.append(ast(file_))\r\n",
        "                pct_.append(pct(file_))\r\n",
        "                esr_.append(esr(file_))\r\n",
        "                fibrin_.append(fibrn(file_))\r\n",
        "    except:\r\n",
        "        print('stp')"
      ],
      "execution_count": 100,
      "outputs": []
    },
    {
      "cell_type": "code",
      "metadata": {
        "id": "mX118PEvBhch"
      },
      "source": [
        "diagnosis_cleaned =  []\r\n",
        "for diagnos in dgs_:\r\n",
        "    try:\r\n",
        "        diagnosis_cleaned.append(' '.join(diagnos))\r\n",
        "    except:\r\n",
        "        diagnosis_cleaned.append('None')\r\n",
        "        \r\n",
        "        \r\n",
        "        \r\n",
        "PUNCT_TO_REMOVE = string.punctuation\r\n",
        "def remove_punctuation(text):\r\n",
        "    \"\"\"custom function to remove the punctuation\"\"\"\r\n",
        "    return text.translate(str.maketrans('', '', PUNCT_TO_REMOVE))\r\n",
        "\r\n",
        "\r\n",
        "\r\n",
        "\r\n",
        "\r\n",
        "list_wo_punct = []\r\n",
        "for sent in diagnosis_cleaned:\r\n",
        "    try:\r\n",
        "        sent = remove_punctuation(sent.lower())\r\n",
        "        list_wo_punct.append(sent)\r\n",
        "    except:\r\n",
        "        pass\r\n",
        "        \r\n"
      ],
      "execution_count": 101,
      "outputs": []
    },
    {
      "cell_type": "code",
      "metadata": {
        "id": "wrJHpXKnBhh2"
      },
      "source": [
        "covid_list = []    \r\n",
        "for sent in list_wo_punct:\r\n",
        "    pattern = re.sub(r'covid19', 'covid', sent )\r\n",
        "    pattern = re.sub(r'коронавирусная', 'covid', pattern)\r\n",
        "    pattern = re.sub(r'короновирусная', 'covid', pattern)\r\n",
        "    pattern = re.sub(r'b342', 'covid', pattern)\r\n",
        "    pattern = re.sub(r'sarscov2', 'covid', pattern)\r\n",
        "    pattern = re.sub(r'торсков2', 'covid', pattern)\r\n",
        "    pattern_1 = re.compile(r'covid')\r\n",
        "    patt_2 = re.search(pattern_1, pattern)\r\n",
        "    try:\r\n",
        "        covid_list.append(patt_2)\r\n",
        "    except:\r\n",
        "        pass\r\n",
        "    \r\n",
        "    \r\n",
        "c =[]\r\n",
        "#если есть коронавирусная инфекция - 1, иначе - 0\r\n",
        "for i in covid_list:\r\n",
        "    if not i:\r\n",
        "        c.append(0)\r\n",
        "    else:\r\n",
        "        c.append(1) "
      ],
      "execution_count": 102,
      "outputs": []
    },
    {
      "cell_type": "code",
      "metadata": {
        "id": "lR3TXAM7CNLv"
      },
      "source": [
        "pn_list = []\r\n",
        "for sent in list_wo_punct:\r\n",
        "    pattern = re.sub(r'пневмония', 'J18', sent )\r\n",
        "    pattern = re.sub(r'пне...ния', 'J18', pattern)\r\n",
        "    pattern = re.sub(r'внегоспитальная', 'J18', pattern)\r\n",
        "    pattern = re.sub(r'внебольничная', 'J18', pattern)\r\n",
        "    pattern_1 = re.compile(r'J18')\r\n",
        "    patt_2 = re.search(pattern_1, pattern)\r\n",
        "    try:\r\n",
        "        pn_list.append(patt_2)\r\n",
        "    except:\r\n",
        "        pass  \r\n",
        "    \r\n",
        "    \r\n",
        "p = []\r\n",
        "# если есть пневмония - 1, иначе - 0\r\n",
        "for i in pn_list:\r\n",
        "    if not i:\r\n",
        "        p.append(0)\r\n",
        "    else:\r\n",
        "        p.append(1)"
      ],
      "execution_count": 103,
      "outputs": []
    },
    {
      "cell_type": "code",
      "metadata": {
        "colab": {
          "base_uri": "https://localhost:8080/"
        },
        "id": "naVYVgYpDgt7",
        "outputId": "4aa992d0-4265-4ea0-a40a-4dd6a1fc7567"
      },
      "source": [
        "ihd_list = []\r\n",
        "for sent in list_wo_punct:\r\n",
        "    pattern = re.sub(r'ссн', 'ИБС', sent )\r\n",
        "    pattern = re.sub(r'ибс', 'ИБС', pattern)\r\n",
        "    pattern = re.sub(r'атеросклеротический', 'ИБС', pattern)\r\n",
        "    pattern = re.sub(r'кардиосклероз', 'ИБС', pattern)\r\n",
        "    pattern = re.sub(r'фп', 'ИБС', pattern)\r\n",
        "    pattern = re.sub(r'фибрил....', 'ИБС', pattern)\r\n",
        "    pattern_1 = re.compile(r'ИБС')\r\n",
        "    patt_2 = re.search(pattern_1, pattern)\r\n",
        "    try:\r\n",
        "        ihd_list.append(patt_2)\r\n",
        "    except:\r\n",
        "        pass  \r\n",
        "# итого, обработаны все возможные паттерны    \r\n",
        "    \r\n",
        "ihd = []\r\n",
        "\r\n",
        "for i in ihd_list:\r\n",
        "    if not i:\r\n",
        "        ihd.append(0)\r\n",
        "    else:\r\n",
        "        ihd.append(1)\r\n",
        "\r\n",
        "d = {}\r\n",
        "for i in ihd:\r\n",
        "    d[i]=d.get(i, 0)+1\r\n",
        "d"
      ],
      "execution_count": 104,
      "outputs": [
        {
          "output_type": "execute_result",
          "data": {
            "text/plain": [
              "{0: 1275, 1: 1008}"
            ]
          },
          "metadata": {
            "tags": []
          },
          "execution_count": 104
        }
      ]
    },
    {
      "cell_type": "code",
      "metadata": {
        "colab": {
          "base_uri": "https://localhost:8080/"
        },
        "id": "1uobHqWlDC3T",
        "outputId": "18533591-9462-4059-ea40-bebb65fedd36"
      },
      "source": [
        "dm_list = []\r\n",
        "for sent in list_wo_punct:\r\n",
        "    pattern = re.sub(r'сд', 'СД', sent )\r\n",
        "    pattern = re.sub(r'сах.....', 'СД', pattern)\r\n",
        "    pattern = re.sub(r'д.абет', 'СД', pattern)\r\n",
        "    pattern_1 = re.compile(r'СД')\r\n",
        "    patt_2 = re.search(pattern_1, pattern)\r\n",
        "    try:\r\n",
        "        dm_list.append(patt_2)\r\n",
        "    except:\r\n",
        "        pass  \r\n",
        "    \r\n",
        "dm_ = []\r\n",
        "\r\n",
        "for i in dm_list:\r\n",
        "    if not i:\r\n",
        "        dm_.append(0)\r\n",
        "    else:\r\n",
        "        dm_.append(1)\r\n",
        "        \r\n",
        "d = {}\r\n",
        "for i in dm_:\r\n",
        "    d[i]=d.get(i, 0)+1\r\n",
        "d"
      ],
      "execution_count": 105,
      "outputs": [
        {
          "output_type": "execute_result",
          "data": {
            "text/plain": [
              "{0: 2151, 1: 132}"
            ]
          },
          "metadata": {
            "tags": []
          },
          "execution_count": 105
        }
      ]
    },
    {
      "cell_type": "code",
      "metadata": {
        "colab": {
          "base_uri": "https://localhost:8080/"
        },
        "id": "ERpLma1lDC9u",
        "outputId": "f77750a9-c790-47fc-8e13-870d8363dc66"
      },
      "source": [
        "obes_list = []\r\n",
        "for sent in list_wo_punct:\r\n",
        "    pattern = re.sub(r'ожир.н..', 'ОЖИРЕНИЕ', sent )\r\n",
        "    pattern = re.sub(r'.нжо.', 'ОЖИРЕНИЕ', pattern)\r\n",
        "    \r\n",
        "    #pattern = re.sub(r'торсков2', 'covid', pattern)\r\n",
        "    pattern_1 = re.compile(r'ОЖИРЕНИЕ')\r\n",
        "    patt_2 = re.search(pattern_1, pattern)\r\n",
        "    #patt_2 = pattern_1.findall(''.join(pattern.split()))\r\n",
        "    try:\r\n",
        "        obes_list.append(patt_2)\r\n",
        "    except:\r\n",
        "        pass  \r\n",
        "    \r\n",
        "ob_ = []\r\n",
        "\r\n",
        "for i in obes_list:\r\n",
        "    if not i:\r\n",
        "        ob_.append(0)\r\n",
        "    else:\r\n",
        "        ob_.append(1)\r\n",
        "    \r\n",
        "d = {}\r\n",
        "for i in ob_:\r\n",
        "    d[i]=d.get(i, 0)+1\r\n",
        "d"
      ],
      "execution_count": 106,
      "outputs": [
        {
          "output_type": "execute_result",
          "data": {
            "text/plain": [
              "{0: 2169, 1: 114}"
            ]
          },
          "metadata": {
            "tags": []
          },
          "execution_count": 106
        }
      ]
    },
    {
      "cell_type": "code",
      "metadata": {
        "colab": {
          "base_uri": "https://localhost:8080/"
        },
        "id": "McJhrJErEdIr",
        "outputId": "a9da5acc-c9cb-43da-b450-ab059337b516"
      },
      "source": [
        "copd_list = []\r\n",
        "for sent in list_wo_punct:\r\n",
        "    pattern = re.sub(r'хобл', 'ХОБЛ', sent )\r\n",
        "    pattern = re.sub(r'другая обструктивная', 'ХОБЛ', pattern)\r\n",
        "    pattern = re.sub(r'j44', 'ХОБЛ', pattern)\r\n",
        "    pattern_1 = re.compile(r'ХОБЛ')\r\n",
        "    patt_2 = re.search(pattern_1, pattern)\r\n",
        "    try:\r\n",
        "        copd_list.append(patt_2)\r\n",
        "    except:\r\n",
        "        pass  \r\n",
        "\r\n",
        "\r\n",
        "copd_ = []\r\n",
        "for i in copd_list:\r\n",
        "    if not i:\r\n",
        "        copd_.append(0)\r\n",
        "    else:\r\n",
        "        copd_.append(1)    \r\n",
        "        \r\n",
        "d = {}\r\n",
        "for i in copd_:\r\n",
        "    d[i] = d.get(i, 0) + 1\r\n",
        "d"
      ],
      "execution_count": 107,
      "outputs": [
        {
          "output_type": "execute_result",
          "data": {
            "text/plain": [
              "{0: 1887, 1: 396}"
            ]
          },
          "metadata": {
            "tags": []
          },
          "execution_count": 107
        }
      ]
    },
    {
      "cell_type": "code",
      "metadata": {
        "colab": {
          "base_uri": "https://localhost:8080/"
        },
        "id": "ylvSJO2HElU8",
        "outputId": "7778feb6-558f-418b-9f78-c3d6eeeced01"
      },
      "source": [
        "ba_list = []\r\n",
        "for sent in list_wo_punct:\r\n",
        "  pattern = re.sub(r'бронхиальная', 'БА', sent )\r\n",
        "  pattern = re.sub(r'частично контролируемая', 'БА', pattern)\r\n",
        "  pattern = re.sub(r'\\sба\\s', 'БА', pattern )\r\n",
        "  pattern = re.sub(r'неконтролируемая', 'БА', pattern )\r\n",
        "  pattern_1 = re.compile(r'БА')\r\n",
        "  pattern_2 = re.search(pattern_1, pattern)\r\n",
        "  try:\r\n",
        "    ba_list.append(pattern_2)\r\n",
        "  except:\r\n",
        "    pass\r\n",
        "ba = []\r\n",
        "for i in ba_list:\r\n",
        "    if not i:\r\n",
        "        ba.append(0)\r\n",
        "    else:\r\n",
        "        ba.append(1)\r\n",
        "\r\n",
        "d = {}\r\n",
        "for i in ba:\r\n",
        "    d[i] = d.get(i, 0) + 1\r\n",
        "d"
      ],
      "execution_count": 108,
      "outputs": [
        {
          "output_type": "execute_result",
          "data": {
            "text/plain": [
              "{0: 2123, 1: 160}"
            ]
          },
          "metadata": {
            "tags": []
          },
          "execution_count": 108
        }
      ]
    },
    {
      "cell_type": "code",
      "metadata": {
        "colab": {
          "base_uri": "https://localhost:8080/"
        },
        "id": "GO3XJ40-E9QW",
        "outputId": "38e36149-053d-437f-dc2f-9e34cad2f3dd"
      },
      "source": [
        "# нас интересует самый высокий уроведь ДН, т.к. у пациента при поступлении ДН может быть 2, а при выписке - 0,\r\n",
        "# о тяжести пациента мы будем судить по наибольшему значению\r\n",
        "rfl = []\r\n",
        "for i in rf_:\r\n",
        "    if i:\r\n",
        "        rfl.append(max(np.float_(i)))\r\n",
        "    else:\r\n",
        "        rfl.append(0)\r\n",
        "\r\n",
        "d = {}\r\n",
        "for i in rfl:\r\n",
        "    d[i] = d.get(i, 0) + 1\r\n",
        "d"
      ],
      "execution_count": 109,
      "outputs": [
        {
          "output_type": "execute_result",
          "data": {
            "text/plain": [
              "{0: 1030, 1.0: 684, 2.0: 545, 3.0: 24}"
            ]
          },
          "metadata": {
            "tags": []
          },
          "execution_count": 109
        }
      ]
    },
    {
      "cell_type": "code",
      "metadata": {
        "id": "BvQSgiPvFj1r"
      },
      "source": [
        "gr_list = []\r\n",
        "for sent in list_wo_punct:\r\n",
        "  pattern = re.sub(r'среднетяж.л..', '', sent)\r\n",
        "  pattern = re.sub(r'ср.тяж.', '', sent)\r\n",
        "  pattern = re.sub(r'нетяж.л..', '', pattern)\r\n",
        "  pattern_1 = re.compile(r'тяж.л..')\r\n",
        "  pattern_2 = re.search(pattern_1, pattern)\r\n",
        "  try:\r\n",
        "    gr_list.append(pattern_2)\r\n",
        "  except:\r\n",
        "    pass"
      ],
      "execution_count": 110,
      "outputs": []
    },
    {
      "cell_type": "code",
      "metadata": {
        "colab": {
          "base_uri": "https://localhost:8080/"
        },
        "id": "zjHjWNVYFgBH",
        "outputId": "a0c2212f-bffa-4b85-c7ca-cf3d86f783e8"
      },
      "source": [
        "g = []\r\n",
        "for i in gr_list:\r\n",
        "    if not i:\r\n",
        "        g.append(0)\r\n",
        "    else:\r\n",
        "        g.append(1)\r\n",
        "d = {}\r\n",
        "for i in g:\r\n",
        "    d[i] = d.get(i, 0) + 1\r\n",
        "d"
      ],
      "execution_count": 111,
      "outputs": [
        {
          "output_type": "execute_result",
          "data": {
            "text/plain": [
              "{0: 2055, 1: 228}"
            ]
          },
          "metadata": {
            "tags": []
          },
          "execution_count": 111
        }
      ]
    },
    {
      "cell_type": "code",
      "metadata": {
        "id": "ClMAecNSFsos"
      },
      "source": [
        "# задаём словарь, в котором ключ - истинное название препарата, а значения - варианты названий ( коммерческих) и\r\n",
        "# названия с ошибками для обработки с помощью регулярных выражений\r\n",
        "\r\n",
        "dict_treatment = {'лизиноприл':'л.з.....ил|лизитар|лизинеоприл', \r\n",
        "                  'цефтриаксон':'три.....ф|цефт.....он|цефтриакосн', \r\n",
        "                   \"метопролол\":\"мет.....ол|эгилок\", \r\n",
        "                  \"фраксипарин\":\"фра......ин\",\r\n",
        "                  'тейкопланин': \"тей......ин.\",\r\n",
        "                  \"амброксол\": \"аброкол|амброко.|амб......|амброксолс|амброкосл|амброксолл|амброксолл|аброксол|амброксолл\", \r\n",
        "                  \"моксифлоксацин\": 'пле....кс.|мокс.......цин',\r\n",
        "                  \"молсидомин\":\"м.лсид...н\",\r\n",
        "                  \"спиронолактон\":\"сп.р.......он.|верош....н\",\r\n",
        "                 \"бисопролол\":\"б.с.пр..ол|бисопралдол|бикард|конкор\", \r\n",
        "                  \"лансопрозол\": \"лан......ол|ланс.зол\",\r\n",
        "                 \"меропенем\":\"мер....ем\",\r\n",
        "                  \"аторвастатин\": \"липромак|аторв.......\",\r\n",
        "                 \"дексаметазон\": \"декс.......н|дексаетазон\",\r\n",
        "                 \"левофлоксацин\": \"лев.......цин\",\r\n",
        "                 \"омепразол\": \"омез|омепр..ол\",\r\n",
        "                 \"азитромицин\": \"азит.......\",\r\n",
        "                 \"кандесартан\": \"к.с.рк\",\r\n",
        "                 \"амоксициллин\": \"амоксицилин|амо........н\",\r\n",
        "                 \"озельтамивир\": \"флустоп|озел.......р\",\r\n",
        "                 \"эноксапарин\": \"клексан|кл...ан\",\r\n",
        "                 \"имепенем\": \"им....ем\",\r\n",
        "                 \"клопидогрел\": \"клопидогрель|плавикс|клорпидогрель\",\r\n",
        "                 \"аспикард\": \"аспкиард|кардиомагнил|ас....рд\",\r\n",
        "                 \"амлодипин\":\"амл....ин\",\r\n",
        "                 \"амикацин\": \"ам.к...н\",\r\n",
        "                 \"индапамид\": \"индап|инд.....д\",\r\n",
        "                 \"беродуал\": \"бер.дуал|ипратропия.бромид\",\r\n",
        "                 \"ацетилцистеин\": \"ацецемед|асс|ацц|ацемед|ацецезон\",\r\n",
        "                 \"парацетамол\": \"парац.....л\",\r\n",
        "                 \"гидроксихлорохин\": \"плаквенил|имар.|иммар.\",\r\n",
        "                 \"метилпреднизолон\": \"медрол|м.дрол|метипред|диметилпреднизолон\",\r\n",
        "                 \"теофиллин\": \"теофилин|теотард|теофилл\",\r\n",
        "                 \"кларитромицин\": \"кларибацин|кла.......цин\",\r\n",
        "                 \"лозартан\": \"лазртан|л...ртан|л.риста\",\r\n",
        "                 \"валсартан\": \"валозартан|валз|вал....ан\",\r\n",
        "                 \"моксонидин\": \"м.кс.н.дин\",\r\n",
        "                 \"амиодарон\": \"ами.д.р.н|к.рд.рон\",\r\n",
        "                 \"полимиксин\": \"колистин|колистат|к.л.стат\",\r\n",
        "                 \"преднизолон\": \"преднезолон|пре.н.з.лон\",\r\n",
        "                 \"рамиприл\": \"рам.л...|рам.прил\",\r\n",
        "                 \"карбомазепин\": \"карб.м.з.п.н\",\r\n",
        "                 \"кетаролак\": \"кет.р.лак|кет.рол|кет.н.в\",\r\n",
        "                 \"гентамицин\": \"г.нт.мицин\",\r\n",
        "                 \"цефепим\": \"ц.ф.пим\",\r\n",
        "                 \"цефоперазон/сульбактам\": \"цеф.пер.зон|цеф.пер.зон.су.......\",\r\n",
        "                 \"тайгециклин\": \"тиг.циклин|та.г.циклин\",\r\n",
        "                 \"зопиклон\": \"з.п.клон|соне.|соне.с\"}\r\n",
        "\r\n",
        "cleaned_treatment = []\r\n",
        "for words in tr:\r\n",
        "    try:\r\n",
        "        for i, j in dict_treatment.items():\r\n",
        "            words = re.sub(j, i, words.lower())\r\n",
        "\r\n",
        "        cleaned_treatment.append(words)\r\n",
        "    except:\r\n",
        "        cleaned_treatment.append(\"None\")\r\n"
      ],
      "execution_count": 112,
      "outputs": []
    },
    {
      "cell_type": "code",
      "metadata": {
        "colab": {
          "base_uri": "https://localhost:8080/"
        },
        "id": "r0zzq0vgGjmb",
        "outputId": "8ccba7aa-bcea-4e01-ab7a-d5679c7d169c"
      },
      "source": [
        "initial_pct = []\r\n",
        "max_pct = []\r\n",
        "try:\r\n",
        "    for pct in pct_:\r\n",
        "        if pct != 'None':\r\n",
        "            initial_pct.append(pct[0])\r\n",
        "            max_pct.append(max(pct))\r\n",
        "        else:\r\n",
        "            initial_pct.append(0)\r\n",
        "            max_pct.append(0)\r\n",
        "            \r\n",
        "except:\r\n",
        "    initial_pct.append(0)\r\n",
        "    max_pct.append(0)"
      ],
      "execution_count": 113,
      "outputs": [
        {
          "output_type": "stream",
          "text": [
            "/usr/local/lib/python3.6/dist-packages/ipykernel_launcher.py:5: FutureWarning: elementwise comparison failed; returning scalar instead, but in the future will perform elementwise comparison\n",
            "  \"\"\"\n"
          ],
          "name": "stderr"
        }
      ]
    },
    {
      "cell_type": "code",
      "metadata": {
        "id": "eou-8wBLqSSc"
      },
      "source": [
        "initial_pct_ = list(map(lambda x: x / 100 if x > 5 else x, initial_pct))\r\n",
        "max_pct_ = list(map(lambda x: x / 100 if x > 5 else x, max_pct))"
      ],
      "execution_count": 114,
      "outputs": []
    },
    {
      "cell_type": "code",
      "metadata": {
        "colab": {
          "base_uri": "https://localhost:8080/"
        },
        "id": "2RxzDMZ9NJRM",
        "outputId": "9630186e-94ff-48a5-c991-3160d8caa58e"
      },
      "source": [
        "max_ast = []\r\n",
        "try:\r\n",
        "    for ast in ast_:\r\n",
        "        if ast != 'None':\r\n",
        "            max_ast.append(max(ast))\r\n",
        "        else:\r\n",
        "            max_ast.append(0)\r\n",
        "except:\r\n",
        "    max_ast.append(0)"
      ],
      "execution_count": 116,
      "outputs": [
        {
          "output_type": "stream",
          "text": [
            "/usr/local/lib/python3.6/dist-packages/ipykernel_launcher.py:4: FutureWarning: elementwise comparison failed; returning scalar instead, but in the future will perform elementwise comparison\n",
            "  after removing the cwd from sys.path.\n"
          ],
          "name": "stderr"
        }
      ]
    },
    {
      "cell_type": "code",
      "metadata": {
        "colab": {
          "base_uri": "https://localhost:8080/"
        },
        "id": "YaqQ3FpQI1Wi",
        "outputId": "df48ad6a-af9e-46a7-cdd5-33d75a83b247"
      },
      "source": [
        "max_alt = []\r\n",
        "try:\r\n",
        "    for alt in alt_:\r\n",
        "        if alt != 'None':\r\n",
        "            max_alt.append(max(alt))\r\n",
        "        else:\r\n",
        "            max_alt.append(0)\r\n",
        "except:\r\n",
        "    max_alt.append(0)"
      ],
      "execution_count": 117,
      "outputs": [
        {
          "output_type": "stream",
          "text": [
            "/usr/local/lib/python3.6/dist-packages/ipykernel_launcher.py:5: FutureWarning: elementwise comparison failed; returning scalar instead, but in the future will perform elementwise comparison\n",
            "  \"\"\"\n"
          ],
          "name": "stderr"
        }
      ]
    },
    {
      "cell_type": "code",
      "metadata": {
        "id": "f0kXS9UFMtSV",
        "colab": {
          "base_uri": "https://localhost:8080/"
        },
        "outputId": "d0686a7b-6845-4243-c3c4-7a59738e708e"
      },
      "source": [
        "initial_ldh = []\r\n",
        "max_ldh = []\r\n",
        "try:\r\n",
        "    for ldh in ldh_:\r\n",
        "        if ldh != 'None':\r\n",
        "            initial_ldh.append(ldh[0])\r\n",
        "            max_ldh.append(max(ldh))\r\n",
        "        else:\r\n",
        "            initial_ldh.append(0)\r\n",
        "            max_ldh.append(0)\r\n",
        "            \r\n",
        "except:\r\n",
        "    initial_ldh.append(0)\r\n",
        "    max_ldh.append(0)\r\n",
        "\r\n",
        "len(max_ldh)"
      ],
      "execution_count": 137,
      "outputs": [
        {
          "output_type": "stream",
          "text": [
            "/usr/local/lib/python3.6/dist-packages/ipykernel_launcher.py:5: FutureWarning: elementwise comparison failed; returning scalar instead, but in the future will perform elementwise comparison\n",
            "  \"\"\"\n"
          ],
          "name": "stderr"
        },
        {
          "output_type": "execute_result",
          "data": {
            "text/plain": [
              "254"
            ]
          },
          "metadata": {
            "tags": []
          },
          "execution_count": 137
        }
      ]
    },
    {
      "cell_type": "code",
      "metadata": {
        "colab": {
          "base_uri": "https://localhost:8080/"
        },
        "id": "CEMVXuD3RMgB",
        "outputId": "40885326-664c-4857-c71e-c720f638e53b"
      },
      "source": [
        "initial_ldh = []\r\n",
        "max_ldh = []\r\n",
        "try:\r\n",
        "    for ldh in ldh_:\r\n",
        "        if  ldh == 'None':\r\n",
        "            initial_ldh.append(0)\r\n",
        "            max_ldh.append(0)\r\n",
        "            \r\n",
        "        else:\r\n",
        "          try:\r\n",
        "            initial_ldh.append(ldh[0])\r\n",
        "            max_ldh.append(max(ldh))\r\n",
        "          except:\r\n",
        "            initial_ldh.append(0)\r\n",
        "            max_ldh.append(0)            \r\n",
        "except:\r\n",
        "    initial_ldh.append(0)\r\n",
        "    max_ldh.append(0)"
      ],
      "execution_count": 153,
      "outputs": [
        {
          "output_type": "stream",
          "text": [
            "/usr/local/lib/python3.6/dist-packages/ipykernel_launcher.py:5: FutureWarning: elementwise comparison failed; returning scalar instead, but in the future will perform elementwise comparison\n",
            "  \"\"\"\n"
          ],
          "name": "stderr"
        }
      ]
    },
    {
      "cell_type": "code",
      "metadata": {
        "colab": {
          "base_uri": "https://localhost:8080/"
        },
        "id": "nqcEAxwvOTVH",
        "outputId": "8db4146b-cf58-42ae-d593-1fe852d274ce"
      },
      "source": [
        "max_hgb = []\r\n",
        "try:\r\n",
        "    for hgb in hgb_:\r\n",
        "        if hgb != 'None':\r\n",
        "            max_hgb.append(max(hgb))\r\n",
        "        else:\r\n",
        "            max_hgb.append(0)\r\n",
        "except:\r\n",
        "    max_hgb.append(0)"
      ],
      "execution_count": 121,
      "outputs": [
        {
          "output_type": "stream",
          "text": [
            "/usr/local/lib/python3.6/dist-packages/ipykernel_launcher.py:4: FutureWarning: elementwise comparison failed; returning scalar instead, but in the future will perform elementwise comparison\n",
            "  after removing the cwd from sys.path.\n"
          ],
          "name": "stderr"
        }
      ]
    },
    {
      "cell_type": "code",
      "metadata": {
        "colab": {
          "base_uri": "https://localhost:8080/"
        },
        "id": "-HDBVO8QOYcC",
        "outputId": "24e06658-3efb-4478-fadf-f6e402571926"
      },
      "source": [
        "max_cre = []\r\n",
        "min_cre = []\r\n",
        "try:\r\n",
        "    for cre in crea_:\r\n",
        "        if cre != 'None':\r\n",
        "            min_cre.append(min(cre))\r\n",
        "            max_cre.append(max(cre))\r\n",
        "        else:\r\n",
        "            min_cre.append(0)\r\n",
        "            max_cre.append(0)\r\n",
        "except:\r\n",
        "    min_cre.append(0)\r\n",
        "    max_cre.append(0)"
      ],
      "execution_count": 122,
      "outputs": [
        {
          "output_type": "stream",
          "text": [
            "/usr/local/lib/python3.6/dist-packages/ipykernel_launcher.py:5: FutureWarning: elementwise comparison failed; returning scalar instead, but in the future will perform elementwise comparison\n",
            "  \"\"\"\n"
          ],
          "name": "stderr"
        }
      ]
    },
    {
      "cell_type": "code",
      "metadata": {
        "colab": {
          "base_uri": "https://localhost:8080/"
        },
        "id": "IxolpwWAPVuQ",
        "outputId": "6a129717-6755-4c69-deac-8d41a999b10f"
      },
      "source": [
        "initial_crp = []\r\n",
        "max_crp = []\r\n",
        "try:\r\n",
        "    for crp in crp_:\r\n",
        "        if crp != 'None':\r\n",
        "            initial_crp.append(crp[0])\r\n",
        "            max_crp.append(max(crp))\r\n",
        "        else:\r\n",
        "            initial_crp.append(0)\r\n",
        "            max_crp.append(0)\r\n",
        "            \r\n",
        "except:\r\n",
        "    initial_crp.append(0)\r\n",
        "    max_crp.append(0)"
      ],
      "execution_count": 124,
      "outputs": [
        {
          "output_type": "stream",
          "text": [
            "/usr/local/lib/python3.6/dist-packages/ipykernel_launcher.py:5: FutureWarning: elementwise comparison failed; returning scalar instead, but in the future will perform elementwise comparison\n",
            "  \"\"\"\n"
          ],
          "name": "stderr"
        }
      ]
    },
    {
      "cell_type": "code",
      "metadata": {
        "colab": {
          "base_uri": "https://localhost:8080/"
        },
        "id": "jyuifHukQBCV",
        "outputId": "b6689df7-a53d-4651-abf9-24a7ba3f2f7e"
      },
      "source": [
        "min_plt = []\r\n",
        "max_plt = []\r\n",
        "try:\r\n",
        "    for plt in plt_:\r\n",
        "        if plt != 'None':\r\n",
        "            min_plt.append(min(plt))\r\n",
        "            max_plt.append(max(plt))\r\n",
        "        else:\r\n",
        "            min_plt.append(0)\r\n",
        "            max_plt.append(0)\r\n",
        "except:\r\n",
        "    max_plt.append(0)\r\n",
        "    min_plt.append(0)"
      ],
      "execution_count": 126,
      "outputs": [
        {
          "output_type": "stream",
          "text": [
            "/usr/local/lib/python3.6/dist-packages/ipykernel_launcher.py:5: FutureWarning: elementwise comparison failed; returning scalar instead, but in the future will perform elementwise comparison\n",
            "  \"\"\"\n"
          ],
          "name": "stderr"
        }
      ]
    },
    {
      "cell_type": "code",
      "metadata": {
        "colab": {
          "base_uri": "https://localhost:8080/"
        },
        "id": "6w_yLLfbQW5s",
        "outputId": "77876445-ee00-4860-bd50-4f5e4117ca92"
      },
      "source": [
        "min_wbc = []\r\n",
        "max_wbc = []\r\n",
        "try:\r\n",
        "    for wbc in wbc_:\r\n",
        "        if wbc != 'None':\r\n",
        "            min_wbc.append(min(wbc))\r\n",
        "            max_wbc.append(max(wbc))\r\n",
        "        else:\r\n",
        "            min_wbc.append(0)\r\n",
        "            max_wbc.append(0)\r\n",
        "except:\r\n",
        "    max_wbc.append(0)\r\n",
        "    min_wbc.append(0)"
      ],
      "execution_count": 127,
      "outputs": [
        {
          "output_type": "stream",
          "text": [
            "/usr/local/lib/python3.6/dist-packages/ipykernel_launcher.py:5: FutureWarning: elementwise comparison failed; returning scalar instead, but in the future will perform elementwise comparison\n",
            "  \"\"\"\n"
          ],
          "name": "stderr"
        }
      ]
    },
    {
      "cell_type": "code",
      "metadata": {
        "colab": {
          "base_uri": "https://localhost:8080/"
        },
        "id": "lvyT74fiUIMG",
        "outputId": "f28b23d1-4c05-4ca6-e4d8-1e8378c94e8e"
      },
      "source": [
        "initial_esr = []\r\n",
        "max_esr = []\r\n",
        "try:\r\n",
        "    for esr in esr_:\r\n",
        "        if esr != 'None':\r\n",
        "          initial_esr.append(esr[0])\r\n",
        "          max_esr.append(max(esr))\r\n",
        "        else:\r\n",
        "          initial_esr.append(0)\r\n",
        "          max_esr.append(0)\r\n",
        "            \r\n",
        "except:\r\n",
        "    initial_esr.append(0)\r\n",
        "    max_esr.append(0)"
      ],
      "execution_count": 128,
      "outputs": [
        {
          "output_type": "stream",
          "text": [
            "/usr/local/lib/python3.6/dist-packages/ipykernel_launcher.py:5: FutureWarning: elementwise comparison failed; returning scalar instead, but in the future will perform elementwise comparison\n",
            "  \"\"\"\n"
          ],
          "name": "stderr"
        }
      ]
    },
    {
      "cell_type": "code",
      "metadata": {
        "colab": {
          "base_uri": "https://localhost:8080/"
        },
        "id": "1p8rQKUbJJjH",
        "outputId": "434202a9-8cd8-472e-a5e8-6065b4fa91b7"
      },
      "source": [
        "initial_fibin = []\r\n",
        "max_fibin = []\r\n",
        "try:\r\n",
        "    for fibin in fibrin_:\r\n",
        "        if  fibin == 'None':\r\n",
        "            initial_fibin.append(0)\r\n",
        "            max_fibin.append(0)\r\n",
        "            \r\n",
        "        else:\r\n",
        "          try:\r\n",
        "            initial_fibin.append(fibin[0])\r\n",
        "            max_fibin.append(max(fibin))\r\n",
        "          except:\r\n",
        "            initial_fibin.append(0)\r\n",
        "            max_fibin.append(0)            \r\n",
        "except:\r\n",
        "    initial_fibin.append(0)\r\n",
        "    max_fibin.append(0)"
      ],
      "execution_count": 150,
      "outputs": [
        {
          "output_type": "stream",
          "text": [
            "/usr/local/lib/python3.6/dist-packages/ipykernel_launcher.py:5: FutureWarning: elementwise comparison failed; returning scalar instead, but in the future will perform elementwise comparison\n",
            "  \"\"\"\n"
          ],
          "name": "stderr"
        }
      ]
    },
    {
      "cell_type": "code",
      "metadata": {
        "id": "toCyVo3MRCRE"
      },
      "source": [
        "data_dct = {'ID':ID_,'Max_Platlets':max_plt, \r\n",
        "            \"Min_Platlets\":min_plt, \"Init_ESR\": initial_esr,\r\n",
        "            \"Max_ESR\": max_esr, \"Init_Fibrinogen\": initial_fibin,\r\n",
        "            \"Max_Fibrinogen\": max_fibin, \"Initial_LDH\": initial_ldh,\r\n",
        "            \"Max_LDH\": max_ldh,\r\n",
        "            'Max_Leucocytes': max_wbc,\r\n",
        "            'Min_Leucocytes': min_wbc,'Hemoglobin': hgb_,\r\n",
        "           'Max_Creatinine': max_cre, \"Min_Cratinine\": min_cre , \r\n",
        "             'Gender':sex_, \r\n",
        "            'initial_CRP':initial_crp,\r\n",
        "            \"Max_CRP\":max_crp, \r\n",
        "            'Treatment': cleaned_treatment, 'Birthday': bir, 'Admission':ad,\r\n",
        "            'Discharge':dis,  'Diagnosis': list_wo_punct,\r\n",
        "            'COVID-19': c, 'Pneumonia': p, \"Severity\": g,\r\n",
        "            \"IHD\": ihd, \"COPD\": copd_, \"Bronchial_asthma\": ba,\r\n",
        "            \"Obesity\":ob_, \"Diabetes\": dm_, 'RF': rfl, \"ALT\": max_alt,\r\n",
        "            \"AST\": max_ast, \"Initial_Procalcitonine\": initial_pct_,\r\n",
        "            \"Max_Procalcitonine\": max_pct_}\r\n",
        "\r\n"
      ],
      "execution_count": 156,
      "outputs": []
    },
    {
      "cell_type": "code",
      "metadata": {
        "id": "rlI4SitpT13g"
      },
      "source": [
        "dataFrame = pd.DataFrame(data_dct)"
      ],
      "execution_count": 158,
      "outputs": []
    },
    {
      "cell_type": "code",
      "metadata": {
        "id": "zHsT_4GzUCGH"
      },
      "source": [
        "Cov_Data=dataFrame[dataFrame['COVID-19']==1]"
      ],
      "execution_count": 160,
      "outputs": []
    },
    {
      "cell_type": "code",
      "metadata": {
        "colab": {
          "base_uri": "https://localhost:8080/"
        },
        "id": "MbTGq6UcSTxa",
        "outputId": "bb90cf5c-f849-426c-9d86-ce0c70b5ee29"
      },
      "source": [
        "Cov_Data.shape"
      ],
      "execution_count": 162,
      "outputs": [
        {
          "output_type": "execute_result",
          "data": {
            "text/plain": [
              "(323, 35)"
            ]
          },
          "metadata": {
            "tags": []
          },
          "execution_count": 162
        }
      ]
    },
    {
      "cell_type": "code",
      "metadata": {
        "id": "l_9mZpQvWmlv"
      },
      "source": [
        "# dataFrame.to_csv('Data_12.csv')"
      ],
      "execution_count": null,
      "outputs": []
    },
    {
      "cell_type": "code",
      "metadata": {
        "id": "dRm9xO9BXI3U"
      },
      "source": [
        "dataFrame['Initial_Procalcitonine'].value_counts()"
      ],
      "execution_count": null,
      "outputs": []
    },
    {
      "cell_type": "code",
      "metadata": {
        "id": "FCyCfyoQX4tg"
      },
      "source": [
        "df = pd.read_csv('/content/drive/MyDrive/parser/Data_12.csv')\r\n",
        "df.head()"
      ],
      "execution_count": null,
      "outputs": []
    },
    {
      "cell_type": "code",
      "metadata": {
        "id": "bZBI8tG6noJw"
      },
      "source": [
        "dataProc = df[df['Initial_Procalcitonine'] > 0]"
      ],
      "execution_count": null,
      "outputs": []
    },
    {
      "cell_type": "code",
      "metadata": {
        "id": "z9HTas5Hnyv_"
      },
      "source": [
        "dataProc.to_csv('Proc_data_1.csv')"
      ],
      "execution_count": null,
      "outputs": []
    },
    {
      "cell_type": "code",
      "metadata": {
        "id": "BI2nHsdHn1IX",
        "colab": {
          "base_uri": "https://localhost:8080/",
          "height": 178
        },
        "outputId": "7f8309e6-c144-4358-a0f5-c70945db35a1"
      },
      "source": [
        "df = pd.read_csv('/content/drive/MyDrive/parser/Proc_data_1.csv')\r\n",
        "df.head()\r\n"
      ],
      "execution_count": null,
      "outputs": [
        {
          "output_type": "error",
          "ename": "NameError",
          "evalue": "ignored",
          "traceback": [
            "\u001b[0;31m---------------------------------------------------------------------------\u001b[0m",
            "\u001b[0;31mNameError\u001b[0m                                 Traceback (most recent call last)",
            "\u001b[0;32m<ipython-input-1-e7ae8b0f491d>\u001b[0m in \u001b[0;36m<module>\u001b[0;34m()\u001b[0m\n\u001b[0;32m----> 1\u001b[0;31m \u001b[0mdf\u001b[0m \u001b[0;34m=\u001b[0m \u001b[0mpd\u001b[0m\u001b[0;34m.\u001b[0m\u001b[0mread_csv\u001b[0m\u001b[0;34m(\u001b[0m\u001b[0;34m'/content/drive/MyDrive/parser/Proc_data_1.csv'\u001b[0m\u001b[0;34m)\u001b[0m\u001b[0;34m\u001b[0m\u001b[0;34m\u001b[0m\u001b[0m\n\u001b[0m\u001b[1;32m      2\u001b[0m \u001b[0mdf\u001b[0m\u001b[0;34m.\u001b[0m\u001b[0mhead\u001b[0m\u001b[0;34m(\u001b[0m\u001b[0;34m)\u001b[0m\u001b[0;34m\u001b[0m\u001b[0;34m\u001b[0m\u001b[0m\n",
            "\u001b[0;31mNameError\u001b[0m: name 'pd' is not defined"
          ]
        }
      ]
    },
    {
      "cell_type": "code",
      "metadata": {
        "colab": {
          "base_uri": "https://localhost:8080/",
          "height": 1000
        },
        "id": "jGIxo3dJHCjR",
        "outputId": "4c75c006-7bc9-4b7a-facc-47f2ed4087ac"
      },
      "source": [
        "!pip install sdv\r\n",
        "from sdv.tabular import GaussianCopula"
      ],
      "execution_count": null,
      "outputs": [
        {
          "output_type": "stream",
          "text": [
            "Collecting sdv\n",
            "\u001b[?25l  Downloading https://files.pythonhosted.org/packages/31/7d/7e6f441e405525f55d925708a81959b150a6fc310847822f761642f19708/sdv-0.7.0-py2.py3-none-any.whl (73kB)\n",
            "\u001b[K     |████████████████████████████████| 81kB 3.1MB/s \n",
            "\u001b[?25hCollecting copulas<0.5,>=0.4.0\n",
            "\u001b[?25l  Downloading https://files.pythonhosted.org/packages/d4/1f/4c3f7cb8e03a867926f9ae04997004567c108dc2190fda5ab93c44bdcf2d/copulas-0.4.0-py2.py3-none-any.whl (48kB)\n",
            "\u001b[K     |████████████████████████████████| 51kB 5.6MB/s \n",
            "\u001b[?25hCollecting graphviz<1,>=0.13.2\n",
            "  Downloading https://files.pythonhosted.org/packages/86/86/89ba50ba65928001d3161f23bfa03945ed18ea13a1d1d44a772ff1fa4e7a/graphviz-0.16-py2.py3-none-any.whl\n",
            "Collecting pandas<1.1.5,>=1.1\n",
            "\u001b[?25l  Downloading https://files.pythonhosted.org/packages/4d/51/bafcff417cd857bc6684336320863b5e5af280530213ef8f534b6042cfe6/pandas-1.1.4-cp36-cp36m-manylinux1_x86_64.whl (9.5MB)\n",
            "\u001b[K     |████████████████████████████████| 9.5MB 16.3MB/s \n",
            "\u001b[?25hRequirement already satisfied: scipy<1.6,>=1.1.0 in /usr/local/lib/python3.6/dist-packages (from sdv) (1.4.1)\n",
            "Collecting deepecho<0.2,>=0.1.4\n",
            "  Downloading https://files.pythonhosted.org/packages/9f/6b/7e05ac475f0713af63ce390b3614de57dfe25974ebf249f505c41c930333/deepecho-0.1.4-py2.py3-none-any.whl\n",
            "Requirement already satisfied: numpy<2,>=1.18.0 in /usr/local/lib/python3.6/dist-packages (from sdv) (1.19.5)\n",
            "Collecting ctgan<0.4,>=0.3.1\n",
            "  Downloading https://files.pythonhosted.org/packages/c5/e1/ad4de6da0829d7479e4425c57d26370207067670f9ae5fef409015569f72/ctgan-0.3.1-py2.py3-none-any.whl\n",
            "Collecting rdt<0.4,>=0.2.10\n",
            "  Downloading https://files.pythonhosted.org/packages/33/06/715edee52feb792a8b27d282835b9578102bd9db06cb02d9c14d7a7f0bcb/rdt-0.3.0-py2.py3-none-any.whl\n",
            "Collecting sdmetrics<0.2.0,>=0.1.2\n",
            "\u001b[?25l  Downloading https://files.pythonhosted.org/packages/b1/13/02cb129d15a9e634dbffaac6293a5b94591e2df252e9080976365165846c/sdmetrics-0.1.3-py2.py3-none-any.whl (79kB)\n",
            "\u001b[K     |████████████████████████████████| 81kB 7.4MB/s \n",
            "\u001b[?25hCollecting matplotlib<3.2.2,>=2.2.2\n",
            "\u001b[?25l  Downloading https://files.pythonhosted.org/packages/93/4b/52da6b1523d5139d04e02d9e26ceda6146b48f2a4e5d2abfdf1c7bac8c40/matplotlib-3.2.1-cp36-cp36m-manylinux1_x86_64.whl (12.4MB)\n",
            "\u001b[K     |████████████████████████████████| 12.4MB 46.0MB/s \n",
            "\u001b[?25hRequirement already satisfied: pytz>=2017.2 in /usr/local/lib/python3.6/dist-packages (from pandas<1.1.5,>=1.1->sdv) (2018.9)\n",
            "Requirement already satisfied: python-dateutil>=2.7.3 in /usr/local/lib/python3.6/dist-packages (from pandas<1.1.5,>=1.1->sdv) (2.8.1)\n",
            "Requirement already satisfied: torch<2,>=1 in /usr/local/lib/python3.6/dist-packages (from deepecho<0.2,>=0.1.4->sdv) (1.7.0+cu101)\n",
            "Requirement already satisfied: tqdm<5,>=4 in /usr/local/lib/python3.6/dist-packages (from deepecho<0.2,>=0.1.4->sdv) (4.41.1)\n",
            "Requirement already satisfied: scikit-learn<0.24,>=0.21 in /usr/local/lib/python3.6/dist-packages (from ctgan<0.4,>=0.3.1->sdv) (0.22.2.post1)\n",
            "Requirement already satisfied: packaging in /usr/local/lib/python3.6/dist-packages (from ctgan<0.4,>=0.3.1->sdv) (20.9)\n",
            "Requirement already satisfied: torchvision<1,>=0.4.2 in /usr/local/lib/python3.6/dist-packages (from ctgan<0.4,>=0.3.1->sdv) (0.8.1+cu101)\n",
            "Collecting Faker<4.15,>=1.0.1\n",
            "\u001b[?25l  Downloading https://files.pythonhosted.org/packages/44/0f/76b50e085a92dd9adc801d1adbf498ec7a77974c699ced27c1334998da0a/Faker-4.14.2-py3-none-any.whl (1.1MB)\n",
            "\u001b[K     |████████████████████████████████| 1.1MB 41.4MB/s \n",
            "\u001b[?25hCollecting sktime<0.6,>=0.4\n",
            "\u001b[?25l  Downloading https://files.pythonhosted.org/packages/23/33/9c41660bf00420033a6e07809491263cc9a7d889ec4dfb2f7ea4a2f1bb63/sktime-0.5.3-cp36-cp36m-manylinux2014_x86_64.whl (5.7MB)\n",
            "\u001b[K     |████████████████████████████████| 5.7MB 42.2MB/s \n",
            "\u001b[?25hCollecting pomegranate<0.13.5,>=0.13.0\n",
            "\u001b[?25l  Downloading https://files.pythonhosted.org/packages/bc/9c/0bc09034d377db8786dda874a1e0f793778b62effae7f06fe8892e48e8f4/pomegranate-0.13.4-cp36-cp36m-manylinux2010_x86_64.whl (12.6MB)\n",
            "\u001b[K     |████████████████████████████████| 12.6MB 30.1MB/s \n",
            "\u001b[?25hRequirement already satisfied: kiwisolver>=1.0.1 in /usr/local/lib/python3.6/dist-packages (from matplotlib<3.2.2,>=2.2.2->copulas<0.5,>=0.4.0->sdv) (1.3.1)\n",
            "Requirement already satisfied: cycler>=0.10 in /usr/local/lib/python3.6/dist-packages (from matplotlib<3.2.2,>=2.2.2->copulas<0.5,>=0.4.0->sdv) (0.10.0)\n",
            "Requirement already satisfied: pyparsing!=2.0.4,!=2.1.2,!=2.1.6,>=2.0.1 in /usr/local/lib/python3.6/dist-packages (from matplotlib<3.2.2,>=2.2.2->copulas<0.5,>=0.4.0->sdv) (2.4.7)\n",
            "Requirement already satisfied: six>=1.5 in /usr/local/lib/python3.6/dist-packages (from python-dateutil>=2.7.3->pandas<1.1.5,>=1.1->sdv) (1.15.0)\n",
            "Requirement already satisfied: dataclasses in /usr/local/lib/python3.6/dist-packages (from torch<2,>=1->deepecho<0.2,>=0.1.4->sdv) (0.8)\n",
            "Requirement already satisfied: future in /usr/local/lib/python3.6/dist-packages (from torch<2,>=1->deepecho<0.2,>=0.1.4->sdv) (0.16.0)\n",
            "Requirement already satisfied: typing-extensions in /usr/local/lib/python3.6/dist-packages (from torch<2,>=1->deepecho<0.2,>=0.1.4->sdv) (3.7.4.3)\n",
            "Requirement already satisfied: joblib>=0.11 in /usr/local/lib/python3.6/dist-packages (from scikit-learn<0.24,>=0.21->ctgan<0.4,>=0.3.1->sdv) (1.0.0)\n",
            "Requirement already satisfied: pillow>=4.1.1 in /usr/local/lib/python3.6/dist-packages (from torchvision<1,>=0.4.2->ctgan<0.4,>=0.3.1->sdv) (7.0.0)\n",
            "Requirement already satisfied: text-unidecode==1.3 in /usr/local/lib/python3.6/dist-packages (from Faker<4.15,>=1.0.1->rdt<0.4,>=0.2.10->sdv) (1.3)\n",
            "Requirement already satisfied: wheel in /usr/local/lib/python3.6/dist-packages (from sktime<0.6,>=0.4->sdmetrics<0.2.0,>=0.1.2->sdv) (0.36.2)\n",
            "Requirement already satisfied: numba>=0.50 in /usr/local/lib/python3.6/dist-packages (from sktime<0.6,>=0.4->sdmetrics<0.2.0,>=0.1.2->sdv) (0.51.2)\n",
            "Collecting statsmodels>=0.12.1\n",
            "\u001b[?25l  Downloading https://files.pythonhosted.org/packages/0d/7b/c17815648dc31396af865b9c6627cc3f95705954e30f61106795361c39ee/statsmodels-0.12.2-cp36-cp36m-manylinux1_x86_64.whl (9.5MB)\n",
            "\u001b[K     |████████████████████████████████| 9.5MB 47.4MB/s \n",
            "\u001b[?25hRequirement already satisfied: networkx>=2.0 in /usr/local/lib/python3.6/dist-packages (from pomegranate<0.13.5,>=0.13.0->sdmetrics<0.2.0,>=0.1.2->sdv) (2.5)\n",
            "Requirement already satisfied: pyyaml in /usr/local/lib/python3.6/dist-packages (from pomegranate<0.13.5,>=0.13.0->sdmetrics<0.2.0,>=0.1.2->sdv) (3.13)\n",
            "Requirement already satisfied: setuptools in /usr/local/lib/python3.6/dist-packages (from numba>=0.50->sktime<0.6,>=0.4->sdmetrics<0.2.0,>=0.1.2->sdv) (53.0.0)\n",
            "Requirement already satisfied: llvmlite<0.35,>=0.34.0.dev0 in /usr/local/lib/python3.6/dist-packages (from numba>=0.50->sktime<0.6,>=0.4->sdmetrics<0.2.0,>=0.1.2->sdv) (0.34.0)\n",
            "Requirement already satisfied: patsy>=0.5 in /usr/local/lib/python3.6/dist-packages (from statsmodels>=0.12.1->sktime<0.6,>=0.4->sdmetrics<0.2.0,>=0.1.2->sdv) (0.5.1)\n",
            "Requirement already satisfied: decorator>=4.3.0 in /usr/local/lib/python3.6/dist-packages (from networkx>=2.0->pomegranate<0.13.5,>=0.13.0->sdmetrics<0.2.0,>=0.1.2->sdv) (4.4.2)\n",
            "\u001b[31mERROR: albumentations 0.1.12 has requirement imgaug<0.2.7,>=0.2.5, but you'll have imgaug 0.2.9 which is incompatible.\u001b[0m\n",
            "\u001b[31mERROR: sktime 0.5.3 has requirement scikit-learn>=0.23.0, but you'll have scikit-learn 0.22.2.post1 which is incompatible.\u001b[0m\n",
            "Installing collected packages: matplotlib, pandas, copulas, graphviz, deepecho, Faker, rdt, ctgan, statsmodels, sktime, pomegranate, sdmetrics, sdv\n",
            "  Found existing installation: matplotlib 3.2.2\n",
            "    Uninstalling matplotlib-3.2.2:\n",
            "      Successfully uninstalled matplotlib-3.2.2\n",
            "  Found existing installation: pandas 1.1.5\n",
            "    Uninstalling pandas-1.1.5:\n",
            "      Successfully uninstalled pandas-1.1.5\n",
            "  Found existing installation: graphviz 0.10.1\n",
            "    Uninstalling graphviz-0.10.1:\n",
            "      Successfully uninstalled graphviz-0.10.1\n",
            "  Found existing installation: statsmodels 0.10.2\n",
            "    Uninstalling statsmodels-0.10.2:\n",
            "      Successfully uninstalled statsmodels-0.10.2\n",
            "Successfully installed Faker-4.14.2 copulas-0.4.0 ctgan-0.3.1 deepecho-0.1.4 graphviz-0.16 matplotlib-3.2.1 pandas-1.1.4 pomegranate-0.13.4 rdt-0.3.0 sdmetrics-0.1.3 sdv-0.7.0 sktime-0.5.3 statsmodels-0.12.2\n"
          ],
          "name": "stdout"
        },
        {
          "output_type": "display_data",
          "data": {
            "application/vnd.colab-display-data+json": {
              "pip_warning": {
                "packages": [
                  "matplotlib",
                  "mpl_toolkits",
                  "pandas"
                ]
              }
            }
          },
          "metadata": {
            "tags": []
          }
        }
      ]
    },
    {
      "cell_type": "code",
      "metadata": {
        "colab": {
          "base_uri": "https://localhost:8080/"
        },
        "id": "YFR9nbmAIgoj",
        "outputId": "b063572e-54ee-4510-acab-f17c89ddf261"
      },
      "source": [
        "model = GaussianCopula()\r\n",
        "model.fit(df)"
      ],
      "execution_count": null,
      "outputs": [
        {
          "output_type": "stream",
          "text": [
            "/usr/local/lib/python3.6/dist-packages/scipy/stats/_continuous_distns.py:547: RuntimeWarning: invalid value encountered in sqrt\n",
            "  sk = 2*(b-a)*np.sqrt(a + b + 1) / (a + b + 2) / np.sqrt(a*b)\n",
            "/usr/local/lib/python3.6/dist-packages/scipy/optimize/minpack.py:162: RuntimeWarning: The iteration is not making good progress, as measured by the \n",
            "  improvement from the last ten iterations.\n",
            "  warnings.warn(msg, RuntimeWarning)\n",
            "/usr/local/lib/python3.6/dist-packages/scipy/stats/_continuous_distns.py:4798: RuntimeWarning: divide by zero encountered in true_divide\n",
            "  return c**2 / (c**2 - n**2)\n",
            "/usr/local/lib/python3.6/dist-packages/scipy/stats/_distn_infrastructure.py:2407: RuntimeWarning: invalid value encountered in double_scalars\n",
            "  Lhat = muhat - Shat*mu\n",
            "/usr/local/lib/python3.6/dist-packages/scipy/optimize/minpack.py:162: RuntimeWarning: The iteration is not making good progress, as measured by the \n",
            "  improvement from the last five Jacobian evaluations.\n",
            "  warnings.warn(msg, RuntimeWarning)\n",
            "/usr/local/lib/python3.6/dist-packages/scipy/optimize/minpack.py:162: RuntimeWarning: The number of calls to function has reached maxfev = 600.\n",
            "  warnings.warn(msg, RuntimeWarning)\n",
            "/usr/local/lib/python3.6/dist-packages/scipy/stats/_continuous_distns.py:4789: RuntimeWarning: divide by zero encountered in power\n",
            "  return cd2*x**(c-1)\n"
          ],
          "name": "stderr"
        }
      ]
    },
    {
      "cell_type": "code",
      "metadata": {
        "id": "a7m7uEkTI4Z0"
      },
      "source": [
        "new_data = model.sample(500)"
      ],
      "execution_count": null,
      "outputs": []
    },
    {
      "cell_type": "code",
      "metadata": {
        "colab": {
          "base_uri": "https://localhost:8080/",
          "height": 484
        },
        "id": "GKEGWArcJUMc",
        "outputId": "e2dc4af9-534c-445f-987f-dedefeb77b51"
      },
      "source": [
        "new_data.head()"
      ],
      "execution_count": null,
      "outputs": [
        {
          "output_type": "execute_result",
          "data": {
            "text/html": [
              "<div>\n",
              "<style scoped>\n",
              "    .dataframe tbody tr th:only-of-type {\n",
              "        vertical-align: middle;\n",
              "    }\n",
              "\n",
              "    .dataframe tbody tr th {\n",
              "        vertical-align: top;\n",
              "    }\n",
              "\n",
              "    .dataframe thead th {\n",
              "        text-align: right;\n",
              "    }\n",
              "</style>\n",
              "<table border=\"1\" class=\"dataframe\">\n",
              "  <thead>\n",
              "    <tr style=\"text-align: right;\">\n",
              "      <th></th>\n",
              "      <th>Unnamed: 0</th>\n",
              "      <th>Unnamed: 0.1</th>\n",
              "      <th>ID</th>\n",
              "      <th>Max_Platlets</th>\n",
              "      <th>Min_Platlets</th>\n",
              "      <th>Max_Leucocytes</th>\n",
              "      <th>Min_Leucocytes</th>\n",
              "      <th>Hemoglobin</th>\n",
              "      <th>Max_Creatinine</th>\n",
              "      <th>Min_Cratinine</th>\n",
              "      <th>Gender</th>\n",
              "      <th>initial_CRP</th>\n",
              "      <th>Max_CRP</th>\n",
              "      <th>Treatment</th>\n",
              "      <th>Birthday</th>\n",
              "      <th>Admission</th>\n",
              "      <th>Discharge</th>\n",
              "      <th>Diagnosis</th>\n",
              "      <th>COVID-19</th>\n",
              "      <th>Pneumonia</th>\n",
              "      <th>Severity</th>\n",
              "      <th>IHD</th>\n",
              "      <th>COPD</th>\n",
              "      <th>Bronchial_asthma</th>\n",
              "      <th>Obesity</th>\n",
              "      <th>Diabetes</th>\n",
              "      <th>RF</th>\n",
              "      <th>ALT</th>\n",
              "      <th>AST</th>\n",
              "      <th>Initial_Procalcitonine</th>\n",
              "      <th>Max_Procalcitonine</th>\n",
              "    </tr>\n",
              "  </thead>\n",
              "  <tbody>\n",
              "    <tr>\n",
              "      <th>0</th>\n",
              "      <td>635</td>\n",
              "      <td>636</td>\n",
              "      <td>4210.133900</td>\n",
              "      <td>386.953771</td>\n",
              "      <td>386.995072</td>\n",
              "      <td>8.146943</td>\n",
              "      <td>8.150979</td>\n",
              "      <td>[117. 122. 115. 116. 121.]</td>\n",
              "      <td>100.488125</td>\n",
              "      <td>76.641397</td>\n",
              "      <td>male</td>\n",
              "      <td>10.291670</td>\n",
              "      <td>13.396809</td>\n",
              "      <td>цефтриаксон, левофлоксацин, дексаметазон, гепа...</td>\n",
              "      <td>12:07:1981</td>\n",
              "      <td>17:12:2020</td>\n",
              "      <td>31:12:2020</td>\n",
              "      <td>в 34 инфекция вызванная covid 19 пцр положит о...</td>\n",
              "      <td>0</td>\n",
              "      <td>1</td>\n",
              "      <td>1</td>\n",
              "      <td>1</td>\n",
              "      <td>0</td>\n",
              "      <td>0</td>\n",
              "      <td>0</td>\n",
              "      <td>0</td>\n",
              "      <td>2.227990</td>\n",
              "      <td>37.383097</td>\n",
              "      <td>30.279400</td>\n",
              "      <td>0.050623</td>\n",
              "      <td>0.052647</td>\n",
              "    </tr>\n",
              "    <tr>\n",
              "      <th>1</th>\n",
              "      <td>39</td>\n",
              "      <td>39</td>\n",
              "      <td>5845.385469</td>\n",
              "      <td>181.137396</td>\n",
              "      <td>181.120574</td>\n",
              "      <td>11.934737</td>\n",
              "      <td>11.937987</td>\n",
              "      <td>[138. 143. 117. 122.]</td>\n",
              "      <td>67.265710</td>\n",
              "      <td>60.143129</td>\n",
              "      <td>male</td>\n",
              "      <td>0.671026</td>\n",
              "      <td>3.466046</td>\n",
              "      <td>цефтриаксон, левофлоксацин,амброксол,гепарин,п...</td>\n",
              "      <td>28:06:1960</td>\n",
              "      <td>02:07:2020</td>\n",
              "      <td>22:07:2020</td>\n",
              "      <td>b342 тяжёлая новая коронавирусная sarscov2 пцр...</td>\n",
              "      <td>1</td>\n",
              "      <td>1</td>\n",
              "      <td>0</td>\n",
              "      <td>0</td>\n",
              "      <td>0</td>\n",
              "      <td>0</td>\n",
              "      <td>0</td>\n",
              "      <td>0</td>\n",
              "      <td>0.515944</td>\n",
              "      <td>11.115603</td>\n",
              "      <td>16.354325</td>\n",
              "      <td>0.103749</td>\n",
              "      <td>0.096068</td>\n",
              "    </tr>\n",
              "    <tr>\n",
              "      <th>2</th>\n",
              "      <td>299</td>\n",
              "      <td>299</td>\n",
              "      <td>5787.321593</td>\n",
              "      <td>311.576816</td>\n",
              "      <td>311.559600</td>\n",
              "      <td>3.892947</td>\n",
              "      <td>3.887103</td>\n",
              "      <td>[145.]</td>\n",
              "      <td>94.786138</td>\n",
              "      <td>105.340501</td>\n",
              "      <td>male</td>\n",
              "      <td>2.255313</td>\n",
              "      <td>4.873320</td>\n",
              "      <td>цефтриаксон, дексаметазон, гидроксихлорохин,...</td>\n",
              "      <td>10:01:1952</td>\n",
              "      <td>20:12:2020</td>\n",
              "      <td>29:12:2020</td>\n",
              "      <td>в 342 тяжёлая коронавирусная инфекцияэт на ат ...</td>\n",
              "      <td>1</td>\n",
              "      <td>1</td>\n",
              "      <td>0</td>\n",
              "      <td>1</td>\n",
              "      <td>0</td>\n",
              "      <td>0</td>\n",
              "      <td>0</td>\n",
              "      <td>0</td>\n",
              "      <td>-0.360540</td>\n",
              "      <td>1.030117</td>\n",
              "      <td>14.385246</td>\n",
              "      <td>0.353820</td>\n",
              "      <td>0.215082</td>\n",
              "    </tr>\n",
              "    <tr>\n",
              "      <th>3</th>\n",
              "      <td>344</td>\n",
              "      <td>344</td>\n",
              "      <td>4949.041305</td>\n",
              "      <td>138.112926</td>\n",
              "      <td>138.165457</td>\n",
              "      <td>9.078681</td>\n",
              "      <td>9.077013</td>\n",
              "      <td>[156. 137. 130.]</td>\n",
              "      <td>26.986749</td>\n",
              "      <td>-9.437943</td>\n",
              "      <td>male</td>\n",
              "      <td>5.429324</td>\n",
              "      <td>1.007286</td>\n",
              "      <td>фгагмин , меропенем , кислородотерапия, энокса...</td>\n",
              "      <td>06:11:1967</td>\n",
              "      <td>09:11:2020</td>\n",
              "      <td>23:12:2020</td>\n",
              "      <td>в34инфекция  вызванная covid 19 пцр  от 091120...</td>\n",
              "      <td>0</td>\n",
              "      <td>1</td>\n",
              "      <td>1</td>\n",
              "      <td>0</td>\n",
              "      <td>0</td>\n",
              "      <td>0</td>\n",
              "      <td>0</td>\n",
              "      <td>0</td>\n",
              "      <td>1.815769</td>\n",
              "      <td>109.624760</td>\n",
              "      <td>34.631399</td>\n",
              "      <td>0.092577</td>\n",
              "      <td>0.086568</td>\n",
              "    </tr>\n",
              "    <tr>\n",
              "      <th>4</th>\n",
              "      <td>321</td>\n",
              "      <td>321</td>\n",
              "      <td>2416.223530</td>\n",
              "      <td>179.103823</td>\n",
              "      <td>179.115975</td>\n",
              "      <td>7.102439</td>\n",
              "      <td>7.103831</td>\n",
              "      <td>[137. 139. 129. 122. 114. 128. 133. 132.]</td>\n",
              "      <td>108.353474</td>\n",
              "      <td>57.595333</td>\n",
              "      <td>female</td>\n",
              "      <td>29.902647</td>\n",
              "      <td>12.961156</td>\n",
              "      <td>фраксипарин, дексаметазон, гидроксихлорохин, а...</td>\n",
              "      <td>19:11:1967</td>\n",
              "      <td>24:12:2020</td>\n",
              "      <td>27:01:2021</td>\n",
              "      <td>в34 инфекция вызванная covid пцр  от 02012021 ...</td>\n",
              "      <td>1</td>\n",
              "      <td>1</td>\n",
              "      <td>0</td>\n",
              "      <td>-1</td>\n",
              "      <td>0</td>\n",
              "      <td>0</td>\n",
              "      <td>0</td>\n",
              "      <td>0</td>\n",
              "      <td>-0.236594</td>\n",
              "      <td>71.765742</td>\n",
              "      <td>36.267560</td>\n",
              "      <td>0.168491</td>\n",
              "      <td>0.096643</td>\n",
              "    </tr>\n",
              "  </tbody>\n",
              "</table>\n",
              "</div>"
            ],
            "text/plain": [
              "   Unnamed: 0  Unnamed: 0.1  ...  Initial_Procalcitonine  Max_Procalcitonine\n",
              "0         635           636  ...                0.050623            0.052647\n",
              "1          39            39  ...                0.103749            0.096068\n",
              "2         299           299  ...                0.353820            0.215082\n",
              "3         344           344  ...                0.092577            0.086568\n",
              "4         321           321  ...                0.168491            0.096643\n",
              "\n",
              "[5 rows x 31 columns]"
            ]
          },
          "metadata": {
            "tags": []
          },
          "execution_count": 60
        }
      ]
    },
    {
      "cell_type": "code",
      "metadata": {
        "colab": {
          "base_uri": "https://localhost:8080/",
          "height": 282
        },
        "id": "-nl10dPCJkSy",
        "outputId": "8ce07e27-94eb-4b96-aaba-49bfcc24d8ad"
      },
      "source": [
        "new_data['Max_Procalcitonine'].hist()"
      ],
      "execution_count": null,
      "outputs": [
        {
          "output_type": "execute_result",
          "data": {
            "text/plain": [
              "<matplotlib.axes._subplots.AxesSubplot at 0x7fcedf7d3748>"
            ]
          },
          "metadata": {
            "tags": []
          },
          "execution_count": 61
        },
        {
          "output_type": "display_data",
          "data": {
            "image/png": "[encoded data removed]",
            "text/plain": [
              "<Figure size 432x288 with 1 Axes>"
            ]
          },
          "metadata": {
            "tags": [],
            "needs_background": "light"
          }
        }
      ]
    },
    {
      "cell_type": "code",
      "metadata": {
        "id": "XBb4H_L0JrbC"
      },
      "source": [
        ""
      ],
      "execution_count": null,
      "outputs": []
    }
  ]
}
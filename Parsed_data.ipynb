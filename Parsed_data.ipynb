{
  "nbformat": 4,
  "nbformat_minor": 0,
  "metadata": {
    "colab": {
      "name": "Parsed_data11111.ipynb",
      "provenance": []
    },
    "kernelspec": {
      "display_name": "Python 3",
      "language": "python",
      "name": "python3"
    },
    "language_info": {
      "codemirror_mode": {
        "name": "ipython",
        "version": 3
      },
      "file_extension": ".py",
      "mimetype": "text/x-python",
      "name": "python",
      "nbconvert_exporter": "python",
      "pygments_lexer": "ipython3",
      "version": "3.8.5"
    }
  },
  "cells": [
    {
      "cell_type": "code",
      "metadata": {
        "id": "mPnLaX49HAId"
      },
      "source": [
        "import os\n",
        "import pandas as pd\n",
        "import glob\n",
        "import string\n",
        "import nltk\n",
        "import re\n"
      ],
      "execution_count": 1,
      "outputs": []
    },
    {
      "cell_type": "code",
      "metadata": {
        "id": "9CV1I1nzHAIj"
      },
      "source": [
        "import os\n",
        "import pandas as pd\n",
        "import glob\n",
        "import re\n",
        "\n",
        "\n",
        "class Utils():\n",
        "    root_directory = os.chdir('')# input path\n",
        "    list_of_files = glob.glob('**/*.txt', recursive=True)\n",
        "    invalid_parsing = []\n",
        "    trash = ['Волковыск-1.txt','Волковыск.txt','Вороново-1.txt',\n",
        "         'Вороново.txt', 'Черновик-1.txt', 'Черновик.txt']\n",
        "    for file in list_of_files:\n",
        "        try:\n",
        "             with open(file, encoding='utf-8') as f:\n",
        "                    num = f.readline()\n",
        "                    file_ = f.read()\n",
        "                    if num and file_:\n",
        "                        pass\n",
        "        except:\n",
        "            invalid_parsing.append(file)\n",
        "    for i in invalid_parsing:\n",
        "        list_of_files.remove(i)\n",
        "    for i in trash: \n",
        "        list_of_files.remove(i)\n",
        "\n",
        "\n",
        "list_of_files = Utils.list_of_files\n",
        "\n",
        "\n",
        "plt_ = []\n",
        "wbc_ = []\n",
        "hgb_ = []\n",
        "crea_ = []\n",
        "ldh_ = []\n",
        "sex_ = []\n",
        "crp_ = []\n",
        "tr = []\n",
        "bir = []\n",
        "ad = []\n",
        "dis = []\n",
        "ID_ = []\n",
        "dgs_ = []\n",
        "rf_ = []\n",
        "alt_ = []\n",
        "ast_ = []\n",
        "pct_ = []\n",
        "\n",
        "def ID(num):\n",
        "  \"\"\"returns ID of the patient\"\"\"\n",
        "  for i in num.split():\n",
        "    for char in i.split():\n",
        "        if char.isnumeric():\n",
        "            try:\n",
        "                return int(char)\n",
        "            except:\n",
        "                return 'None'\n",
        "            \n",
        "            \n",
        "def treatment(file_):\n",
        "  \"\"\" returns srting of remedies used for the patient \"\"\"\n",
        "  for line in file_.split('\\n'):\n",
        "    if re.search('лечение', line):  # Does the same thing as \"if 'hello' in line:\"\n",
        "        return(line.replace('Проведенное лечение:', \\\n",
        "                            '').replace('ЛФК', '').replace('ФТЛ', ''))\n",
        "    \n",
        "\n",
        "def born_adm_disch(file_):\n",
        "    \"\"\" finds all nessesary dates in the epicrisis\"\"\"\n",
        "    pattern = re.compile(\"(\\d{2}).(\\d{2}).(\\d{4})\") # check all dates\n",
        "    birthday, admission = pattern.findall(file_)[:2]\n",
        "    discharging = pattern.findall(file_)[-1]\n",
        "    try:\n",
        "        return ':'.join(birthday), ':'.join(admission), ':'.join(discharging)\n",
        "    except:\n",
        "        return 'None'\n",
        "\n",
        "\n",
        "pattern_diagnosis = ['Диагноз:','Диагноз клинический:','Диагноз', 'Д-з:',\n",
        "                     \"Диагноз заключительный:\"]\n",
        "def diagnosis_dirty(file_):\n",
        "  int_ = 0\n",
        "  for i in file_.split():\n",
        "    int_ += 1\n",
        "    if i in pattern_diagnosis:\n",
        "      return file_.split()[int_+1:int_+40]    \n",
        "  \n",
        "\n",
        "def crp(file_):\n",
        "  \"\"\"returns all crp values\"\"\"\n",
        "  file_= ''.join(file_.split())\n",
        "  file_ = re.sub(r'[ЦСC]РБ|\\w\\D(реактив.|реакт.|реак.)белок', 'С-реактивныйбелок', file_)\n",
        "  file_ = re.sub(r'\\d{,2}\\.\\d\\d\\.\\d{2,4}', '', file_)\n",
        "  file_ = re.sub(r'[():]', '', file_)\n",
        "  file_ = re.sub(r'(?<!С-реактивныйбелок)\\d\\d\\.\\d\\d', '', file_)\n",
        "  file_ = re.sub(r',', '.', file_)\n",
        "  pattern_1 = re.compile(r'(?:\\w\\Dреактивныйбелок|\\w\\Dреактивныйбелокдо)(\\d*\\.\\d+|\\d+)')\n",
        "  pattern_2 = pattern_1.findall(file_)\n",
        "  try:\n",
        "    if pattern_2:\n",
        "      return pattern_2\n",
        "    else:\n",
        "      return 'None'\n",
        "  except:\n",
        "    pass\n",
        "\n",
        "\n",
        "def gender(file_):\n",
        "  file_ = file_.title()\n",
        "  file_ = ''.join(file_.split())\n",
        "  file_ = re.sub(r'Диагноз.*', '', file_)\n",
        "  patt1 = re.compile(r'[А-Я](\\w{,19}(\\w|\\ич))[А-Я]\\w{,20}(вна)')\n",
        "  patt2 = patt1.findall(file_)\n",
        "  try:\n",
        "    if patt2:\n",
        "      return 'female'\n",
        "    else:\n",
        "      return 'male'\n",
        "  except:\n",
        "    pass\n",
        "  \n",
        "\n",
        "def ldh(file_):\n",
        "  file_= ''.join(file_.split())\n",
        "  file_ = file_.lower()\n",
        "  file_ = re.sub(r'[():]', '', file_)\n",
        "  file_ = re.sub(r'\\d{,2}\\.\\d\\d\\.\\d{2,4}', '', file_)\n",
        "  file_ = re.sub(r'\\wактатдегидрогеназ\\w', 'лдг', file_)\n",
        "  file_ = re.sub(r'(?<!лдг)\\d\\d\\.\\d\\d', '', file_)\n",
        "  patt1 = re.compile(r'(?<=лдг)\\d{,4}')\n",
        "  patt2 = patt1.findall(file_)\n",
        "  try:\n",
        "    if patt2:\n",
        "      return patt2\n",
        "    else:\n",
        "      return 'None'\n",
        "  except:\n",
        "    pass\n",
        "\n",
        "\n",
        "\n",
        "def cre(file_):\n",
        "  \"\"\"Returns all creatinine values\"\"\"\n",
        "  file_= ''.join(file_.split())  \n",
        "  file_ = file_.lower()\n",
        "  file_ = re.sub(r'[():]', '', file_)\n",
        "  file_ = re.sub(r'\\d{,2}\\.\\d\\d\\.\\d{2,4}', '', file_)\n",
        "  file_ = re.sub(r'(\\wреатини\\w|креатин|креат)(?![а-яА-Я,])', 'cre', file_)\n",
        "  file_ = re.sub(r'(?<!cre)\\d\\d\\.\\d\\d', '', file_)\n",
        "  patt1 = re.compile(r'(?<=cre)\\d{2,3}')\n",
        "  patt2 = patt1.findall(file_)\n",
        "  try:\n",
        "    if patt2:\n",
        "      return patt2\n",
        "    else:\n",
        "      return 'None'\n",
        "  except:\n",
        "    pass\n",
        "\n",
        "\n",
        "def hgb(file_):\n",
        "  \"\"\"returns list of str with level of hemoglobin\"\"\"\n",
        "  file_= ''.join(file_.split())  \n",
        "  file_ = file_.lower()\n",
        "  file_ = re.sub(r'[():]', '', file_)\n",
        "  patt = re.compile(r'гемоглобин|гемогл|гб|гем')\n",
        "  patt1 = re.sub(patt, r'hgb', file_)\n",
        "  patt2 = re.compile(r'(?<=hgb)\\d{2,3}')\n",
        "  all_hgb = patt2.findall(patt1)\n",
        "  try:\n",
        "    if all_hgb:\n",
        "      return all_hgb\n",
        "    else:\n",
        "      return 'None'\n",
        "  except:\n",
        "    pass\n",
        "\n",
        "\n",
        "def wbc(file_):\n",
        "  \"\"\"returns list of str with level of wbc\"\"\"\n",
        "  file_= ''.join(file_.split())\n",
        "  file_ = file_.lower()\n",
        "  file_ = re.sub(r'[():]', '', file_)\n",
        "  file_ = re.sub(r'10(\\*|[еe])9', '', file_)\n",
        "  file_ = re.sub(r'\\d{,2}\\.\\d\\d\\.\\d{2,4}', '', file_)\n",
        "  file_ = re.sub(r'\\Dбщийанализкрови', 'оак', file_)\n",
        "  file_ = re.sub(r'(?<=оак)гб\\d*,', '', file_)\n",
        "  file_ = re.sub(r',', '.', file_)\n",
        "  patt1 = re.compile(r'(?<=оак|wbc)(?:л|лейкоцит\\w)(\\d*\\.\\d+|\\d+)')\n",
        "  all_wbc = patt1.findall(file_)\n",
        "  try:\n",
        "    if all_wbc:\n",
        "      return all_wbc\n",
        "    else:\n",
        "      return 'None'\n",
        "  except:\n",
        "    pass\n",
        "\n",
        "\n",
        "def plt(file_):\n",
        "  \"\"\"returns list of str with level of plt\"\"\"\n",
        "  file_= ''.join(file_.split())\n",
        "  file_ = file_.lower()\n",
        "  file_ = re.sub(r'[():]', '', file_)\n",
        "  file_ = re.sub(r'10(\\*|[еe])9', '', file_)\n",
        "  file_ = re.sub(r'\\d{,2}\\.\\d\\d\\.\\d{2,4}', '', file_)\n",
        "  patt1 = re.compile(r'\\wромбоцит\\w|(?<![а-яА-Я])тр(?![а-яА-Я])')\n",
        "  file_ = re.sub(patt1, r'plt', file_)\n",
        "  file_ = re.sub(r'(?<!plt)\\d\\d\\.\\d\\d', '', file_)\n",
        "  patt2 = re.compile(r'(?<=plt)\\d{3}')\n",
        "  all_plt = patt2.findall(file_)\n",
        "  try:\n",
        "    if all_plt:\n",
        "      return all_plt\n",
        "    else:\n",
        "      return 'None'\n",
        "  except:\n",
        "    pass\n",
        "\n",
        "\n",
        "def rf(file_):\n",
        "  file_= ''.join(file_.split())  \n",
        "  file_ = re.sub(r'[а-яА-ЯёЁ]ДН[^Шш0-9]', 'ДН'.lower(), file_)\n",
        "  file_ = re.sub(r'(?<=ДН)[1iI]{3}|[Шш]', '3', file_)\n",
        "  file_ = re.sub(r'(?<=ДН)[1iI]{2}|1-2', '2', file_)\n",
        "  file_ = re.sub(r'(?<=ДН)[оoОO]', '0', file_)\n",
        "  patt1 = re.compile(r'(?<=ДН)\\d')\n",
        "  patt2 = patt1.findall(file_)\n",
        "  try:\n",
        "    if patt2:\n",
        "      return patt2\n",
        "    else:\n",
        "      return 'None'  \n",
        "  except:\n",
        "      pass\n",
        "\n",
        "def alt(file_):\n",
        "  file_= ''.join(file_.split())\n",
        "  file_ = file_.lower()\n",
        "  file_ = re.sub(r'[():]', '', file_)\n",
        "  file_ = re.sub(r'\\d{,2}\\.\\d\\d\\.\\d{2,4}', '', file_)\n",
        "  file_ = re.sub(r'\\wланинаминотрансфераз\\w|алат', 'алт', file_)\n",
        "  file_ = re.sub(r'(?<!алт)\\d\\d\\.\\d\\d', '', file_)\n",
        "  file_ = re.sub(r',', '.', file_) \n",
        "  patt1 = re.compile(r'(?<=алт)(\\d*\\.\\d+|\\d+)')\n",
        "  patt2 = patt1.findall(file_)\n",
        "  try:\n",
        "    if patt2:\n",
        "      return patt2\n",
        "    else:\n",
        "      return 'None'\n",
        "  except:\n",
        "    pass\n",
        "\n",
        "\n",
        "def ast(file_):\n",
        "  file_= ''.join(file_.split())\n",
        "  file_ = file_.lower()\n",
        "  file_ = re.sub(r'[():]', '', file_)\n",
        "  file_ = re.sub(r'\\d{,2}\\.\\d\\d\\.\\d{2,4}', '', file_)\n",
        "  file_ = re.sub(r'\\wспартатаминотрансфераз\\w|асат', 'аст', file_)\n",
        "  file_ = re.sub(r'(?<!аст)\\d\\d\\.\\d\\d', '', file_)\n",
        "  file_ = re.sub(r',', '.', file_)\n",
        "  patt1 = re.compile(r'(?<=аст)(\\d*\\.\\d+|\\d+)')\n",
        "  patt2 = patt1.findall(file_)\n",
        "  try:\n",
        "    if patt2:\n",
        "      return patt2\n",
        "    else:\n",
        "      return 'None'\n",
        "  except:\n",
        "    pass\n",
        "\n",
        "\n",
        "def pct(file_):\n",
        "  file_= ''.join(file_.split())\n",
        "  file_ = file_.lower()\n",
        "  file_ = re.sub(r'(?<=\\,\\d)\\,|\\.\\d{2}\\.\\d\\d\\.\\d{2,4}.', '', file_)\n",
        "  file_ = re.sub(r'\\d{,2}\\.\\d\\d\\.\\d{2,4}(\\.|)', '', file_)\n",
        "  file_ = re.sub(r'[–-]|[():<>=]', '', file_)\n",
        "  file_ = re.sub(r'менее', '', file_)\n",
        "  file_ = re.sub(r'от', '', file_)\n",
        "  file_ = re.sub(r'(\\wрокальцитони\\w|прокальцитон|прокальцит|прокальц|рст)(?![а-яА-Я,])', 'pct', file_)\n",
        "  file_ = re.sub(r',', '.', file_)\n",
        "  patt1 = re.compile(r'(?<=pct)(\\d*\\.\\d+|\\d+)')\n",
        "  patt2 = patt1.findall(file_)\n",
        "  try:\n",
        "    if patt2:\n",
        "      return patt2\n",
        "    else:\n",
        "      return 'None'\n",
        "  except:\n",
        "    pass"
      ],
      "execution_count": 2,
      "outputs": []
    },
    {
      "cell_type": "code",
      "metadata": {
        "id": "P46kIW1NHAIo"
      },
      "source": [
        "for file in list_of_files:\n",
        "    try:\n",
        "         with open(file, encoding='utf-8') as f:\n",
        "                num = f.readline()\n",
        "                file_ = f.read()\n",
        "                ID_.append(ID((num)))\n",
        "                tr.append(treatment((file_)))\n",
        "                bir.append(born_adm_disch(file_)[0])\n",
        "                ad.append(born_adm_disch(file_)[1])\n",
        "                dis.append(born_adm_disch(file_)[2])\n",
        "                dgs_.append(diagnosis_dirty((file_)))\n",
        "                crp_.append(crp(file_))\n",
        "                sex_.append(gender(file_))\n",
        "                ldh_.append(ldh(file_))\n",
        "                crea_.append(cre(file_))\n",
        "                hgb_.append(hgb(file_))\n",
        "                wbc_.append(wbc(file_))\n",
        "                plt_.append(plt(file_))\n",
        "                rf_.append(rf(file_))\n",
        "                alt_.append(alt(file_))\n",
        "                ast_.append(ast(file_))\n",
        "                pct_.append(pct(file_))\n",
        "    except:\n",
        "        print('stp')"
      ],
      "execution_count": 3,
      "outputs": []
    },
    {
      "cell_type": "code",
      "metadata": {
        "id": "X6OZDzssHAIs"
      },
      "source": [
        "for i in pct_:\n",
        "    if i != \"None\":\n",
        "        print(i)"
      ],
      "execution_count": null,
      "outputs": []
    },
    {
      "cell_type": "code",
      "metadata": {
        "id": "lbZmB-ERHAIx"
      },
      "source": [
        "rfl = []\n",
        "for o in rf_:\n",
        "    if o:\n",
        "        rfl.append(max(o))\n",
        "    else:\n",
        "        rfl.append('None')"
      ],
      "execution_count": 5,
      "outputs": []
    },
    {
      "cell_type": "code",
      "metadata": {
        "id": "8w-s9LwbHAI4"
      },
      "source": [
        "diagnosis_cleaned =  []\n",
        "for diagnos in dgs_:\n",
        "    try:\n",
        "        diagnosis_cleaned.append(' '.join(diagnos))\n",
        "    except:\n",
        "        diagnosis_cleaned.append('None')"
      ],
      "execution_count": 6,
      "outputs": []
    },
    {
      "cell_type": "code",
      "metadata": {
        "colab": {
          "base_uri": "https://localhost:8080/"
        },
        "id": "KILOzIKQHAI5",
        "outputId": "9be18bac-0d13-4953-c308-7f92b19629cb"
      },
      "source": [
        "len(diagnosis_cleaned)"
      ],
      "execution_count": 7,
      "outputs": [
        {
          "output_type": "execute_result",
          "data": {
            "text/plain": [
              "2231"
            ]
          },
          "metadata": {
            "tags": []
          },
          "execution_count": 7
        }
      ]
    },
    {
      "cell_type": "code",
      "metadata": {
        "id": "Hoc4ows2HAI8"
      },
      "source": [
        "PUNCT_TO_REMOVE = string.punctuation\n",
        "def remove_punctuation(text):\n",
        "    \"\"\"custom function to remove the punctuation\"\"\"\n",
        "    return text.translate(str.maketrans('', '', PUNCT_TO_REMOVE))"
      ],
      "execution_count": 8,
      "outputs": []
    },
    {
      "cell_type": "code",
      "metadata": {
        "id": "NdmwEKwjHAI-"
      },
      "source": [
        "list_wo_punct = []\n",
        "for sent in diagnosis_cleaned:\n",
        "    try:\n",
        "        sent = remove_punctuation(sent.lower())\n",
        "        list_wo_punct.append(sent)\n",
        "    except:\n",
        "        pass"
      ],
      "execution_count": 9,
      "outputs": []
    },
    {
      "cell_type": "code",
      "metadata": {
        "colab": {
          "base_uri": "https://localhost:8080/"
        },
        "id": "iknpTpQaHAJB",
        "outputId": "1013a6cf-5f0d-48f3-9077-792b803def23"
      },
      "source": [
        "len(list_wo_punct)"
      ],
      "execution_count": 10,
      "outputs": [
        {
          "output_type": "execute_result",
          "data": {
            "text/plain": [
              "2231"
            ]
          },
          "metadata": {
            "tags": []
          },
          "execution_count": 10
        }
      ]
    },
    {
      "cell_type": "code",
      "metadata": {
        "id": "hnyH7oYMHAJG"
      },
      "source": [
        "# def coid19_finder(file_):\n",
        "#     covid_patterns = ['covid19', 'коронавирусная', \"короновирусная\", \"корон\", \"covid19\", 'торсков2', 'sarscov2',\"b342\" ]\n",
        "#     covid_list = []\n",
        "#     for patt in covid_patterns:\n",
        "#         for sent in file_:\n",
        "#             pattern = re.sub(r'patt', 'covid', sent)\n",
        "#             pattern_1 = re.compile(r'covid')\n",
        "#             patt_2 = pattern_1.findall(''.join(pattern.split()))\n",
        "#             try:\n",
        "#                 covid_list.append(patt_2)\n",
        "#             except:\n",
        "#                 pass\n",
        "#     c =[]\n",
        "#     for i in covid_list:\n",
        "#         if not i:\n",
        "#             c.append(0)\n",
        "#         else:\n",
        "#             c.append(1)\n",
        "#     return c"
      ],
      "execution_count": null,
      "outputs": []
    },
    {
      "cell_type": "code",
      "metadata": {
        "id": "4kk3DRB8HAJI"
      },
      "source": [
        "#k = coid19_finder(list_wo_punct)"
      ],
      "execution_count": null,
      "outputs": []
    },
    {
      "cell_type": "code",
      "metadata": {
        "id": "H9GPJ7rIHAJN"
      },
      "source": [
        "covid_list = []\n",
        "for sent in list_wo_punct:\n",
        "    pattern = re.sub(r'covid19', 'covid', sent )\n",
        "    pattern = re.sub(r'коронавирусная', 'covid', pattern)\n",
        "    pattern = re.sub(r'короновирусная', 'covid', pattern)\n",
        "    pattern = re.sub(r'b342', 'covid', pattern)\n",
        "    pattern = re.sub(r'sarscov2', 'covid', pattern)\n",
        "    pattern = re.sub(r'торсков2', 'covid', pattern)\n",
        "    pattern_1 = re.compile(r'covid')\n",
        "    patt_2 = re.search(pattern_1, pattern)\n",
        "    #patt_2 = pattern_1.findall(''.join(pattern.split()))\n",
        "    try:\n",
        "        covid_list.append(patt_2)\n",
        "    except:\n",
        "        pass"
      ],
      "execution_count": 11,
      "outputs": []
    },
    {
      "cell_type": "code",
      "metadata": {
        "id": "rsMnDts5HAJK"
      },
      "source": [
        "c =[]\n",
        "for i in covid_list:\n",
        "    if not i:\n",
        "        c.append(0)\n",
        "    else:\n",
        "        c.append(1)"
      ],
      "execution_count": 12,
      "outputs": []
    },
    {
      "cell_type": "code",
      "metadata": {
        "id": "kN2WNYB1HAJN"
      },
      "source": [
        "pn_list = []\n",
        "for sent in list_wo_punct:\n",
        "    pattern = re.sub(r'пневмония', 'J18', sent )\n",
        "    pattern = re.sub(r'пне...ния', 'J18', pattern)\n",
        "    pattern = re.sub(r'внегоспитальная', 'J18', pattern)\n",
        "    pattern = re.sub(r'внебольничная', 'J18', pattern)\n",
        "    #pattern = re.sub(r'sarscov2', 'covid', pattern)\n",
        "    #pattern = re.sub(r'торсков2', 'covid', pattern)\n",
        "    pattern_1 = re.compile(r'J18')\n",
        "    patt_2 = re.search(pattern_1, pattern)\n",
        "    #patt_2 = pattern_1.findall(''.join(pattern.split()))\n",
        "    try:\n",
        "        pn_list.append(patt_2)\n",
        "    except:\n",
        "        pass"
      ],
      "execution_count": 13,
      "outputs": []
    },
    {
      "cell_type": "code",
      "metadata": {
        "id": "-e9UNZcXHAJT"
      },
      "source": [
        "p = []\n",
        "for i in pn_list:\n",
        "    if not i:\n",
        "        p.append(0)\n",
        "    else:\n",
        "        p.append(1)"
      ],
      "execution_count": 14,
      "outputs": []
    },
    {
      "cell_type": "code",
      "metadata": {
        "id": "BIvcc_ckHAJP"
      },
      "source": [
        "# gr_list = []\n",
        "# for sent in list_wo_punct:\n",
        "#     pattern = re.sub(r'тяжёлая', 'тяж', sent )\n",
        "#     pattern = re.sub(r'тяжелая', 'тяж', pattern)\n",
        "#     pattern = re.sub(r'тяжёлое', '', pattern)\n",
        "#     pattern = re.sub(r'внебольничная', 'J18', pattern)\n",
        "#     #pattern = re.sub(r'sarscov2', 'covid', pattern)\n",
        "#     #pattern = re.sub(r'торсков2', 'covid', pattern)\n",
        "#     pattern_1 = re.compile(r'J18')\n",
        "#     patt_2 = re.search(pattern_1, pattern)\n",
        "#     #patt_2 = pattern_1.findall(''.join(pattern.split()))\n",
        "#     try:\n",
        "#         pn_list.append(patt_2)\n",
        "#     except:\n",
        "#         pass"
      ],
      "execution_count": null,
      "outputs": []
    },
    {
      "cell_type": "code",
      "metadata": {
        "id": "LMXqmGXvJtYC"
      },
      "source": [
        "gr_list = []\n",
        "for sent in list_wo_punct:\n",
        "  pattern = re.sub(r'среднетяж.л..', '', sent)\n",
        "  pattern = re.sub(r'нетяж.л..', '', pattern)\n",
        "  pattern_1 = re.compile(r'тяж.л..')\n",
        "  pattern_2 = re.search(pattern_1, pattern)\n",
        "  try:\n",
        "    gr_list.append(pattern_2)\n",
        "  except:\n",
        "    pass"
      ],
      "execution_count": 27,
      "outputs": []
    },
    {
      "cell_type": "code",
      "metadata": {
        "id": "903qjltjHAJQ"
      },
      "source": [
        "g = []\n",
        "for i in gr_list:\n",
        "    if not i:\n",
        "        g.append(0)\n",
        "    else:\n",
        "        g.append(1)"
      ],
      "execution_count": 28,
      "outputs": []
    },
    {
      "cell_type": "code",
      "metadata": {
        "id": "boGV05KD0Xaq"
      },
      "source": [
        "dbt_list = []\n",
        "for sent in list_wo_punct:\n",
        "  sent = re.sub(r'тип', '', sent)\n",
        "  pattern = re.compile(r'сахарныйдиабет|сд\\d')\n",
        "  pattern_1 = re.search(pattern, ''.join(sent.split()))\n",
        "  try:\n",
        "    dbt_list.append(pattern_1)\n",
        "  except:\n",
        "    pass\n",
        "dbt = []\n",
        "for i in dbt_list:\n",
        "    if not i:\n",
        "        dbt.append(0)\n",
        "    else:\n",
        "        dbt.append(1)    "
      ],
      "execution_count": 29,
      "outputs": []
    },
    {
      "cell_type": "code",
      "metadata": {
        "id": "3XxrjOPH0W6r"
      },
      "source": [
        "chd_list = []\n",
        "for sent in list_wo_punct:\n",
        "  pattern = re.compile(r'ибс')\n",
        "  pattern_1 = re.search(pattern, sent)\n",
        "  try:\n",
        "    chd_list.append(pattern_1)\n",
        "  except:\n",
        "    pass\n",
        "chd = []\n",
        "for i in chd_list:\n",
        "    if not i:\n",
        "        chd.append(0)\n",
        "    else:\n",
        "        chd.append(1)"
      ],
      "execution_count": 30,
      "outputs": []
    },
    {
      "cell_type": "code",
      "metadata": {
        "id": "7xuijQS3E9kO"
      },
      "source": [
        "obst_list = []\n",
        "for sent in list_wo_punct:\n",
        "  pattern = re.compile(r'ожирение')\n",
        "  pattern_1 = re.search(pattern, sent)\n",
        "  try:\n",
        "    obst_list.append(pattern_1)\n",
        "  except:\n",
        "    pass\n",
        "obst = []\n",
        "for i in obst_list:\n",
        "    if not i:\n",
        "        obst.append(0)\n",
        "    else:\n",
        "        obst.append(1)"
      ],
      "execution_count": 31,
      "outputs": []
    },
    {
      "cell_type": "code",
      "metadata": {
        "id": "oEuj8uJ-Ibew"
      },
      "source": [
        "ba_list = []\n",
        "for sent in list_wo_punct:\n",
        "  pattern = re.compile(r'\\sба\\s')\n",
        "  pattern_1 = re.search(pattern, sent)\n",
        "  try:\n",
        "    ba_list.append(pattern_1)\n",
        "  except:\n",
        "    pass\n",
        "ba = []\n",
        "for i in ba_list:\n",
        "    if not i:\n",
        "        ba.append(0)\n",
        "    else:\n",
        "        ba.append(1)"
      ],
      "execution_count": 32,
      "outputs": []
    },
    {
      "cell_type": "code",
      "metadata": {
        "id": "silV2dHJIG-g"
      },
      "source": [
        "copd_list = []\n",
        "for sent in list_wo_punct:\n",
        "  pattern = re.compile(r'хобл')\n",
        "  pattern_1 = re.search(pattern, sent)\n",
        "  try:\n",
        "    copd_list.append(pattern_1)\n",
        "  except:\n",
        "    pass\n",
        "copd = []\n",
        "for i in copd_list:\n",
        "    if not i:\n",
        "        copd.append(0)\n",
        "    else:\n",
        "        copd.append(1)"
      ],
      "execution_count": 33,
      "outputs": []
    },
    {
      "cell_type": "code",
      "metadata": {
        "colab": {
          "base_uri": "https://localhost:8080/"
        },
        "id": "LK8FFA2XHAJR",
        "outputId": "7b42dccc-b62c-40cb-e1d4-2e817344fb14"
      },
      "source": [
        "dfc={}\n",
        "for i in g:\n",
        "    dfc[i] = dfc.get(i, 0)+1\n",
        "dfc"
      ],
      "execution_count": 34,
      "outputs": [
        {
          "output_type": "execute_result",
          "data": {
            "text/plain": [
              "{0: 2017, 1: 214}"
            ]
          },
          "metadata": {
            "tags": []
          },
          "execution_count": 34
        }
      ]
    },
    {
      "cell_type": "code",
      "metadata": {
        "colab": {
          "base_uri": "https://localhost:8080/"
        },
        "id": "8_eWP5w7HAJU",
        "outputId": "2a5f8c56-8e5f-4ece-cc65-9b2a816bc2c4"
      },
      "source": [
        "dfc={}\n",
        "for i in p:\n",
        "    dfc[i] = dfc.get(i, 0)+1\n",
        "dfc"
      ],
      "execution_count": 35,
      "outputs": [
        {
          "output_type": "execute_result",
          "data": {
            "text/plain": [
              "{0: 867, 1: 1364}"
            ]
          },
          "metadata": {
            "tags": []
          },
          "execution_count": 35
        }
      ]
    },
    {
      "cell_type": "code",
      "metadata": {
        "colab": {
          "base_uri": "https://localhost:8080/"
        },
        "id": "U-WZrqI_HAJY",
        "outputId": "25d042cc-20d7-4716-c9ef-b9f9080cde64"
      },
      "source": [
        "dfc={}\n",
        "for i in c:\n",
        "    dfc[i] = dfc.get(i, 0)+1\n",
        "dfc"
      ],
      "execution_count": 36,
      "outputs": [
        {
          "output_type": "execute_result",
          "data": {
            "text/plain": [
              "{0: 1951, 1: 280}"
            ]
          },
          "metadata": {
            "tags": []
          },
          "execution_count": 36
        }
      ]
    },
    {
      "cell_type": "code",
      "metadata": {
        "colab": {
          "base_uri": "https://localhost:8080/"
        },
        "id": "MVDuwhRsHAJa",
        "outputId": "a256cc91-9e92-4d07-9863-52f1880cf96f"
      },
      "source": [
        "len(c)"
      ],
      "execution_count": 37,
      "outputs": [
        {
          "output_type": "execute_result",
          "data": {
            "text/plain": [
              "2231"
            ]
          },
          "metadata": {
            "tags": []
          },
          "execution_count": 37
        }
      ]
    },
    {
      "cell_type": "code",
      "metadata": {
        "colab": {
          "base_uri": "https://localhost:8080/",
          "height": 52
        },
        "id": "9zm5iUuOHAJc",
        "outputId": "59454ac1-94cb-4c94-c89e-e7b085e22c93"
      },
      "source": [
        "list_wo_punct[1]"
      ],
      "execution_count": 39,
      "outputs": [
        {
          "output_type": "execute_result",
          "data": {
            "application/vnd.google.colaboratory.intrinsic+json": {
              "type": "string"
            },
            "text/plain": [
              "'внегоспитальная пневмония в нд слева средней ст тяжести дн0 аг 1 ст риск3 н0 консультации врачейузких специалистов консилиумы врачей результаты инструментальных и аппаратных методов исследования вид исследования rграфия огк2 проекции ээд 042 мзв регистр № 25367 при сравнении с'"
            ]
          },
          "metadata": {
            "tags": []
          },
          "execution_count": 39
        }
      ]
    },
    {
      "cell_type": "code",
      "metadata": {
        "id": "Axf0iqNSHAJe"
      },
      "source": [
        ""
      ],
      "execution_count": null,
      "outputs": []
    },
    {
      "cell_type": "code",
      "metadata": {
        "id": "AwjbNKZeHAJf"
      },
      "source": [
        "# data_dct = {'Platlets':plt_, 'Leucocytes': wbc_, 'Hemoglobin': hgb_,\n",
        "#           'Creatinine': crea_, 'LDG':ldh_, 'Gender':sex_, 'CRP':crp_,\n",
        "#            'Treatment':tr, 'Birthday': bir, 'Admission':ad,\n",
        "#            'Discharge':dis, 'ID':ID_, 'Diagnosis': list_wo_punct,\n",
        "#            'COVID-19': c, 'Pneumonia': p, 'Grade': g, 'RF': rfl, 'ALT': alt_,\n",
        "#            'AST': ast_, 'Procalcitonine': pct_ }"
      ],
      "execution_count": null,
      "outputs": []
    },
    {
      "cell_type": "code",
      "metadata": {
        "id": "CQYoI5UyPvWV"
      },
      "source": [
        "data_dct = {'Platlets':plt_, 'Leucocytes': wbc_, 'Hemoglobin': hgb_,\n",
        "           'Creatinine': crea_, 'LDG':ldh_, 'Gender':sex_, 'CRP':crp_,\n",
        "            'Treatment':tr, 'Birthday': bir, 'Admission':ad,\n",
        "            'Discharge':dis, 'ID':ID_, 'Diagnosis': list_wo_punct,\n",
        "            'COVID-19': c, 'Pneumonia': p, 'Grade': g, 'RF': rfl, 'ALT': alt_,\n",
        "            'AST': ast_, 'Procalcitonine': pct_, 'Diabetes': dbt, 'CHD': chd, 'Obesity': obst, 'BA': ba, 'COPD': copd }"
      ],
      "execution_count": 40,
      "outputs": []
    },
    {
      "cell_type": "code",
      "metadata": {
        "id": "_1nLh828HAJf"
      },
      "source": [
        "dataFrame = pd.DataFrame(data_dct)"
      ],
      "execution_count": 41,
      "outputs": []
    },
    {
      "cell_type": "code",
      "metadata": {
        "colab": {
          "base_uri": "https://localhost:8080/",
          "height": 311
        },
        "id": "-dUHIqGDHAJg",
        "outputId": "5a53c38a-4326-41e3-efc4-14eb2884b307"
      },
      "source": [
        "dataFrame.head(5)"
      ],
      "execution_count": 42,
      "outputs": [
        {
          "output_type": "execute_result",
          "data": {
            "text/html": [
              "<div>\n",
              "<style scoped>\n",
              "    .dataframe tbody tr th:only-of-type {\n",
              "        vertical-align: middle;\n",
              "    }\n",
              "\n",
              "    .dataframe tbody tr th {\n",
              "        vertical-align: top;\n",
              "    }\n",
              "\n",
              "    .dataframe thead th {\n",
              "        text-align: right;\n",
              "    }\n",
              "</style>\n",
              "<table border=\"1\" class=\"dataframe\">\n",
              "  <thead>\n",
              "    <tr style=\"text-align: right;\">\n",
              "      <th></th>\n",
              "      <th>Platlets</th>\n",
              "      <th>Leucocytes</th>\n",
              "      <th>Hemoglobin</th>\n",
              "      <th>Creatinine</th>\n",
              "      <th>LDG</th>\n",
              "      <th>Gender</th>\n",
              "      <th>CRP</th>\n",
              "      <th>Treatment</th>\n",
              "      <th>Birthday</th>\n",
              "      <th>Admission</th>\n",
              "      <th>Discharge</th>\n",
              "      <th>ID</th>\n",
              "      <th>Diagnosis</th>\n",
              "      <th>COVID-19</th>\n",
              "      <th>Pneumonia</th>\n",
              "      <th>Grade</th>\n",
              "      <th>RF</th>\n",
              "      <th>ALT</th>\n",
              "      <th>AST</th>\n",
              "      <th>Procalcitonine</th>\n",
              "      <th>Diabetes</th>\n",
              "      <th>CHD</th>\n",
              "      <th>Obesity</th>\n",
              "      <th>BA</th>\n",
              "      <th>COPD</th>\n",
              "    </tr>\n",
              "  </thead>\n",
              "  <tbody>\n",
              "    <tr>\n",
              "      <th>0</th>\n",
              "      <td>[268, 317, 344]</td>\n",
              "      <td>[12.88, 4.68, 7.81]</td>\n",
              "      <td>[127, 133, 141]</td>\n",
              "      <td>[56]</td>\n",
              "      <td>None</td>\n",
              "      <td>female</td>\n",
              "      <td>[48, 12, 6]</td>\n",
              "      <td>лефлокс, амброксол, индап, амлодипин . аспикар...</td>\n",
              "      <td>29:10:1949</td>\n",
              "      <td>22:05:2017</td>\n",
              "      <td>30:05:2017</td>\n",
              "      <td>3436.0</td>\n",
              "      <td>острый бронхит дн0 ибс атеросклеротический кар...</td>\n",
              "      <td>0</td>\n",
              "      <td>0</td>\n",
              "      <td>0</td>\n",
              "      <td>0</td>\n",
              "      <td>[17]</td>\n",
              "      <td>[23]</td>\n",
              "      <td>None</td>\n",
              "      <td>0</td>\n",
              "      <td>1</td>\n",
              "      <td>0</td>\n",
              "      <td>0</td>\n",
              "      <td>0</td>\n",
              "    </tr>\n",
              "    <tr>\n",
              "      <th>1</th>\n",
              "      <td>[187, 274, 274]</td>\n",
              "      <td>[8.31, 8.29, 8.29]</td>\n",
              "      <td>[143, 138, 138]</td>\n",
              "      <td>None</td>\n",
              "      <td>None</td>\n",
              "      <td>male</td>\n",
              "      <td>[50.6]</td>\n",
              "      <td>цефтриаксон , флустоп , амброксол , ФТ ,</td>\n",
              "      <td>29:01:1970</td>\n",
              "      <td>31:12:2019</td>\n",
              "      <td>10:01:2020</td>\n",
              "      <td>7826.0</td>\n",
              "      <td>внегоспитальная пневмония в нд слева средней с...</td>\n",
              "      <td>0</td>\n",
              "      <td>1</td>\n",
              "      <td>0</td>\n",
              "      <td>0</td>\n",
              "      <td>[126]</td>\n",
              "      <td>[56]</td>\n",
              "      <td>None</td>\n",
              "      <td>0</td>\n",
              "      <td>0</td>\n",
              "      <td>0</td>\n",
              "      <td>0</td>\n",
              "      <td>0</td>\n",
              "    </tr>\n",
              "    <tr>\n",
              "      <th>2</th>\n",
              "      <td>[212, 316]</td>\n",
              "      <td>[20.5, 9.7]</td>\n",
              "      <td>[128, 143]</td>\n",
              "      <td>None</td>\n",
              "      <td>None</td>\n",
              "      <td>female</td>\n",
              "      <td>[256.5, 35.9, 14.02]</td>\n",
              "      <td>цефтриаксон, левофлоксацин, амброксол,клопидог...</td>\n",
              "      <td>15:11:1960</td>\n",
              "      <td>02:02:2020</td>\n",
              "      <td>14:02:2020</td>\n",
              "      <td>743.0</td>\n",
              "      <td>j18 пневмония без уточнения возбудителя основн...</td>\n",
              "      <td>0</td>\n",
              "      <td>1</td>\n",
              "      <td>0</td>\n",
              "      <td>2</td>\n",
              "      <td>[18]</td>\n",
              "      <td>[16]</td>\n",
              "      <td>None</td>\n",
              "      <td>0</td>\n",
              "      <td>0</td>\n",
              "      <td>0</td>\n",
              "      <td>1</td>\n",
              "      <td>1</td>\n",
              "    </tr>\n",
              "    <tr>\n",
              "      <th>3</th>\n",
              "      <td>[335, 460]</td>\n",
              "      <td>[6.99, 7.87]</td>\n",
              "      <td>[144, 104]</td>\n",
              "      <td>[66]</td>\n",
              "      <td>None</td>\n",
              "      <td>male</td>\n",
              "      <td>None</td>\n",
              "      <td>цефтриаксон .  амброксол , аспикард ,  касарк ...</td>\n",
              "      <td>28:10:1943</td>\n",
              "      <td>10:03:2020</td>\n",
              "      <td>19:03:2020</td>\n",
              "      <td>1603.0</td>\n",
              "      <td>j18 пневмония без уточнения возбудителя основн...</td>\n",
              "      <td>0</td>\n",
              "      <td>1</td>\n",
              "      <td>0</td>\n",
              "      <td>1</td>\n",
              "      <td>None</td>\n",
              "      <td>None</td>\n",
              "      <td>None</td>\n",
              "      <td>0</td>\n",
              "      <td>1</td>\n",
              "      <td>0</td>\n",
              "      <td>0</td>\n",
              "      <td>0</td>\n",
              "    </tr>\n",
              "    <tr>\n",
              "      <th>4</th>\n",
              "      <td>[255]</td>\n",
              "      <td>[7.55]</td>\n",
              "      <td>[149]</td>\n",
              "      <td>[104]</td>\n",
              "      <td>None</td>\n",
              "      <td>male</td>\n",
              "      <td>[31.5]</td>\n",
              "      <td>цефтриаксон . амброксол . флустоп , ФТ ,</td>\n",
              "      <td>13:10:1995</td>\n",
              "      <td>15:01:2020</td>\n",
              "      <td>23:01:2020</td>\n",
              "      <td>325.0</td>\n",
              "      <td>внегоспитальная пневмония в вд слева средней с...</td>\n",
              "      <td>0</td>\n",
              "      <td>1</td>\n",
              "      <td>0</td>\n",
              "      <td>0</td>\n",
              "      <td>[63]</td>\n",
              "      <td>[28]</td>\n",
              "      <td>None</td>\n",
              "      <td>0</td>\n",
              "      <td>0</td>\n",
              "      <td>0</td>\n",
              "      <td>0</td>\n",
              "      <td>0</td>\n",
              "    </tr>\n",
              "  </tbody>\n",
              "</table>\n",
              "</div>"
            ],
            "text/plain": [
              "          Platlets           Leucocytes       Hemoglobin  ... Obesity BA COPD\n",
              "0  [268, 317, 344]  [12.88, 4.68, 7.81]  [127, 133, 141]  ...       0  0    0\n",
              "1  [187, 274, 274]   [8.31, 8.29, 8.29]  [143, 138, 138]  ...       0  0    0\n",
              "2       [212, 316]          [20.5, 9.7]       [128, 143]  ...       0  1    1\n",
              "3       [335, 460]         [6.99, 7.87]       [144, 104]  ...       0  0    0\n",
              "4            [255]               [7.55]            [149]  ...       0  0    0\n",
              "\n",
              "[5 rows x 25 columns]"
            ]
          },
          "metadata": {
            "tags": []
          },
          "execution_count": 42
        }
      ]
    },
    {
      "cell_type": "code",
      "metadata": {
        "colab": {
          "base_uri": "https://localhost:8080/",
          "height": 98
        },
        "id": "S6Meaw_9HAJj",
        "outputId": "4c6408b6-0ac1-4403-9af3-f46e2242943b"
      },
      "source": [
        "dataFrame[dataFrame['ID'] == 635.0]"
      ],
      "execution_count": 43,
      "outputs": [
        {
          "output_type": "execute_result",
          "data": {
            "text/html": [
              "<div>\n",
              "<style scoped>\n",
              "    .dataframe tbody tr th:only-of-type {\n",
              "        vertical-align: middle;\n",
              "    }\n",
              "\n",
              "    .dataframe tbody tr th {\n",
              "        vertical-align: top;\n",
              "    }\n",
              "\n",
              "    .dataframe thead th {\n",
              "        text-align: right;\n",
              "    }\n",
              "</style>\n",
              "<table border=\"1\" class=\"dataframe\">\n",
              "  <thead>\n",
              "    <tr style=\"text-align: right;\">\n",
              "      <th></th>\n",
              "      <th>Platlets</th>\n",
              "      <th>Leucocytes</th>\n",
              "      <th>Hemoglobin</th>\n",
              "      <th>Creatinine</th>\n",
              "      <th>LDG</th>\n",
              "      <th>Gender</th>\n",
              "      <th>CRP</th>\n",
              "      <th>Treatment</th>\n",
              "      <th>Birthday</th>\n",
              "      <th>Admission</th>\n",
              "      <th>Discharge</th>\n",
              "      <th>ID</th>\n",
              "      <th>Diagnosis</th>\n",
              "      <th>COVID-19</th>\n",
              "      <th>Pneumonia</th>\n",
              "      <th>Grade</th>\n",
              "      <th>RF</th>\n",
              "      <th>ALT</th>\n",
              "      <th>AST</th>\n",
              "      <th>Procalcitonine</th>\n",
              "      <th>Diabetes</th>\n",
              "      <th>CHD</th>\n",
              "      <th>Obesity</th>\n",
              "      <th>BA</th>\n",
              "      <th>COPD</th>\n",
              "    </tr>\n",
              "  </thead>\n",
              "  <tbody>\n",
              "    <tr>\n",
              "      <th>411</th>\n",
              "      <td>[364, 191]</td>\n",
              "      <td>[4.56, 8.27]</td>\n",
              "      <td>[123, 155]</td>\n",
              "      <td>None</td>\n",
              "      <td>None</td>\n",
              "      <td>male</td>\n",
              "      <td>[7.7]</td>\n",
              "      <td>левофлоксацин , диклофенак , амброксол , омеп...</td>\n",
              "      <td>05:06:1981</td>\n",
              "      <td>28:01:2020</td>\n",
              "      <td>07:02:2020</td>\n",
              "      <td>635.0</td>\n",
              "      <td>внегоспитальная плевропневмония в нд справа в ...</td>\n",
              "      <td>0</td>\n",
              "      <td>1</td>\n",
              "      <td>0</td>\n",
              "      <td>1</td>\n",
              "      <td>[11]</td>\n",
              "      <td>[10]</td>\n",
              "      <td>None</td>\n",
              "      <td>0</td>\n",
              "      <td>0</td>\n",
              "      <td>0</td>\n",
              "      <td>0</td>\n",
              "      <td>0</td>\n",
              "    </tr>\n",
              "  </tbody>\n",
              "</table>\n",
              "</div>"
            ],
            "text/plain": [
              "       Platlets    Leucocytes  Hemoglobin Creatinine  ... CHD Obesity BA COPD\n",
              "411  [364, 191]  [4.56, 8.27]  [123, 155]       None  ...   0       0  0    0\n",
              "\n",
              "[1 rows x 25 columns]"
            ]
          },
          "metadata": {
            "tags": []
          },
          "execution_count": 43
        }
      ]
    },
    {
      "cell_type": "code",
      "metadata": {
        "colab": {
          "base_uri": "https://localhost:8080/"
        },
        "id": "7sDrh6rdHAJk",
        "outputId": "db186798-00d6-40ee-f8d1-0cb587e14036"
      },
      "source": [
        "len(dataFrame['CRP'])"
      ],
      "execution_count": 44,
      "outputs": [
        {
          "output_type": "execute_result",
          "data": {
            "text/plain": [
              "2231"
            ]
          },
          "metadata": {
            "tags": []
          },
          "execution_count": 44
        }
      ]
    },
    {
      "cell_type": "code",
      "metadata": {
        "id": "OqJkrNxTHAJn"
      },
      "source": [
        "dataFrame.to_csv('data_3.csv')"
      ],
      "execution_count": 45,
      "outputs": []
    },
    {
      "cell_type": "code",
      "metadata": {
        "id": "byBSl8V-HAJp"
      },
      "source": [
        ""
      ],
      "execution_count": null,
      "outputs": []
    }
  ]
}
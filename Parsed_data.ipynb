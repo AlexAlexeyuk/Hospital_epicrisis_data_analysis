{
 "cells": [
  {
   "cell_type": "code",
   "execution_count": 203,
   "metadata": {},
   "outputs": [],
   "source": [
    "import os\n",
    "import pandas as pd\n",
    "import glob\n",
    "import string\n",
    "import nltk\n",
    "import re\n"
   ]
  },
  {
   "cell_type": "code",
   "execution_count": 212,
   "metadata": {},
   "outputs": [],
   "source": [
    "import os\n",
    "import pandas as pd\n",
    "import glob\n",
    "import re\n",
    "\n",
    "\n",
    "class Utils():\n",
    "    root_directory = os.chdir('c:/Users/iZiPC.by/notebooks/parser/')# input path\n",
    "    list_of_files = glob.glob('**/*.txt', recursive=True)\n",
    "    invalid_parsing = []\n",
    "    trash = ['Волковыск-1.txt','Волковыск.txt','Вороново-1.txt',\n",
    "         'Вороново.txt', 'Черновик-1.txt', 'Черновик.txt']\n",
    "    for file in list_of_files:\n",
    "        try:\n",
    "             with open(file, encoding='utf-8') as f:\n",
    "                    num = f.readline()\n",
    "                    file_ = f.read()\n",
    "                    if num and file_:\n",
    "                        pass\n",
    "        except:\n",
    "            invalid_parsing.append(file)\n",
    "    for i in invalid_parsing:\n",
    "        list_of_files.remove(i)\n",
    "    for i in trash: \n",
    "        list_of_files.remove(i)\n",
    "\n",
    "\n",
    "list_of_files = Utils.list_of_files\n",
    "\n",
    "\n",
    "plt_ = []\n",
    "wbc_ = []\n",
    "hgb_ = []\n",
    "crea_ = []\n",
    "ldh_ = []\n",
    "sex_ = []\n",
    "crp_ = []\n",
    "tr = []\n",
    "bir = []\n",
    "ad = []\n",
    "dis = []\n",
    "ID_ = []\n",
    "dgs_ = []\n",
    "rf_ = []\n",
    "alt_ = []\n",
    "ast_ = []\n",
    "pct_ = []\n",
    "\n",
    "def ID(num):\n",
    "  \"\"\"returns ID of the patient\"\"\"\n",
    "  for i in num.split():\n",
    "    for char in i.split():\n",
    "        if char.isnumeric():\n",
    "            try:\n",
    "                return int(char)\n",
    "            except:\n",
    "                return 'None'\n",
    "            \n",
    "            \n",
    "def treatment(file_):\n",
    "  \"\"\" returns srting of remedies used for the patient \"\"\"\n",
    "  for line in file_.split('\\n'):\n",
    "    if re.search('лечение', line):  # Does the same thing as \"if 'hello' in line:\"\n",
    "        return(line.replace('Проведенное лечение:', \\\n",
    "                            '').replace('ЛФК', '').replace('ФТЛ', ''))\n",
    "    \n",
    "\n",
    "def born_adm_disch(file_):\n",
    "    \"\"\" finds all nessesary dates in the epicrisis\"\"\"\n",
    "    pattern = re.compile(\"(\\d{2}).(\\d{2}).(\\d{4})\") # check all dates\n",
    "    birthday, admission = pattern.findall(file_)[:2]\n",
    "    discharging = pattern.findall(file_)[-1]\n",
    "    try:\n",
    "        return ':'.join(birthday), ':'.join(admission), ':'.join(discharging)\n",
    "    except:\n",
    "        return 'None'\n",
    "\n",
    "\n",
    "pattern_diagnosis = ['Диагноз:','Диагноз клинический:','Диагноз', 'Д-з:',\n",
    "                     \"Диагноз заключительный:\"]\n",
    "def diagnosis_dirty(file_):\n",
    "  int_ = 0\n",
    "  for i in file_.split():\n",
    "    int_ += 1\n",
    "    if i in pattern_diagnosis:\n",
    "      return file_.split()[int_+1:int_+40]    \n",
    "  \n",
    "\n",
    "def crp(file_):\n",
    "  \"\"\"returns all crp values\"\"\"\n",
    "  pattern = re.sub(r'[ЦСC]РБ', 'С-реактивныйбелок', file_)\n",
    "  pattern_1 = re.compile(r'(?:\\w\\Dреактивныйбелок|\\w\\Dреактивныйбелокдо)\\\n",
    "                         (\\d*.\\d+|\\d+)')\n",
    "  pattern_2 = pattern_1.findall(''.join(pattern.split()))\n",
    "  try:\n",
    "    return pattern_2\n",
    "  except:\n",
    "    return 'None'\n",
    "\n",
    "\n",
    "def gender(file_):\n",
    "  file_ = file_.title()\n",
    "  file_ = ''.join(file_.split())\n",
    "  file_ = re.sub(r'Диагноз.*', '', file_)\n",
    "  patt1 = re.compile(r'(?<=Ф.И.О:)[А-Я]\\w{,20}[А-Я]\\w{,20}(вич)')\n",
    "  patt2 = patt1.findall(file_)\n",
    "  try:\n",
    "    if patt2:\n",
    "      return 'male'\n",
    "    else:\n",
    "      return 'female'\n",
    "  except:\n",
    "      pass\n",
    "  \n",
    "\n",
    "def ldh(file_):\n",
    "  file_ = file_.lower()\n",
    "  file_ = re.sub(r'[():]', '', file_)\n",
    "  file_ = re.sub(r'\\d\\d\\.\\d\\d\\.\\d{2,4}', '', file_)\n",
    "  file_ = re.sub(r'\\wактатдегидрогеназ\\w', 'лдг', file_)\n",
    "  patt1 = re.compile(r'(?<=лдг)\\d{,4}')\n",
    "  patt2 = patt1.findall(''.join(file_.split()))\n",
    "  try:\n",
    "    if patt2:\n",
    "      return patt2\n",
    "    else:\n",
    "      return 'None'\n",
    "  except:\n",
    "    pass\n",
    "\n",
    "\n",
    "\n",
    "def cre(file_):\n",
    "  \"\"\"Returns all creatinine values\"\"\"\n",
    "  file_ = file_.lower()\n",
    "  file_ = re.sub(r'[():]', '', file_)\n",
    "  file_ = re.sub(r'\\d\\d\\.\\d\\d\\.\\d{2,4}', '', file_)\n",
    "  file_ = re.sub(r'(\\wреатини\\w|креатин|креат)(?![а-яА-Я,])', 'cre', file_)\n",
    "  patt1 = re.compile(r'(?<=cre)\\d{,3}')\n",
    "  patt2 = patt1.findall(''.join(file_.split()))\n",
    "  try:\n",
    "    if patt2:\n",
    "      return patt2\n",
    "    else:\n",
    "      return 'None'\n",
    "  except:\n",
    "    pass\n",
    "\n",
    "\n",
    "def hgb(file_):\n",
    "  \"\"\"returns list of str with level of hemoglobin\"\"\"\n",
    "  file_ = file_.lower()\n",
    "  file_ = re.sub(r'[():]', '', file_)\n",
    "  patt = re.compile(r'гемоглобин|гемогл|гб|гем')\n",
    "  patt1 = re.sub(patt, r'hgb', file_)\n",
    "  patt2 = re.compile(r'(?<=hgb)\\d{2,3}')\n",
    "  all_hgb = patt2.findall(''.join(patt1.split()))\n",
    "  try:\n",
    "    if all_hgb:\n",
    "      return all_hgb\n",
    "    else:\n",
    "      return 'None'\n",
    "  except:\n",
    "    pass\n",
    "\n",
    "\n",
    "def wbc(file_):\n",
    "  \"\"\"returns list of str with level of wbc\"\"\"\n",
    "  file_ = file_.lower()\n",
    "  patt1 = re.sub(r'[():]', '', file_)\n",
    "  patt1 = re.sub(r'10(\\*|[еe])9', '', patt1)\n",
    "  patt1 = re.sub(r'\\Dбщийанализкрови', 'оак', patt1) \n",
    "  patt2 = re.sub(r'(?<=оак)\\d\\d.\\d\\d.\\d{2,4}|(?<=оак)\\d\\d.\\d\\d', '', patt1)\n",
    "  patt3 = re.compile(r'(?<=оак|wbc)(?:л|лейкоцит\\w)(\\d*.\\d+|\\d+)')\n",
    "  all_wbc = patt3.findall(''.join(patt2.split()))\n",
    "  try:\n",
    "    if all_wbc:\n",
    "      return all_wbc\n",
    "    else:\n",
    "      return 'None'\n",
    "  except:\n",
    "    pass\n",
    "\n",
    "\n",
    "def plt(file_):\n",
    "  \"\"\"returns list of str with level of plt\"\"\"\n",
    "  file_ = file_.lower()\n",
    "  file_ = re.sub(r'[():]', '', file_)\n",
    "  file_ = re.sub(r'10(\\*|[еe])9', '', file_)\n",
    "  patt2 = re.compile(r'(?:\\wромбоцит\\w|тр)')\n",
    "  patt1 = re.sub(patt2, '', file_)\n",
    "  patt1 = ''.join(patt1.split())\n",
    "  patt2 = re.compile(r'(?<=plt)\\d{3}')\n",
    "  all_plt = patt2.findall(patt1)\n",
    "  try:\n",
    "    if all_plt:\n",
    "      return all_plt\n",
    "    else:\n",
    "      return 'None'\n",
    "  except:\n",
    "    pass\n",
    "\n",
    "\n",
    "def rf(file_):\n",
    "  file_= ''.join(file_.split())  \n",
    "  file_ = re.sub(r'[а-яА-ЯёЁ]ДН[^Шш0-9]', 'ДН'.lower(), file_)\n",
    "  file_ = re.sub(r'(?<=ДН)[1iI]{3}|[Шш]', '3', file_)\n",
    "  file_ = re.sub(r'(?<=ДН)[1iI]{2}|1-2', '2', file_)\n",
    "  file_ = re.sub(r'(?<=ДН)[оoОO]', '0', file_)\n",
    "  patt1 = re.compile(r'(?<=ДН)\\d')\n",
    "  patt2 = patt1.findall(file_)\n",
    "  try:\n",
    "    if patt2:\n",
    "      return patt2\n",
    "    else:\n",
    "      return 'None'  \n",
    "  except:\n",
    "      pass\n",
    "\n",
    "def alt(file_):\n",
    "  file_= ''.join(file_.split())\n",
    "  file_ = file_.lower()\n",
    "  file_ = re.sub(r'[():]', '', file_)\n",
    "  file_ = re.sub(r'\\d{,2}\\.\\d\\d\\.\\d{2,4}', '', file_)\n",
    "  file_ = re.sub(r',', '.', file_)\n",
    "  file_ = re.sub(r'\\wланинаминотрансфераз\\w|алат', 'алт', file_)\n",
    "  patt1 = re.compile(r'(?<=алт)(\\d*\\.\\d+|\\d+)')\n",
    "  patt2 = patt1.findall(file_)\n",
    "  try:\n",
    "    if patt2:\n",
    "      return patt2\n",
    "    else:\n",
    "      return 'None'\n",
    "  except:\n",
    "    pass\n",
    "\n",
    "\n",
    "def ast(file_):\n",
    "  file_= ''.join(file_.split())\n",
    "  file_ = file_.lower()\n",
    "  file_ = re.sub(r'[():]', '', file_)\n",
    "  file_ = re.sub(r'\\d{,2}\\.\\d\\d\\.\\d{2,4}', '', file_)\n",
    "  file_ = re.sub(r',', '.', file_)\n",
    "  file_ = re.sub(r'\\wспартатаминотрансфераз\\w|асат', 'аст', file_)\n",
    "  patt1 = re.compile(r'(?<=аст)(\\d*\\.\\d+|\\d+)')\n",
    "  patt2 = patt1.findall(file_)\n",
    "  try:\n",
    "    if patt2:\n",
    "      return patt2\n",
    "    else:\n",
    "      return 'None'\n",
    "  except:\n",
    "    pass\n",
    "\n",
    "\n",
    "def pct(file_):\n",
    "  file_= ''.join(file_.split())\n",
    "  file_ = file_.lower()\n",
    "  file_ = re.sub(r'[–-]|[():<>]', '', file_)\n",
    "  file_ = re.sub(r'\\d{,2}\\.\\d\\d\\.\\d{2,4}', '', file_)\n",
    "  file_ = re.sub(r',', '.', file_)\n",
    "  file_ = re.sub(r'(\\wрокальцитони\\w|прокальцитон|прокальцит|прокальц)(?![а-яА-Я,])', 'pct', file_)\n",
    "  patt1 = re.compile(r'(?<=pct)(\\d*\\.\\d+|\\d+)')\n",
    "  patt2 = patt1.findall(file_)\n",
    "  try:\n",
    "    if patt2:\n",
    "      return patt2\n",
    "    else:\n",
    "      return 'None'\n",
    "  except:\n",
    "    pass"
   ]
  },
  {
   "cell_type": "code",
   "execution_count": 213,
   "metadata": {},
   "outputs": [],
   "source": [
    "for file in list_of_files:\n",
    "    try:\n",
    "         with open(file, encoding='utf-8') as f:\n",
    "                num = f.readline()\n",
    "                file_ = f.read()\n",
    "                ID_.append(ID((num)))\n",
    "                tr.append(treatment((file_)))\n",
    "                bir.append(born_adm_disch(file_)[0])\n",
    "                ad.append(born_adm_disch(file_)[1])\n",
    "                dis.append(born_adm_disch(file_)[2])\n",
    "                dgs_.append(diagnosis_dirty((file_)))\n",
    "                crp_.append(crp(''.join(file_.split())))\n",
    "                sex_.append(gender(''.join(file_.split())))\n",
    "                ldh_.append(ldh(file_))\n",
    "                crea_.append(cre(file_))\n",
    "                hgb_.append(hgb(file_))\n",
    "                wbc_.append(wbc(file_))\n",
    "                plt_.append(plt(file_))\n",
    "                rf_.append(rf(file_))\n",
    "                alt_.append(alt(file_))\n",
    "                ast_.append(ast(file_))\n",
    "                pct_.append(pct(file_))\n",
    "    except:\n",
    "        print('stp')"
   ]
  },
  {
   "cell_type": "code",
   "execution_count": 214,
   "metadata": {},
   "outputs": [
    {
     "name": "stdout",
     "output_type": "stream",
     "text": [
      "['0.07']\n",
      "['0.10']\n",
      "['0.07']\n",
      "['0.07']\n",
      "['0.37', '0.27', '0.1', '0.08']\n",
      "['0.14']\n",
      "['.07']\n",
      "['0.98']\n"
     ]
    }
   ],
   "source": [
    "for i in pct_:\n",
    "    if i != \"None\":\n",
    "        print(i)"
   ]
  },
  {
   "cell_type": "code",
   "execution_count": 215,
   "metadata": {},
   "outputs": [],
   "source": [
    "rfl = []\n",
    "for o in rf_:\n",
    "    if o:\n",
    "        rfl.append(max(o))\n",
    "    else:\n",
    "        rfl.append('None')"
   ]
  },
  {
   "cell_type": "code",
   "execution_count": null,
   "metadata": {},
   "outputs": [],
   "source": []
  },
  {
   "cell_type": "code",
   "execution_count": 216,
   "metadata": {},
   "outputs": [],
   "source": [
    "diagnosis_cleaned =  []\n",
    "for diagnos in dgs_:\n",
    "    try:\n",
    "        diagnosis_cleaned.append(' '.join(diagnos))\n",
    "    except:\n",
    "        diagnosis_cleaned.append('None')"
   ]
  },
  {
   "cell_type": "code",
   "execution_count": 217,
   "metadata": {},
   "outputs": [
    {
     "data": {
      "text/plain": [
       "2002"
      ]
     },
     "execution_count": 217,
     "metadata": {},
     "output_type": "execute_result"
    }
   ],
   "source": [
    "len(diagnosis_cleaned)"
   ]
  },
  {
   "cell_type": "code",
   "execution_count": 218,
   "metadata": {},
   "outputs": [],
   "source": [
    "PUNCT_TO_REMOVE = string.punctuation\n",
    "def remove_punctuation(text):\n",
    "    \"\"\"custom function to remove the punctuation\"\"\"\n",
    "    return text.translate(str.maketrans('', '', PUNCT_TO_REMOVE))"
   ]
  },
  {
   "cell_type": "code",
   "execution_count": 219,
   "metadata": {},
   "outputs": [],
   "source": [
    "list_wo_punct = []\n",
    "for sent in diagnosis_cleaned:\n",
    "    try:\n",
    "        sent = remove_punctuation(sent.lower())\n",
    "        list_wo_punct.append(sent)\n",
    "    except:\n",
    "        pass"
   ]
  },
  {
   "cell_type": "code",
   "execution_count": 220,
   "metadata": {},
   "outputs": [
    {
     "data": {
      "text/plain": [
       "2002"
      ]
     },
     "execution_count": 220,
     "metadata": {},
     "output_type": "execute_result"
    }
   ],
   "source": [
    "len(list_wo_punct)"
   ]
  },
  {
   "cell_type": "code",
   "execution_count": null,
   "metadata": {},
   "outputs": [],
   "source": []
  },
  {
   "cell_type": "code",
   "execution_count": 221,
   "metadata": {},
   "outputs": [],
   "source": [
    "# def coid19_finder(file_):\n",
    "#     covid_patterns = ['covid19', 'коронавирусная', \"короновирусная\", \"корон\", \"covid19\", 'торсков2', 'sarscov2',\"b342\" ]\n",
    "#     covid_list = []\n",
    "#     for patt in covid_patterns:\n",
    "#         for sent in file_:\n",
    "#             pattern = re.sub(r'patt', 'covid', sent)\n",
    "#             pattern_1 = re.compile(r'covid')\n",
    "#             patt_2 = pattern_1.findall(''.join(pattern.split()))\n",
    "#             try:\n",
    "#                 covid_list.append(patt_2)\n",
    "#             except:\n",
    "#                 pass\n",
    "#     c =[]\n",
    "#     for i in covid_list:\n",
    "#         if not i:\n",
    "#             c.append(0)\n",
    "#         else:\n",
    "#             c.append(1)\n",
    "#     return c"
   ]
  },
  {
   "cell_type": "code",
   "execution_count": 222,
   "metadata": {},
   "outputs": [],
   "source": [
    "#k = coid19_finder(list_wo_punct)"
   ]
  },
  {
   "cell_type": "code",
   "execution_count": 223,
   "metadata": {},
   "outputs": [],
   "source": [
    "covid_list = []"
   ]
  },
  {
   "cell_type": "code",
   "execution_count": 224,
   "metadata": {},
   "outputs": [],
   "source": [
    "c =[]\n",
    "for i in covid_list:\n",
    "    if not i:\n",
    "        c.append(0)\n",
    "    else:\n",
    "        c.append(1)"
   ]
  },
  {
   "cell_type": "code",
   "execution_count": 225,
   "metadata": {},
   "outputs": [],
   "source": [
    "for sent in list_wo_punct:\n",
    "    pattern = re.sub(r'covid19', 'covid', sent )\n",
    "    pattern = re.sub(r'коронавирусная', 'covid', pattern)\n",
    "    pattern = re.sub(r'короновирусная', 'covid', pattern)\n",
    "    pattern = re.sub(r'b342', 'covid', pattern)\n",
    "    pattern = re.sub(r'sarscov2', 'covid', pattern)\n",
    "    pattern = re.sub(r'торсков2', 'covid', pattern)\n",
    "    pattern_1 = re.compile(r'covid')\n",
    "    patt_2 = re.search(pattern_1, pattern)\n",
    "    #patt_2 = pattern_1.findall(''.join(pattern.split()))\n",
    "    try:\n",
    "        covid_list.append(patt_2)\n",
    "    except:\n",
    "        pass"
   ]
  },
  {
   "cell_type": "code",
   "execution_count": 226,
   "metadata": {},
   "outputs": [],
   "source": [
    "pn_list = []\n",
    "for sent in list_wo_punct:\n",
    "    pattern = re.sub(r'пневмония', 'J18', sent )\n",
    "    pattern = re.sub(r'пне...ния', 'J18', pattern)\n",
    "    pattern = re.sub(r'внегоспитальная', 'J18', pattern)\n",
    "    pattern = re.sub(r'внебольничная', 'J18', pattern)\n",
    "    #pattern = re.sub(r'sarscov2', 'covid', pattern)\n",
    "    #pattern = re.sub(r'торсков2', 'covid', pattern)\n",
    "    pattern_1 = re.compile(r'J18')\n",
    "    patt_2 = re.search(pattern_1, pattern)\n",
    "    #patt_2 = pattern_1.findall(''.join(pattern.split()))\n",
    "    try:\n",
    "        pn_list.append(patt_2)\n",
    "    except:\n",
    "        pass"
   ]
  },
  {
   "cell_type": "code",
   "execution_count": 227,
   "metadata": {},
   "outputs": [],
   "source": [
    "# gr_list = []\n",
    "# for sent in list_wo_punct:\n",
    "#     pattern = re.sub(r'тяжёлая', 'тяж', sent )\n",
    "#     pattern = re.sub(r'тяжелая', 'тяж', pattern)\n",
    "#     pattern = re.sub(r'тяжёлое', '', pattern)\n",
    "#     pattern = re.sub(r'внебольничная', 'J18', pattern)\n",
    "#     #pattern = re.sub(r'sarscov2', 'covid', pattern)\n",
    "#     #pattern = re.sub(r'торсков2', 'covid', pattern)\n",
    "#     pattern_1 = re.compile(r'J18')\n",
    "#     patt_2 = re.search(pattern_1, pattern)\n",
    "#     #patt_2 = pattern_1.findall(''.join(pattern.split()))\n",
    "#     try:\n",
    "#         pn_list.append(patt_2)\n",
    "#     except:\n",
    "#         pass"
   ]
  },
  {
   "cell_type": "code",
   "execution_count": 228,
   "metadata": {},
   "outputs": [],
   "source": [
    "g = []\n",
    "\n",
    "for i in gr_list:\n",
    "    if not i:\n",
    "        g.append(0)\n",
    "    else:\n",
    "        g.append(1)"
   ]
  },
  {
   "cell_type": "code",
   "execution_count": 229,
   "metadata": {},
   "outputs": [
    {
     "data": {
      "text/plain": [
       "{0: 1851, 1: 147}"
      ]
     },
     "execution_count": 229,
     "metadata": {},
     "output_type": "execute_result"
    }
   ],
   "source": [
    "dfc={}\n",
    "for i in g:\n",
    "    dfc[i] = dfc.get(i, 0)+1\n",
    "dfc"
   ]
  },
  {
   "cell_type": "code",
   "execution_count": 230,
   "metadata": {},
   "outputs": [],
   "source": [
    "p = []\n",
    "\n",
    "for i in pn_list:\n",
    "    if not i:\n",
    "        p.append(0)\n",
    "    else:\n",
    "        p.append(1)"
   ]
  },
  {
   "cell_type": "code",
   "execution_count": 231,
   "metadata": {},
   "outputs": [
    {
     "data": {
      "text/plain": [
       "{1: 1202, 0: 800}"
      ]
     },
     "execution_count": 231,
     "metadata": {},
     "output_type": "execute_result"
    }
   ],
   "source": [
    "dfc={}\n",
    "for i in p:\n",
    "    dfc[i] = dfc.get(i, 0)+1\n",
    "dfc"
   ]
  },
  {
   "cell_type": "code",
   "execution_count": 232,
   "metadata": {},
   "outputs": [],
   "source": [
    "c =[]\n",
    "for i in covid_list:\n",
    "    if not i:\n",
    "        c.append(0)\n",
    "    else:\n",
    "        c.append(1)"
   ]
  },
  {
   "cell_type": "code",
   "execution_count": 233,
   "metadata": {},
   "outputs": [
    {
     "data": {
      "text/plain": [
       "{0: 1786, 1: 216}"
      ]
     },
     "execution_count": 233,
     "metadata": {},
     "output_type": "execute_result"
    }
   ],
   "source": [
    "dfc={}\n",
    "for i in c:\n",
    "    dfc[i] = dfc.get(i, 0)+1\n",
    "dfc"
   ]
  },
  {
   "cell_type": "code",
   "execution_count": 234,
   "metadata": {},
   "outputs": [
    {
     "data": {
      "text/plain": [
       "2002"
      ]
     },
     "execution_count": 234,
     "metadata": {},
     "output_type": "execute_result"
    }
   ],
   "source": [
    "len(c)"
   ]
  },
  {
   "cell_type": "code",
   "execution_count": 235,
   "metadata": {},
   "outputs": [
    {
     "data": {
      "text/plain": [
       "'поступлении внегоспитальная пневмония в нижней доле левого легкого дн 1 ст диагноз заключительный инфекция covid19 пцр от 03052020 реконвалесцент внегоспитальная пневмония в средней доле правого легкого верхней доле s3s4s5 и нижней s910 левого легкого средней степени тяжести с исходом'"
      ]
     },
     "execution_count": 235,
     "metadata": {},
     "output_type": "execute_result"
    }
   ],
   "source": [
    "list_wo_punct[19]"
   ]
  },
  {
   "cell_type": "code",
   "execution_count": null,
   "metadata": {},
   "outputs": [],
   "source": []
  },
  {
   "cell_type": "code",
   "execution_count": 239,
   "metadata": {},
   "outputs": [],
   "source": [
    "data_dct = {'Platlets':plt_, 'Leucocytes': wbc_, 'Hemoglobin': hgb_,\n",
    "           'Creatinine': crea_, 'LDG':ldh_, 'Gender':sex_, 'CRP':crp_,\n",
    "            'Treatment':tr, 'Birthday': bir, 'Admission':ad,\n",
    "            'Discharge':dis, 'ID':ID_, 'Diagnosis': list_wo_punct,\n",
    "            'COVID-19': c, 'Pneumonia': p, 'RF': rfl, \"ALT\": alt_, \"AST\": ast_, \"Procalcitonine\": pct_ }"
   ]
  },
  {
   "cell_type": "code",
   "execution_count": 240,
   "metadata": {},
   "outputs": [],
   "source": [
    "dataFrame = pd.DataFrame(data_dct)\n"
   ]
  },
  {
   "cell_type": "code",
   "execution_count": 241,
   "metadata": {},
   "outputs": [
    {
     "data": {
      "text/html": [
       "<div>\n",
       "<style scoped>\n",
       "    .dataframe tbody tr th:only-of-type {\n",
       "        vertical-align: middle;\n",
       "    }\n",
       "\n",
       "    .dataframe tbody tr th {\n",
       "        vertical-align: top;\n",
       "    }\n",
       "\n",
       "    .dataframe thead th {\n",
       "        text-align: right;\n",
       "    }\n",
       "</style>\n",
       "<table border=\"1\" class=\"dataframe\">\n",
       "  <thead>\n",
       "    <tr style=\"text-align: right;\">\n",
       "      <th></th>\n",
       "      <th>Platlets</th>\n",
       "      <th>Leucocytes</th>\n",
       "      <th>Hemoglobin</th>\n",
       "      <th>Creatinine</th>\n",
       "      <th>LDG</th>\n",
       "      <th>Gender</th>\n",
       "      <th>CRP</th>\n",
       "      <th>Treatment</th>\n",
       "      <th>Birthday</th>\n",
       "      <th>Admission</th>\n",
       "      <th>Discharge</th>\n",
       "      <th>ID</th>\n",
       "      <th>Diagnosis</th>\n",
       "      <th>COVID-19</th>\n",
       "      <th>Pneumonia</th>\n",
       "      <th>RF</th>\n",
       "      <th>ALT</th>\n",
       "      <th>AST</th>\n",
       "      <th>Procalcitonine</th>\n",
       "    </tr>\n",
       "  </thead>\n",
       "  <tbody>\n",
       "    <tr>\n",
       "      <th>0</th>\n",
       "      <td>[320]</td>\n",
       "      <td>[5.81]</td>\n",
       "      <td>[151]</td>\n",
       "      <td>None</td>\n",
       "      <td>None</td>\n",
       "      <td>female</td>\n",
       "      <td>[]</td>\n",
       "      <td>левофлоксацин . амброксол , парацетамол ,  иб...</td>\n",
       "      <td>12:09:1988</td>\n",
       "      <td>23:09:2019</td>\n",
       "      <td>02:10:2019</td>\n",
       "      <td>5616.0</td>\n",
       "      <td>внегоспитальная полисегментарная пневмония в н...</td>\n",
       "      <td>0</td>\n",
       "      <td>1</td>\n",
       "      <td>0</td>\n",
       "      <td>None</td>\n",
       "      <td>None</td>\n",
       "      <td>None</td>\n",
       "    </tr>\n",
       "    <tr>\n",
       "      <th>1</th>\n",
       "      <td>[444]</td>\n",
       "      <td>[7.15]</td>\n",
       "      <td>[138]</td>\n",
       "      <td>[86]</td>\n",
       "      <td>None</td>\n",
       "      <td>female</td>\n",
       "      <td>[]</td>\n",
       "      <td>триксоцеф.  азитромицин,  амброксол,</td>\n",
       "      <td>22:10:1998</td>\n",
       "      <td>18:01:2018</td>\n",
       "      <td>29:01:2018</td>\n",
       "      <td>430.0</td>\n",
       "      <td>j18 пневмония без уточнения возбудителя основн...</td>\n",
       "      <td>0</td>\n",
       "      <td>1</td>\n",
       "      <td>0</td>\n",
       "      <td>[18]</td>\n",
       "      <td>[25]</td>\n",
       "      <td>None</td>\n",
       "    </tr>\n",
       "    <tr>\n",
       "      <th>2</th>\n",
       "      <td>[148, 371, 159]</td>\n",
       "      <td>[8.2, 5.76, 7.79]</td>\n",
       "      <td>[146, 164, 165]</td>\n",
       "      <td>None</td>\n",
       "      <td>None</td>\n",
       "      <td>female</td>\n",
       "      <td>[]</td>\n",
       "      <td>цефтриаксон, амброксол, плевилокс,</td>\n",
       "      <td>10:05:1963</td>\n",
       "      <td>17:02:2020</td>\n",
       "      <td>13:03:2020</td>\n",
       "      <td>1103.0</td>\n",
       "      <td>j18 пневмония без уточнения возбудителя основн...</td>\n",
       "      <td>0</td>\n",
       "      <td>1</td>\n",
       "      <td>0</td>\n",
       "      <td>[48]</td>\n",
       "      <td>[76]</td>\n",
       "      <td>None</td>\n",
       "    </tr>\n",
       "    <tr>\n",
       "      <th>3</th>\n",
       "      <td>None</td>\n",
       "      <td>None</td>\n",
       "      <td>None</td>\n",
       "      <td>None</td>\n",
       "      <td>None</td>\n",
       "      <td>female</td>\n",
       "      <td>[]</td>\n",
       "      <td>None</td>\n",
       "      <td>03:07:1940</td>\n",
       "      <td>18:05:2018</td>\n",
       "      <td>01:06:2018</td>\n",
       "      <td>3338.0</td>\n",
       "      <td>none</td>\n",
       "      <td>0</td>\n",
       "      <td>0</td>\n",
       "      <td>o</td>\n",
       "      <td>None</td>\n",
       "      <td>None</td>\n",
       "      <td>None</td>\n",
       "    </tr>\n",
       "    <tr>\n",
       "      <th>4</th>\n",
       "      <td>[236]</td>\n",
       "      <td>[10.42]</td>\n",
       "      <td>[146]</td>\n",
       "      <td>None</td>\n",
       "      <td>None</td>\n",
       "      <td>female</td>\n",
       "      <td>[]</td>\n",
       "      <td>цефтриаксон .  амброкосл .  аспикард ,  аторв...</td>\n",
       "      <td>07:09:1957</td>\n",
       "      <td>22:01:2019</td>\n",
       "      <td>30:01:2019</td>\n",
       "      <td>498.0</td>\n",
       "      <td>внегоспитальная пневмония в нижней доле справа...</td>\n",
       "      <td>0</td>\n",
       "      <td>1</td>\n",
       "      <td>0</td>\n",
       "      <td>None</td>\n",
       "      <td>None</td>\n",
       "      <td>None</td>\n",
       "    </tr>\n",
       "  </tbody>\n",
       "</table>\n",
       "</div>"
      ],
      "text/plain": [
       "          Platlets         Leucocytes       Hemoglobin Creatinine   LDG  \\\n",
       "0            [320]             [5.81]            [151]       None  None   \n",
       "1            [444]             [7.15]            [138]       [86]  None   \n",
       "2  [148, 371, 159]  [8.2, 5.76, 7.79]  [146, 164, 165]       None  None   \n",
       "3             None               None             None       None  None   \n",
       "4            [236]            [10.42]            [146]       None  None   \n",
       "\n",
       "   Gender CRP                                          Treatment    Birthday  \\\n",
       "0  female  []   левофлоксацин . амброксол , парацетамол ,  иб...  12:09:1988   \n",
       "1  female  []             триксоцеф.  азитромицин,  амброксол,    22:10:1998   \n",
       "2  female  []               цефтриаксон, амброксол, плевилокс,    10:05:1963   \n",
       "3  female  []                                               None  03:07:1940   \n",
       "4  female  []   цефтриаксон .  амброкосл .  аспикард ,  аторв...  07:09:1957   \n",
       "\n",
       "    Admission   Discharge      ID  \\\n",
       "0  23:09:2019  02:10:2019  5616.0   \n",
       "1  18:01:2018  29:01:2018   430.0   \n",
       "2  17:02:2020  13:03:2020  1103.0   \n",
       "3  18:05:2018  01:06:2018  3338.0   \n",
       "4  22:01:2019  30:01:2019   498.0   \n",
       "\n",
       "                                           Diagnosis  COVID-19  Pneumonia RF  \\\n",
       "0  внегоспитальная полисегментарная пневмония в н...         0          1  0   \n",
       "1  j18 пневмония без уточнения возбудителя основн...         0          1  0   \n",
       "2  j18 пневмония без уточнения возбудителя основн...         0          1  0   \n",
       "3                                               none         0          0  o   \n",
       "4  внегоспитальная пневмония в нижней доле справа...         0          1  0   \n",
       "\n",
       "    ALT   AST Procalcitonine  \n",
       "0  None  None           None  \n",
       "1  [18]  [25]           None  \n",
       "2  [48]  [76]           None  \n",
       "3  None  None           None  \n",
       "4  None  None           None  "
      ]
     },
     "execution_count": 241,
     "metadata": {},
     "output_type": "execute_result"
    }
   ],
   "source": [
    "dataFrame.head(5)"
   ]
  },
  {
   "cell_type": "code",
   "execution_count": null,
   "metadata": {},
   "outputs": [],
   "source": []
  },
  {
   "cell_type": "code",
   "execution_count": 156,
   "metadata": {},
   "outputs": [
    {
     "data": {
      "text/html": [
       "<div>\n",
       "<style scoped>\n",
       "    .dataframe tbody tr th:only-of-type {\n",
       "        vertical-align: middle;\n",
       "    }\n",
       "\n",
       "    .dataframe tbody tr th {\n",
       "        vertical-align: top;\n",
       "    }\n",
       "\n",
       "    .dataframe thead th {\n",
       "        text-align: right;\n",
       "    }\n",
       "</style>\n",
       "<table border=\"1\" class=\"dataframe\">\n",
       "  <thead>\n",
       "    <tr style=\"text-align: right;\">\n",
       "      <th></th>\n",
       "      <th>Platlets</th>\n",
       "      <th>Leucocytes</th>\n",
       "      <th>Hemoglobin</th>\n",
       "      <th>Creatinine</th>\n",
       "      <th>LDG</th>\n",
       "      <th>Gender</th>\n",
       "      <th>CRP</th>\n",
       "      <th>Treatment</th>\n",
       "      <th>Birthday</th>\n",
       "      <th>Admission</th>\n",
       "      <th>Discharge</th>\n",
       "      <th>ID</th>\n",
       "      <th>Diagnosis</th>\n",
       "    </tr>\n",
       "  </thead>\n",
       "  <tbody>\n",
       "    <tr>\n",
       "      <th>31</th>\n",
       "      <td>[364, 191]</td>\n",
       "      <td>[4.56, 8.27]</td>\n",
       "      <td>[123, 155]</td>\n",
       "      <td>None</td>\n",
       "      <td>None</td>\n",
       "      <td>male</td>\n",
       "      <td>[7,7]</td>\n",
       "      <td>левофлоксацин , диклофенак , амброксол , омеп...</td>\n",
       "      <td>05:06:1981</td>\n",
       "      <td>28:01:2020</td>\n",
       "      <td>07:02:2020</td>\n",
       "      <td>635.0</td>\n",
       "      <td>[Внегоспитальная, плевропневмония, в, н/д, спр...</td>\n",
       "    </tr>\n",
       "  </tbody>\n",
       "</table>\n",
       "</div>"
      ],
      "text/plain": [
       "      Platlets    Leucocytes  Hemoglobin Creatinine   LDG Gender    CRP  \\\n",
       "31  [364, 191]  [4.56, 8.27]  [123, 155]       None  None   male  [7,7]   \n",
       "\n",
       "                                            Treatment    Birthday   Admission  \\\n",
       "31   левофлоксацин , диклофенак , амброксол , омеп...  05:06:1981  28:01:2020   \n",
       "\n",
       "     Discharge     ID                                          Diagnosis  \n",
       "31  07:02:2020  635.0  [Внегоспитальная, плевропневмония, в, н/д, спр...  "
      ]
     },
     "execution_count": 156,
     "metadata": {},
     "output_type": "execute_result"
    }
   ],
   "source": [
    "dataFrame[dataFrame['ID'] == 635.0]"
   ]
  },
  {
   "cell_type": "code",
   "execution_count": 116,
   "metadata": {},
   "outputs": [
    {
     "data": {
      "text/plain": [
       "1998"
      ]
     },
     "execution_count": 116,
     "metadata": {},
     "output_type": "execute_result"
    }
   ],
   "source": [
    "len(dataFrame['CRP'])"
   ]
  },
  {
   "cell_type": "code",
   "execution_count": 117,
   "metadata": {},
   "outputs": [],
   "source": [
    "dataFrame.to_csv('data_3.csv')"
   ]
  },
  {
   "cell_type": "code",
   "execution_count": null,
   "metadata": {},
   "outputs": [],
   "source": []
  }
 ],
 "metadata": {
  "kernelspec": {
   "display_name": "Python 3",
   "language": "python",
   "name": "python3"
  },
  "language_info": {
   "codemirror_mode": {
    "name": "ipython",
    "version": 3
   },
   "file_extension": ".py",
   "mimetype": "text/x-python",
   "name": "python",
   "nbconvert_exporter": "python",
   "pygments_lexer": "ipython3",
   "version": "3.8.5"
  }
 },
 "nbformat": 4,
 "nbformat_minor": 4
}

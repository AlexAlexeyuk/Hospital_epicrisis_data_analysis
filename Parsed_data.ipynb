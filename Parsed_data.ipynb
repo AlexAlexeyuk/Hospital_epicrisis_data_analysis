{
  "nbformat": 4,
  "nbformat_minor": 0,
  "metadata": {
    "colab": {
      "name": "15/02/2021.ipynb",
      "provenance": [],
      "collapsed_sections": [],
      "mount_file_id": "19rArXD-659xiNBp9JEKSORwJJh_5o2Po",
      "authorship_tag": "ABX9TyMrRAc1PjRwGlDdmGtPzOZs",
      "include_colab_link": true
    },
    "kernelspec": {
      "display_name": "Python 3",
      "name": "python3"
    }
  },
  "cells": [
    {
      "cell_type": "markdown",
      "metadata": {
        "id": "view-in-github",
        "colab_type": "text"
      },
      "source": [
        "<a href=\"https://colab.research.google.com/github/AlexAlexeyuk/Hospital_epicrisis_data_analysis/blob/1%2F02%2F2021/Parsed_data.ipynb\" target=\"_parent\"><img src=\"https://colab.research.google.com/assets/colab-badge.svg\" alt=\"Open In Colab\"/></a>"
      ]
    },
    {
      "cell_type": "code",
      "metadata": {
        "id": "FQ4Ib5X1qQ-6"
      },
      "source": [
        "import os\r\n",
        "import pandas as pd\r\n",
        "import glob\r\n",
        "import string\r\n",
        "import nltk\r\n",
        "import re\r\n",
        "import numpy as np\r\n",
        "\r\n",
        "\r\n",
        "\r\n",
        "class Utils():\r\n",
        "    root_directory = os.chdir('/content/drive/MyDrive/parser')# input path\r\n",
        "    list_of_files = glob.glob('**/*.txt', recursive=True)\r\n",
        "    invalid_parsing = []\r\n",
        "    trash = ['Волковыск-1.txt','Волковыск.txt','Вороново-1.txt',\r\n",
        "         'Вороново.txt', 'Черновик-1.txt', 'Черновик.txt']\r\n",
        "    for file in list_of_files:\r\n",
        "        try:\r\n",
        "             with open(file, encoding='utf-8') as f:\r\n",
        "                    num = f.readline()\r\n",
        "                    file_ = f.read()\r\n",
        "                    if num and file_:\r\n",
        "                        pass\r\n",
        "        except:\r\n",
        "            invalid_parsing.append(file)\r\n",
        "    for i in invalid_parsing:\r\n",
        "        list_of_files.remove(i)\r\n",
        "    for i in trash: \r\n",
        "        list_of_files.remove(i)\r\n",
        "\r\n",
        "\r\n",
        "list_of_files = Utils.list_of_files\r\n"
      ],
      "execution_count": 2,
      "outputs": []
    },
    {
      "cell_type": "code",
      "metadata": {
        "id": "2QxoC7ObD_b-"
      },
      "source": [
        "plt_ = []\r\n",
        "wbc_ = []\r\n",
        "hgb_ = []\r\n",
        "crea_ = []\r\n",
        "ldh_ = []\r\n",
        "sex_ = []\r\n",
        "crp_ = []\r\n",
        "tr = []\r\n",
        "bir = []\r\n",
        "ad = []\r\n",
        "dis = []\r\n",
        "ID_ = []\r\n",
        "dgs_ = []\r\n",
        "rf_ = []\r\n",
        "alt_ = []\r\n",
        "ast_ = []\r\n",
        "pct_ = []"
      ],
      "execution_count": 3,
      "outputs": []
    },
    {
      "cell_type": "code",
      "metadata": {
        "id": "yBzpnM2oD3c5"
      },
      "source": [
        "def ID(num):\r\n",
        "  \"\"\"returns ID of the patient\"\"\"\r\n",
        "  for i in num.split():\r\n",
        "    for char in i.split():\r\n",
        "        if char.isnumeric():\r\n",
        "            try:\r\n",
        "                return int(char)\r\n",
        "            except:\r\n",
        "                return 'None'\r\n",
        "            \r\n",
        "            \r\n",
        "def treatment(file_):\r\n",
        "  \"\"\" returns srting of remedies used for the patient \"\"\"\r\n",
        "  for line in file_.split('\\n'):\r\n",
        "    if re.search('Провед.нное.лечение', line):  # Does the same thing as \"if 'hello' in line:\"\r\n",
        "        return(line.replace('Проведенное лечение:', \\\r\n",
        "                            '').replace('ЛФК', '').replace('ФТЛ', ''))\r\n",
        "    \r\n",
        "\r\n",
        "def born_adm_disch(file_):\r\n",
        "    \"\"\" finds all nessesary dates in the epicrisis\"\"\"\r\n",
        "    pattern = re.compile(\"(\\d{2}).(\\d{2}).(\\d{4})\") # check all dates\r\n",
        "    birthday, admission = pattern.findall(file_)[:2]\r\n",
        "    discharging = pattern.findall(file_)[-1]\r\n",
        "    try:\r\n",
        "        return ':'.join(birthday), ':'.join(admission), ':'.join(discharging)\r\n",
        "    except:\r\n",
        "        return 'None'\r\n",
        "\r\n",
        "\r\n",
        "pattern_diagnosis = ['Диагноз:','Диагноз клинический:','Диагноз', 'Д-з:',\r\n",
        "                     \"Диагноз заключительный:\"]\r\n",
        "def diagnosis_dirty(file_):\r\n",
        "  int_ = 0\r\n",
        "  for i in file_.split():\r\n",
        "    int_ += 1\r\n",
        "    if i in pattern_diagnosis:\r\n",
        "      return file_.split()[int_+1:int_+40]    \r\n",
        "  \r\n",
        "\r\n",
        "def crp(file_):\r\n",
        "  \"\"\"returns all crp values\"\"\"\r\n",
        "  file_= ''.join(file_.split())\r\n",
        "  file_ = re.sub(r'[ЦСC]РБ|\\w\\D(реактив.|реакт.|реак.)белок', 'С-реактивныйбелок', file_)\r\n",
        "  file_ = re.sub(r'\\d{,2}\\.\\d\\d\\.\\d{2,4}', '', file_)\r\n",
        "  file_ = re.sub(r'[():]', '', file_)\r\n",
        "  file_ = re.sub(r'(?<!С-реактивныйбелок)\\d\\d\\.\\d\\d', '', file_)\r\n",
        "  file_ = re.sub(r',', '.', file_)\r\n",
        "  pattern_1 = re.compile(r'(?:\\w\\Dреактивныйбелок|\\w\\Dреактивныйбелокдо)(\\d*\\.\\d+|\\d+)')\r\n",
        "  pattern_2 = pattern_1.findall(file_)\r\n",
        "  try:\r\n",
        "    if pattern_2:\r\n",
        "      return np.float_(pattern_2)\r\n",
        "    else:\r\n",
        "      return 'None'\r\n",
        "  except:\r\n",
        "    pass\r\n",
        "\r\n",
        "\r\n",
        "def gender(file_):\r\n",
        "  file_ = file_.title()\r\n",
        "  file_ = ''.join(file_.split())\r\n",
        "  file_ = re.sub(r'Диагноз.*', '', file_)\r\n",
        "  patt1 = re.compile(r'[А-Я](\\w{,19}(\\w|\\ич))[А-Я]\\w{,20}(вна)')\r\n",
        "  patt2 = patt1.findall(file_)\r\n",
        "  try:\r\n",
        "    if patt2:\r\n",
        "      return 'female'\r\n",
        "    else:\r\n",
        "      return 'male'\r\n",
        "  except:\r\n",
        "    pass\r\n",
        "  \r\n",
        "\r\n",
        "def ldh(file_):\r\n",
        "  file_= ''.join(file_.split())\r\n",
        "  file_ = file_.lower()\r\n",
        "  file_ = re.sub(r'[():]', '', file_)\r\n",
        "  file_ = re.sub(r'\\d{,2}\\.\\d\\d\\.\\d{2,4}', '', file_)\r\n",
        "  file_ = re.sub(r'\\wактатдегидрогеназ\\w', 'лдг', file_)\r\n",
        "  file_ = re.sub(r'(?<!лдг)\\d\\d\\.\\d\\d', '', file_)\r\n",
        "  patt1 = re.compile(r'(?<=лдг)\\d{,4}')\r\n",
        "  patt2 = patt1.findall(file_)\r\n",
        "  try:\r\n",
        "    if patt2:\r\n",
        "      return np.float_(patt2)\r\n",
        "    else:\r\n",
        "      return 'None'\r\n",
        "  except:\r\n",
        "    pass\r\n",
        "\r\n",
        "\r\n",
        "\r\n",
        "def cre(file_):\r\n",
        "  \"\"\"Returns all creatinine values\"\"\"\r\n",
        "  file_= ''.join(file_.split())  \r\n",
        "  file_ = file_.lower()\r\n",
        "  file_ = re.sub(r'[():]', '', file_)\r\n",
        "  file_ = re.sub(r'\\d{,2}\\.\\d\\d\\.\\d{2,4}', '', file_)\r\n",
        "  file_ = re.sub(r'(\\wреатини\\w|креатин|креат)(?![а-яА-Я,])', 'cre', file_)\r\n",
        "  file_ = re.sub(r'(?<!cre)\\d\\d\\.\\d\\d', '', file_)\r\n",
        "  patt1 = re.compile(r'(?<=cre)\\d{2,3}')\r\n",
        "  patt2 = patt1.findall(file_)\r\n",
        "  try:\r\n",
        "    if patt2:\r\n",
        "      return np.float_(patt2)\r\n",
        "    else:\r\n",
        "      return 'None'\r\n",
        "  except:\r\n",
        "    pass\r\n",
        "\r\n",
        "\r\n",
        "def hgb(file_):\r\n",
        "  \"\"\"returns list of str with level of hemoglobin\"\"\"\r\n",
        "  file_= ''.join(file_.split())  \r\n",
        "  file_ = file_.lower()\r\n",
        "  file_ = re.sub(r'[():]', '', file_)\r\n",
        "  patt = re.compile(r'гемоглобин|гемогл|гб|гем')\r\n",
        "  patt1 = re.sub(patt, r'hgb', file_)\r\n",
        "  patt2 = re.compile(r'(?<=hgb)\\d{2,3}')\r\n",
        "  all_hgb = patt2.findall(patt1)\r\n",
        "  try:\r\n",
        "    if all_hgb:\r\n",
        "      return np.float_(all_hgb)\r\n",
        "    else:\r\n",
        "      return 'None'\r\n",
        "  except:\r\n",
        "    pass\r\n",
        "\r\n",
        "\r\n",
        "def wbc(file_):\r\n",
        "  \"\"\"returns list of str with level of wbc\"\"\"\r\n",
        "  file_= ''.join(file_.split())\r\n",
        "  file_ = file_.lower()\r\n",
        "  file_ = re.sub(r'[():]', '', file_)\r\n",
        "  file_ = re.sub(r'10(\\*|[еe])9', '', file_)\r\n",
        "  file_ = re.sub(r'\\d{,2}\\.\\d\\d\\.\\d{2,4}', '', file_)\r\n",
        "  file_ = re.sub(r'\\Dбщийанализкрови', 'оак', file_)\r\n",
        "  file_ = re.sub(r'(?<=оак)гб\\d*,', '', file_)\r\n",
        "  file_ = re.sub(r',', '.', file_)\r\n",
        "  patt1 = re.compile(r'(?<=оак|wbc)(?:л|лейкоцит\\w)(\\d*\\.\\d+|\\d+)')\r\n",
        "  all_wbc = patt1.findall(file_)\r\n",
        "  try:\r\n",
        "    if all_wbc:\r\n",
        "      return np.float_(all_wbc)\r\n",
        "    else:\r\n",
        "      return 'None'\r\n",
        "  except:\r\n",
        "    pass\r\n",
        "\r\n",
        "\r\n",
        "def plt(file_):\r\n",
        "  \"\"\"returns list of str with level of plt\"\"\"\r\n",
        "  file_= ''.join(file_.split())\r\n",
        "  file_ = file_.lower()\r\n",
        "  file_ = re.sub(r'[():]', '', file_)\r\n",
        "  file_ = re.sub(r'10(\\*|[еe])9', '', file_)\r\n",
        "  file_ = re.sub(r'\\d{,2}\\.\\d\\d\\.\\d{2,4}', '', file_)\r\n",
        "  patt1 = re.compile(r'\\wромбоцит\\w|(?<![а-яА-Я])тр(?![а-яА-Я])')\r\n",
        "  file_ = re.sub(patt1, r'plt', file_)\r\n",
        "  file_ = re.sub(r'(?<!plt)\\d\\d\\.\\d\\d', '', file_)\r\n",
        "  patt2 = re.compile(r'(?<=plt)\\d{3}')\r\n",
        "  all_plt = patt2.findall(file_)\r\n",
        "  try:\r\n",
        "    if all_plt:\r\n",
        "      return np.float_(all_plt)\r\n",
        "    else:\r\n",
        "      return 'None'\r\n",
        "  except:\r\n",
        "    pass\r\n",
        "\r\n",
        "\r\n",
        "def rf(file_):\r\n",
        "  file_= ''.join(file_.split())  \r\n",
        "  file_ = re.sub(r'[а-яА-ЯёЁ]ДН[^Шш0-9]', 'ДН'.lower(), file_)\r\n",
        "  file_ = re.sub(r'(?<=ДН)[1iI]{3}|[Шш]', '3', file_)\r\n",
        "  file_ = re.sub(r'(?<=ДН)[1iI]{2}|1-2', '2', file_)\r\n",
        "  file_ = re.sub(r'(?<=ДН)[оoОO]', '0', file_)\r\n",
        "  patt1 = re.compile(r'(?<=ДН)\\d')\r\n",
        "  patt2 = patt1.findall(file_)\r\n",
        "  try:\r\n",
        "    if patt2:\r\n",
        "      return patt2\r\n",
        "    else:\r\n",
        "      return 0\r\n",
        "  except:\r\n",
        "      return 0\r\n",
        "\r\n",
        "\r\n",
        "\r\n",
        "def alt(file_):\r\n",
        "  file_= ''.join(file_.split())\r\n",
        "  file_ = file_.lower()\r\n",
        "  file_ = re.sub(r'[():]', '', file_)\r\n",
        "  file_ = re.sub(r'\\d{,2}\\.\\d\\d\\.\\d{2,4}', '', file_)\r\n",
        "  file_ = re.sub(r'\\wланинаминотрансфераз\\w|алат', 'алт', file_)\r\n",
        "  file_ = re.sub(r'(?<!алт)\\d\\d\\.\\d\\d', '', file_)\r\n",
        "  file_ = re.sub(r',', '.', file_) \r\n",
        "  patt1 = re.compile(r'(?<=алт)(\\d*\\.\\d+|\\d+)')\r\n",
        "  patt2 = patt1.findall(file_)\r\n",
        "  try:\r\n",
        "    if patt2:\r\n",
        "      return np.float_(patt2)\r\n",
        "    else:\r\n",
        "      return 'None'\r\n",
        "  except:\r\n",
        "    pass\r\n",
        "\r\n",
        "\r\n",
        "def ast(file_):\r\n",
        "  file_= ''.join(file_.split())\r\n",
        "  file_ = file_.lower()\r\n",
        "  file_ = re.sub(r'[():]', '', file_)\r\n",
        "  file_ = re.sub(r'\\d{,2}\\.\\d\\d\\.\\d{2,4}', '', file_)\r\n",
        "  file_ = re.sub(r'\\wспартатаминотрансфераз\\w|асат', 'аст', file_)\r\n",
        "  file_ = re.sub(r'(?<!аст)\\d\\d\\.\\d\\d', '', file_)\r\n",
        "  file_ = re.sub(r',', '.', file_)\r\n",
        "  patt1 = re.compile(r'(?<=аст)(\\d*\\.\\d+|\\d+)')\r\n",
        "  patt2 = patt1.findall(file_)\r\n",
        "  try:\r\n",
        "    if patt2:\r\n",
        "      return np.float_(patt2)\r\n",
        "    else:\r\n",
        "      return 'None'\r\n",
        "  except:\r\n",
        "    pass\r\n",
        "\r\n",
        "\r\n",
        "def pct(file_):\r\n",
        "  file_= ''.join(file_.split())\r\n",
        "  file_ = file_.lower()\r\n",
        "  file_ = re.sub(r'(?<=\\,\\d)\\,|\\.\\d{2}\\.\\d\\d\\.\\d{2,4}.', '', file_)\r\n",
        "  file_ = re.sub(r'\\d{,2}\\.\\d\\d\\.\\d{2,4}(\\.|)', '', file_)\r\n",
        "  file_ = re.sub(r'[–-]|[():<>=]', '', file_)\r\n",
        "  file_ = re.sub(r'менее', '', file_)\r\n",
        "  file_ = re.sub(r'от', '', file_)\r\n",
        "  file_ = re.sub(r'(\\wрокальцитони\\w|прокальцитон|прокальцит|прокальц|рст)(?![а-яА-Я,])', 'pct', file_)\r\n",
        "  file_ = re.sub(r',', '.', file_)\r\n",
        "  patt1 = re.compile(r'(?<=pct)(\\d*\\.\\d+|\\d+)')\r\n",
        "  patt2 = patt1.findall(file_)\r\n",
        "  try:\r\n",
        "    if patt2:\r\n",
        "      return np.float_(patt2)\r\n",
        "    else:\r\n",
        "      return 'None'\r\n",
        "  except:\r\n",
        "    pass"
      ],
      "execution_count": 4,
      "outputs": []
    },
    {
      "cell_type": "code",
      "metadata": {
        "id": "nn5MGzXVCJ3i"
      },
      "source": [
        "for file in list_of_files:\r\n",
        "    try:\r\n",
        "         with open(file, encoding='utf-8') as f:\r\n",
        "                num = f.readline()\r\n",
        "                file_ = f.read()\r\n",
        "                ID_.append(ID((num)))\r\n",
        "                tr.append(treatment((file_)))\r\n",
        "                bir.append(born_adm_disch(file_)[0])\r\n",
        "                ad.append(born_adm_disch(file_)[1])\r\n",
        "                dis.append(born_adm_disch(file_)[2])\r\n",
        "                dgs_.append(diagnosis_dirty((file_)))\r\n",
        "                crp_.append(crp(file_))\r\n",
        "                sex_.append(gender(file_))\r\n",
        "                ldh_.append(ldh(file_))\r\n",
        "                crea_.append(cre(file_))\r\n",
        "                hgb_.append(hgb(file_))\r\n",
        "                wbc_.append(wbc(file_))\r\n",
        "                plt_.append(plt(file_))\r\n",
        "                rf_.append(rf(file_))\r\n",
        "                alt_.append(alt(file_))\r\n",
        "                ast_.append(ast(file_))\r\n",
        "                pct_.append(pct(file_))\r\n",
        "    except:\r\n",
        "        print('stp')"
      ],
      "execution_count": 5,
      "outputs": []
    },
    {
      "cell_type": "code",
      "metadata": {
        "id": "mX118PEvBhch"
      },
      "source": [
        "diagnosis_cleaned =  []\r\n",
        "for diagnos in dgs_:\r\n",
        "    try:\r\n",
        "        diagnosis_cleaned.append(' '.join(diagnos))\r\n",
        "    except:\r\n",
        "        diagnosis_cleaned.append('None')\r\n",
        "        \r\n",
        "        \r\n",
        "        \r\n",
        "PUNCT_TO_REMOVE = string.punctuation\r\n",
        "def remove_punctuation(text):\r\n",
        "    \"\"\"custom function to remove the punctuation\"\"\"\r\n",
        "    return text.translate(str.maketrans('', '', PUNCT_TO_REMOVE))\r\n",
        "\r\n",
        "\r\n",
        "\r\n",
        "\r\n",
        "\r\n",
        "list_wo_punct = []\r\n",
        "for sent in diagnosis_cleaned:\r\n",
        "    try:\r\n",
        "        sent = remove_punctuation(sent.lower())\r\n",
        "        list_wo_punct.append(sent)\r\n",
        "    except:\r\n",
        "        pass\r\n",
        "        \r\n"
      ],
      "execution_count": 6,
      "outputs": []
    },
    {
      "cell_type": "code",
      "metadata": {
        "id": "wrJHpXKnBhh2"
      },
      "source": [
        "covid_list = []    \r\n",
        "for sent in list_wo_punct:\r\n",
        "    pattern = re.sub(r'covid19', 'covid', sent )\r\n",
        "    pattern = re.sub(r'коронавирусная', 'covid', pattern)\r\n",
        "    pattern = re.sub(r'короновирусная', 'covid', pattern)\r\n",
        "    pattern = re.sub(r'b342', 'covid', pattern)\r\n",
        "    pattern = re.sub(r'sarscov2', 'covid', pattern)\r\n",
        "    pattern = re.sub(r'торсков2', 'covid', pattern)\r\n",
        "    pattern_1 = re.compile(r'covid')\r\n",
        "    patt_2 = re.search(pattern_1, pattern)\r\n",
        "    try:\r\n",
        "        covid_list.append(patt_2)\r\n",
        "    except:\r\n",
        "        pass\r\n",
        "    \r\n",
        "    \r\n",
        "c =[]\r\n",
        "#если есть коронавирусная инфекция - 1, иначе - 0\r\n",
        "for i in covid_list:\r\n",
        "    if not i:\r\n",
        "        c.append(0)\r\n",
        "    else:\r\n",
        "        c.append(1) "
      ],
      "execution_count": 7,
      "outputs": []
    },
    {
      "cell_type": "code",
      "metadata": {
        "id": "lR3TXAM7CNLv"
      },
      "source": [
        "pn_list = []\r\n",
        "for sent in list_wo_punct:\r\n",
        "    pattern = re.sub(r'пневмония', 'J18', sent )\r\n",
        "    pattern = re.sub(r'пне...ния', 'J18', pattern)\r\n",
        "    pattern = re.sub(r'внегоспитальная', 'J18', pattern)\r\n",
        "    pattern = re.sub(r'внебольничная', 'J18', pattern)\r\n",
        "    pattern_1 = re.compile(r'J18')\r\n",
        "    patt_2 = re.search(pattern_1, pattern)\r\n",
        "    try:\r\n",
        "        pn_list.append(patt_2)\r\n",
        "    except:\r\n",
        "        pass  \r\n",
        "    \r\n",
        "    \r\n",
        "p = []\r\n",
        "# если есть пневмония - 1, иначе - 0\r\n",
        "for i in pn_list:\r\n",
        "    if not i:\r\n",
        "        p.append(0)\r\n",
        "    else:\r\n",
        "        p.append(1)"
      ],
      "execution_count": 8,
      "outputs": []
    },
    {
      "cell_type": "code",
      "metadata": {
        "id": "naVYVgYpDgt7",
        "colab": {
          "base_uri": "https://localhost:8080/"
        },
        "outputId": "ed970a69-31d7-459a-f51a-9e33e270cbb6"
      },
      "source": [
        "ihd_list = []\r\n",
        "for sent in list_wo_punct:\r\n",
        "    pattern = re.sub(r'ссн', 'ИБС', sent )\r\n",
        "    pattern = re.sub(r'ибс', 'ИБС', pattern)\r\n",
        "    pattern = re.sub(r'атеросклеротический', 'ИБС', pattern)\r\n",
        "    pattern = re.sub(r'кардиосклероз', 'ИБС', pattern)\r\n",
        "    pattern = re.sub(r'фп', 'ИБС', pattern)\r\n",
        "    pattern = re.sub(r'фибрил....', 'ИБС', pattern)\r\n",
        "    pattern_1 = re.compile(r'ИБС')\r\n",
        "    patt_2 = re.search(pattern_1, pattern)\r\n",
        "    try:\r\n",
        "        ihd_list.append(patt_2)\r\n",
        "    except:\r\n",
        "        pass  \r\n",
        "# итого, обработаны все возможные паттерны    \r\n",
        "    \r\n",
        "ihd = []\r\n",
        "\r\n",
        "for i in ihd_list:\r\n",
        "    if not i:\r\n",
        "        ihd.append(0)\r\n",
        "    else:\r\n",
        "        ihd.append(1)\r\n",
        "\r\n",
        "d = {}\r\n",
        "for i in ihd:\r\n",
        "    d[i]=d.get(i, 0)+1\r\n",
        "d"
      ],
      "execution_count": 9,
      "outputs": [
        {
          "output_type": "execute_result",
          "data": {
            "text/plain": [
              "{0: 1253, 1: 978}"
            ]
          },
          "metadata": {
            "tags": []
          },
          "execution_count": 9
        }
      ]
    },
    {
      "cell_type": "code",
      "metadata": {
        "colab": {
          "base_uri": "https://localhost:8080/"
        },
        "id": "1uobHqWlDC3T",
        "outputId": "1c73c2a0-88fa-4b4b-f79e-5d90a90f66af"
      },
      "source": [
        "dm_list = []\r\n",
        "for sent in list_wo_punct:\r\n",
        "    pattern = re.sub(r'сд', 'СД', sent )\r\n",
        "    pattern = re.sub(r'сах.....', 'СД', pattern)\r\n",
        "    pattern = re.sub(r'д.абет', 'СД', pattern)\r\n",
        "    pattern_1 = re.compile(r'СД')\r\n",
        "    patt_2 = re.search(pattern_1, pattern)\r\n",
        "    try:\r\n",
        "        dm_list.append(patt_2)\r\n",
        "    except:\r\n",
        "        pass  \r\n",
        "    \r\n",
        "dm_ = []\r\n",
        "\r\n",
        "for i in dm_list:\r\n",
        "    if not i:\r\n",
        "        dm_.append(0)\r\n",
        "    else:\r\n",
        "        dm_.append(1)\r\n",
        "        \r\n",
        "d = {}\r\n",
        "for i in dm_:\r\n",
        "    d[i]=d.get(i, 0)+1\r\n",
        "d"
      ],
      "execution_count": 10,
      "outputs": [
        {
          "output_type": "execute_result",
          "data": {
            "text/plain": [
              "{0: 2102, 1: 129}"
            ]
          },
          "metadata": {
            "tags": []
          },
          "execution_count": 10
        }
      ]
    },
    {
      "cell_type": "code",
      "metadata": {
        "id": "ERpLma1lDC9u",
        "colab": {
          "base_uri": "https://localhost:8080/"
        },
        "outputId": "2c981f91-2a6b-465d-fbcd-90fc418d63d6"
      },
      "source": [
        "obes_list = []\r\n",
        "for sent in list_wo_punct:\r\n",
        "    pattern = re.sub(r'ожир.н..', 'ОЖИРЕНИЕ', sent )\r\n",
        "    pattern = re.sub(r'.нжо.', 'ОЖИРЕНИЕ', pattern)\r\n",
        "    \r\n",
        "    #pattern = re.sub(r'торсков2', 'covid', pattern)\r\n",
        "    pattern_1 = re.compile(r'ОЖИРЕНИЕ')\r\n",
        "    patt_2 = re.search(pattern_1, pattern)\r\n",
        "    #patt_2 = pattern_1.findall(''.join(pattern.split()))\r\n",
        "    try:\r\n",
        "        obes_list.append(patt_2)\r\n",
        "    except:\r\n",
        "        pass  \r\n",
        "    \r\n",
        "ob_ = []\r\n",
        "\r\n",
        "for i in obes_list:\r\n",
        "    if not i:\r\n",
        "        ob_.append(0)\r\n",
        "    else:\r\n",
        "        ob_.append(1)\r\n",
        "    \r\n",
        "d = {}\r\n",
        "for i in ob_:\r\n",
        "    d[i]=d.get(i, 0)+1\r\n",
        "d"
      ],
      "execution_count": 11,
      "outputs": [
        {
          "output_type": "execute_result",
          "data": {
            "text/plain": [
              "{0: 2119, 1: 112}"
            ]
          },
          "metadata": {
            "tags": []
          },
          "execution_count": 11
        }
      ]
    },
    {
      "cell_type": "code",
      "metadata": {
        "id": "McJhrJErEdIr",
        "colab": {
          "base_uri": "https://localhost:8080/"
        },
        "outputId": "5784043b-4bf2-49c6-fd0f-2f652dcc3d68"
      },
      "source": [
        "copd_list = []\r\n",
        "for sent in list_wo_punct:\r\n",
        "    pattern = re.sub(r'хобл', 'ХОБЛ', sent )\r\n",
        "    pattern = re.sub(r'другая обструктивная', 'ХОБЛ', pattern)\r\n",
        "    pattern = re.sub(r'j44', 'ХОБЛ', pattern)\r\n",
        "    pattern_1 = re.compile(r'ХОБЛ')\r\n",
        "    patt_2 = re.search(pattern_1, pattern)\r\n",
        "    try:\r\n",
        "        copd_list.append(patt_2)\r\n",
        "    except:\r\n",
        "        pass  \r\n",
        "\r\n",
        "\r\n",
        "copd_ = []\r\n",
        "for i in copd_list:\r\n",
        "    if not i:\r\n",
        "        copd_.append(0)\r\n",
        "    else:\r\n",
        "        copd_.append(1)    \r\n",
        "        \r\n",
        "d = {}\r\n",
        "for i in copd_:\r\n",
        "    d[i] = d.get(i, 0) + 1\r\n",
        "d"
      ],
      "execution_count": 12,
      "outputs": [
        {
          "output_type": "execute_result",
          "data": {
            "text/plain": [
              "{0: 1837, 1: 394}"
            ]
          },
          "metadata": {
            "tags": []
          },
          "execution_count": 12
        }
      ]
    },
    {
      "cell_type": "code",
      "metadata": {
        "colab": {
          "base_uri": "https://localhost:8080/"
        },
        "id": "ylvSJO2HElU8",
        "outputId": "569675a5-4a04-405d-d45d-fea5861ea35d"
      },
      "source": [
        "ba_list = []\r\n",
        "for sent in list_wo_punct:\r\n",
        "  pattern = re.sub(r'бронхиальная', 'БА', sent )\r\n",
        "  pattern = re.sub(r'частично контролируемая', 'БА', pattern)\r\n",
        "  pattern = re.sub(r'\\sба\\s', 'БА', pattern )\r\n",
        "  pattern = re.sub(r'неконтролируемая', 'БА', pattern )\r\n",
        "  pattern_1 = re.compile(r'БА')\r\n",
        "  pattern_2 = re.search(pattern_1, pattern)\r\n",
        "  try:\r\n",
        "    ba_list.append(pattern_2)\r\n",
        "  except:\r\n",
        "    pass\r\n",
        "ba = []\r\n",
        "for i in ba_list:\r\n",
        "    if not i:\r\n",
        "        ba.append(0)\r\n",
        "    else:\r\n",
        "        ba.append(1)\r\n",
        "\r\n",
        "d = {}\r\n",
        "for i in ba:\r\n",
        "    d[i] = d.get(i, 0) + 1\r\n",
        "d"
      ],
      "execution_count": 24,
      "outputs": [
        {
          "output_type": "execute_result",
          "data": {
            "text/plain": [
              "{0: 2071, 1: 160}"
            ]
          },
          "metadata": {
            "tags": []
          },
          "execution_count": 24
        }
      ]
    },
    {
      "cell_type": "code",
      "metadata": {
        "id": "GO3XJ40-E9QW",
        "colab": {
          "base_uri": "https://localhost:8080/"
        },
        "outputId": "2ecd70bd-adc5-410d-c350-917a77181920"
      },
      "source": [
        "# нас интересует самый высокий уроведь ДН, т.к. у пациента при поступлении ДН может быть 2, а при выписке - 0,\r\n",
        "# о тяжести пациента мы будем судить по наибольшему значению\r\n",
        "rfl = []\r\n",
        "for i in rf_:\r\n",
        "    if i:\r\n",
        "        rfl.append(max(np.float_(i)))\r\n",
        "    else:\r\n",
        "        rfl.append(0)\r\n",
        "\r\n",
        "d = {}\r\n",
        "for i in rfl:\r\n",
        "    d[i] = d.get(i, 0) + 1\r\n",
        "d"
      ],
      "execution_count": 14,
      "outputs": [
        {
          "output_type": "execute_result",
          "data": {
            "text/plain": [
              "{0: 1009, 1.0: 665, 2.0: 534, 3.0: 23}"
            ]
          },
          "metadata": {
            "tags": []
          },
          "execution_count": 14
        }
      ]
    },
    {
      "cell_type": "code",
      "metadata": {
        "id": "BvQSgiPvFj1r"
      },
      "source": [
        "gr_list = []\r\n",
        "for sent in list_wo_punct:\r\n",
        "  pattern = re.sub(r'среднетяж.л..', '', sent)\r\n",
        "  pattern = re.sub(r'ср.тяж.', '', sent)\r\n",
        "  pattern = re.sub(r'нетяж.л..', '', pattern)\r\n",
        "  pattern_1 = re.compile(r'тяж.л..')\r\n",
        "  pattern_2 = re.search(pattern_1, pattern)\r\n",
        "  try:\r\n",
        "    gr_list.append(pattern_2)\r\n",
        "  except:\r\n",
        "    pass"
      ],
      "execution_count": 15,
      "outputs": []
    },
    {
      "cell_type": "code",
      "metadata": {
        "colab": {
          "base_uri": "https://localhost:8080/"
        },
        "id": "zjHjWNVYFgBH",
        "outputId": "b44bd98e-550d-4c6b-9862-8d70abb39b3f"
      },
      "source": [
        "g = []\r\n",
        "for i in gr_list:\r\n",
        "    if not i:\r\n",
        "        g.append(0)\r\n",
        "    else:\r\n",
        "        g.append(1)\r\n",
        "d = {}\r\n",
        "for i in g:\r\n",
        "    d[i] = d.get(i, 0) + 1\r\n",
        "d"
      ],
      "execution_count": 16,
      "outputs": [
        {
          "output_type": "execute_result",
          "data": {
            "text/plain": [
              "{0: 2017, 1: 214}"
            ]
          },
          "metadata": {
            "tags": []
          },
          "execution_count": 16
        }
      ]
    },
    {
      "cell_type": "code",
      "metadata": {
        "id": "ClMAecNSFsos"
      },
      "source": [
        "# задаём словарь, в котором ключ - истинное название препарата, а значения - варианты названий ( коммерческих) и\r\n",
        "# названия с ошибками для обработки с помощью регулярных выражений\r\n",
        "\r\n",
        "dict_treatment = {'лизиноприл':'л.з.....ил|лизитар|лизинеоприл', \r\n",
        "                  'цефтриаксон':'три.....ф|цефт.....он|цефтриакосн', \r\n",
        "                   \"метопролол\":\"мет.....ол|эгилок\", \r\n",
        "                  \"фраксипарин\":\"фра......ин\",\r\n",
        "                  'тейкопланин': \"тей......ин.\",\r\n",
        "                  \"амброксол\": \"аброкол|амброко.|амб......|амброксолс|амброкосл|амброксолл|амброксолл|аброксол|амброксолл\", \r\n",
        "                  \"моксифлоксацин\": 'пле....кс.|мокс.......цин',\r\n",
        "                  \"молсидомин\":\"м.лсид...н\",\r\n",
        "                  \"спиронолактон\":\"сп.р.......он.|верош....н\",\r\n",
        "                 \"бисопролол\":\"б.с.пр..ол|бисопралдол|бикард|конкор\", \r\n",
        "                  \"лансопрозол\": \"лан......ол|ланс.зол\",\r\n",
        "                 \"меропенем\":\"мер....ем\",\r\n",
        "                  \"аторвастатин\": \"липромак|аторв.......\",\r\n",
        "                 \"дексаметазон\": \"декс.......н|дексаетазон\",\r\n",
        "                 \"левофлоксацин\": \"лев.......цин\",\r\n",
        "                 \"омепразол\": \"омез|омепр..ол\",\r\n",
        "                 \"азитромицин\": \"азит.......\",\r\n",
        "                 \"кандесартан\": \"к.с.рк\",\r\n",
        "                 \"амоксициллин\": \"амоксицилин|амо........н\",\r\n",
        "                 \"озельтамивир\": \"флустоп|озел.......р\",\r\n",
        "                 \"эноксапарин\": \"клексан|кл...ан\",\r\n",
        "                 \"имепенем\": \"им....ем\",\r\n",
        "                 \"клопидогрел\": \"клопидогрель|плавикс|клорпидогрель\",\r\n",
        "                 \"аспикард\": \"аспкиард|кардиомагнил|ас....рд\",\r\n",
        "                 \"амлодипин\":\"амл....ин\",\r\n",
        "                 \"амикацин\": \"ам.к...н\",\r\n",
        "                 \"индапамид\": \"индап|инд.....д\",\r\n",
        "                 \"беродуал\": \"бер.дуал|ипратропия.бромид\",\r\n",
        "                 \"ацетилцистеин\": \"ацецемед|асс|ацц|ацемед|ацецезон\",\r\n",
        "                 \"парацетамол\": \"парац.....л\",\r\n",
        "                 \"гидроксихлорохин\": \"плаквенил|имар.|иммар.\",\r\n",
        "                 \"метилпреднизолон\": \"медрол|м.дрол|метипред|диметилпреднизолон\",\r\n",
        "                 \"теофиллин\": \"теофилин|теотард|теофилл\",\r\n",
        "                 \"кларитромицин\": \"кларибацин|кла.......цин\",\r\n",
        "                 \"лозартан\": \"лазртан|л...ртан|л.риста\",\r\n",
        "                 \"валсартан\": \"валозартан|валз|вал....ан\",\r\n",
        "                 \"моксонидин\": \"м.кс.н.дин\",\r\n",
        "                 \"амиодарон\": \"ами.д.р.н|к.рд.рон\",\r\n",
        "                 \"полимиксин\": \"колистин|колистат|к.л.стат\",\r\n",
        "                 \"преднизолон\": \"преднезолон|пре.н.з.лон\",\r\n",
        "                 \"рамиприл\": \"рам.л...|рам.прил\",\r\n",
        "                 \"карбомазепин\": \"карб.м.з.п.н\",\r\n",
        "                 \"кетаролак\": \"кет.р.лак|кет.рол|кет.н.в\",\r\n",
        "                 \"гентамицин\": \"г.нт.мицин\",\r\n",
        "                 \"цефепим\": \"ц.ф.пим\",\r\n",
        "                 \"цефоперазон/сульбактам\": \"цеф.пер.зон|цеф.пер.зон.су.......\",\r\n",
        "                 \"тайгециклин\": \"тиг.циклин|та.г.циклин\",\r\n",
        "                 \"зопиклон\": \"з.п.клон|соне.|соне.с\"}\r\n",
        "\r\n",
        "cleaned_treatment = []\r\n",
        "for words in tr:\r\n",
        "    try:\r\n",
        "        for i, j in dict_treatment.items():\r\n",
        "            words = re.sub(j, i, words.lower())\r\n",
        "\r\n",
        "        cleaned_treatment.append(words)\r\n",
        "    except:\r\n",
        "        cleaned_treatment.append(\"None\")\r\n",
        "        \r\n",
        "        \r\n",
        "        "
      ],
      "execution_count": 17,
      "outputs": []
    },
    {
      "cell_type": "code",
      "metadata": {
        "colab": {
          "base_uri": "https://localhost:8080/"
        },
        "id": "r0zzq0vgGjmb",
        "outputId": "13b73a80-5d23-4e7e-9b31-f3880a1af4e3"
      },
      "source": [
        "initial_pct = []\r\n",
        "max_pct = []\r\n",
        "try:\r\n",
        "    for pct in pct_:\r\n",
        "        if pct != 'None':\r\n",
        "            initial_pct.append(pct[0])\r\n",
        "            max_pct.append(max(pct))\r\n",
        "        else:\r\n",
        "            initial_pct.append(0)\r\n",
        "            max_pct.append(0)\r\n",
        "            \r\n",
        "except:\r\n",
        "    initial_pct.append(0)\r\n",
        "    max_pct.append(0)"
      ],
      "execution_count": 18,
      "outputs": [
        {
          "output_type": "stream",
          "text": [
            "/usr/local/lib/python3.6/dist-packages/ipykernel_launcher.py:5: FutureWarning: elementwise comparison failed; returning scalar instead, but in the future will perform elementwise comparison\n",
            "  \"\"\"\n"
          ],
          "name": "stderr"
        }
      ]
    },
    {
      "cell_type": "code",
      "metadata": {
        "id": "eou-8wBLqSSc"
      },
      "source": [
        "initial_pct_ = list(map(lambda x: x / 100 if x > 5 else x, initial_pct))\r\n",
        "max_pct_ = list(map(lambda x: x / 100 if x > 5 else x, max_pct))"
      ],
      "execution_count": 19,
      "outputs": []
    },
    {
      "cell_type": "code",
      "metadata": {
        "id": "yLjom9KVGD6t"
      },
      "source": [
        "ind_4_ab = []\r\n",
        "for pct_i  in  max_pct_:\r\n",
        "    if pct_i > .49:\r\n",
        "        ind_4_ab.append(1)\r\n",
        "    else:\r\n",
        "        ind_4_ab.append(0)"
      ],
      "execution_count": 20,
      "outputs": []
    },
    {
      "cell_type": "code",
      "metadata": {
        "colab": {
          "base_uri": "https://localhost:8080/"
        },
        "id": "2RxzDMZ9NJRM",
        "outputId": "bde5aea9-1f29-4c7a-8038-20e58e45b4fa"
      },
      "source": [
        "max_ast = []\r\n",
        "try:\r\n",
        "    for ast in ast_:\r\n",
        "        if ast != 'None':\r\n",
        "            \r\n",
        "            max_ast.append(max(ast))\r\n",
        "        else:\r\n",
        "            \r\n",
        "            max_ast.append(0)\r\n",
        "            \r\n",
        "except:\r\n",
        "    \r\n",
        "    max_ast.append(0)"
      ],
      "execution_count": 28,
      "outputs": [
        {
          "output_type": "stream",
          "text": [
            "/usr/local/lib/python3.6/dist-packages/ipykernel_launcher.py:4: FutureWarning: elementwise comparison failed; returning scalar instead, but in the future will perform elementwise comparison\n",
            "  after removing the cwd from sys.path.\n"
          ],
          "name": "stderr"
        }
      ]
    },
    {
      "cell_type": "code",
      "metadata": {
        "colab": {
          "base_uri": "https://localhost:8080/"
        },
        "id": "YaqQ3FpQI1Wi",
        "outputId": "90802c61-d6f9-47c2-f94e-1616ee85ea02"
      },
      "source": [
        "\r\n",
        "max_alt = []\r\n",
        "try:\r\n",
        "    for alt in alt_:\r\n",
        "        if alt != 'None':\r\n",
        "            \r\n",
        "            max_alt.append(max(alt))\r\n",
        "        else:\r\n",
        "            \r\n",
        "            max_alt.append(0)\r\n",
        "            \r\n",
        "except:\r\n",
        "    \r\n",
        "    max_alt.append(0)"
      ],
      "execution_count": 29,
      "outputs": [
        {
          "output_type": "stream",
          "text": [
            "/usr/local/lib/python3.6/dist-packages/ipykernel_launcher.py:4: FutureWarning: elementwise comparison failed; returning scalar instead, but in the future will perform elementwise comparison\n",
            "  after removing the cwd from sys.path.\n"
          ],
          "name": "stderr"
        }
      ]
    },
    {
      "cell_type": "code",
      "metadata": {
        "colab": {
          "base_uri": "https://localhost:8080/"
        },
        "id": "_g-RWVGrVviy",
        "outputId": "ae10d4e6-10c2-49c2-efe4-dc1920019651"
      },
      "source": [
        "len(max_alt)"
      ],
      "execution_count": 62,
      "outputs": [
        {
          "output_type": "execute_result",
          "data": {
            "text/plain": [
              "2231"
            ]
          },
          "metadata": {
            "tags": []
          },
          "execution_count": 62
        }
      ]
    },
    {
      "cell_type": "code",
      "metadata": {
        "colab": {
          "base_uri": "https://localhost:8080/"
        },
        "id": "f0kXS9UFMtSV",
        "outputId": "bfa66642-2456-4796-b217-80b56d78d633"
      },
      "source": [
        "\r\n",
        "# max_ldh = []\r\n",
        "# try:\r\n",
        "#     for ldh in ldh_:\r\n",
        "#         if ldh != 'None':\r\n",
        "            \r\n",
        "#             max_ldh.append(max(ldh))\r\n",
        "#         else:\r\n",
        "            \r\n",
        "#             max_ldh.append(0)\r\n",
        "            \r\n",
        "# except:\r\n",
        "    \r\n",
        "#     max_ldh.append(0)\r\n",
        "\r\n",
        "# len(max_ldh)"
      ],
      "execution_count": 63,
      "outputs": [
        {
          "output_type": "stream",
          "text": [
            "/usr/local/lib/python3.6/dist-packages/ipykernel_launcher.py:5: FutureWarning: elementwise comparison failed; returning scalar instead, but in the future will perform elementwise comparison\n",
            "  \"\"\"\n"
          ],
          "name": "stderr"
        },
        {
          "output_type": "execute_result",
          "data": {
            "text/plain": [
              "282"
            ]
          },
          "metadata": {
            "tags": []
          },
          "execution_count": 63
        }
      ]
    },
    {
      "cell_type": "code",
      "metadata": {
        "colab": {
          "base_uri": "https://localhost:8080/"
        },
        "id": "DAPZ0XIIUTz1",
        "outputId": "8da5a04f-a9bb-4e89-c716-997e4403ba1e"
      },
      "source": [
        "len(ldh_)"
      ],
      "execution_count": 64,
      "outputs": [
        {
          "output_type": "execute_result",
          "data": {
            "text/plain": [
              "2231"
            ]
          },
          "metadata": {
            "tags": []
          },
          "execution_count": 64
        }
      ]
    },
    {
      "cell_type": "code",
      "metadata": {
        "colab": {
          "base_uri": "https://localhost:8080/"
        },
        "id": "nqcEAxwvOTVH",
        "outputId": "94d39103-6577-4337-b1df-4d3c6f496179"
      },
      "source": [
        "max_hgb = []\r\n",
        "try:\r\n",
        "    for hgb in hgb_:\r\n",
        "        if hgb != 'None':\r\n",
        "            max_hgb.append(max(hgb))\r\n",
        "        else:\r\n",
        "            max_hgb.append(0)\r\n",
        "except:\r\n",
        "    max_hgb.append(0)"
      ],
      "execution_count": 32,
      "outputs": [
        {
          "output_type": "stream",
          "text": [
            "/usr/local/lib/python3.6/dist-packages/ipykernel_launcher.py:4: FutureWarning: elementwise comparison failed; returning scalar instead, but in the future will perform elementwise comparison\n",
            "  after removing the cwd from sys.path.\n"
          ],
          "name": "stderr"
        }
      ]
    },
    {
      "cell_type": "code",
      "metadata": {
        "colab": {
          "base_uri": "https://localhost:8080/"
        },
        "id": "-HDBVO8QOYcC",
        "outputId": "f8266a66-5086-460e-d70f-3fcb89802ceb"
      },
      "source": [
        "max_cre = []\r\n",
        "min_cre = []\r\n",
        "try:\r\n",
        "    for cre in crea_:\r\n",
        "        if cre != 'None':\r\n",
        "            min_cre.append(min(cre))\r\n",
        "            max_cre.append(max(cre))\r\n",
        "        else:\r\n",
        "            min_cre.append(0)\r\n",
        "            max_cre.append(0)\r\n",
        "except:\r\n",
        "    min_cre.append(0)\r\n",
        "    max_cre.append(0)"
      ],
      "execution_count": 43,
      "outputs": [
        {
          "output_type": "stream",
          "text": [
            "/usr/local/lib/python3.6/dist-packages/ipykernel_launcher.py:5: FutureWarning: elementwise comparison failed; returning scalar instead, but in the future will perform elementwise comparison\n",
            "  \"\"\"\n"
          ],
          "name": "stderr"
        }
      ]
    },
    {
      "cell_type": "code",
      "metadata": {
        "colab": {
          "base_uri": "https://localhost:8080/"
        },
        "id": "n7JrsCH_UOu6",
        "outputId": "379ccc53-9b5e-4c05-ad2f-903d93ecaa03"
      },
      "source": [
        "len(min_cre)"
      ],
      "execution_count": 44,
      "outputs": [
        {
          "output_type": "execute_result",
          "data": {
            "text/plain": [
              "2231"
            ]
          },
          "metadata": {
            "tags": []
          },
          "execution_count": 44
        }
      ]
    },
    {
      "cell_type": "code",
      "metadata": {
        "colab": {
          "base_uri": "https://localhost:8080/"
        },
        "id": "IxolpwWAPVuQ",
        "outputId": "2ff7de87-c8c2-4fae-96f6-6ba217718386"
      },
      "source": [
        "initial_crp = []\r\n",
        "max_crp = []\r\n",
        "try:\r\n",
        "    for crp in crp_:\r\n",
        "        if crp != 'None':\r\n",
        "            initial_crp.append(crp[0])\r\n",
        "            max_crp.append(max(crp))\r\n",
        "        else:\r\n",
        "            initial_crp.append(0)\r\n",
        "            max_crp.append(0)\r\n",
        "            \r\n",
        "except:\r\n",
        "    initial_crp.append(0)\r\n",
        "    max_crp.append(0)"
      ],
      "execution_count": 37,
      "outputs": [
        {
          "output_type": "stream",
          "text": [
            "/usr/local/lib/python3.6/dist-packages/ipykernel_launcher.py:5: FutureWarning: elementwise comparison failed; returning scalar instead, but in the future will perform elementwise comparison\n",
            "  \"\"\"\n"
          ],
          "name": "stderr"
        }
      ]
    },
    {
      "cell_type": "code",
      "metadata": {
        "colab": {
          "base_uri": "https://localhost:8080/"
        },
        "id": "IH0Y7Xe1ULG9",
        "outputId": "7a4b6890-7b9d-4dc2-c483-292f6f47d284"
      },
      "source": [
        "len(initial_crp)"
      ],
      "execution_count": 41,
      "outputs": [
        {
          "output_type": "execute_result",
          "data": {
            "text/plain": [
              "2231"
            ]
          },
          "metadata": {
            "tags": []
          },
          "execution_count": 41
        }
      ]
    },
    {
      "cell_type": "code",
      "metadata": {
        "colab": {
          "base_uri": "https://localhost:8080/"
        },
        "id": "jyuifHukQBCV",
        "outputId": "09462951-e514-4559-a085-0f7aef5ea226"
      },
      "source": [
        "min_plt = []\r\n",
        "max_plt = []\r\n",
        "try:\r\n",
        "    for plt in plt_:\r\n",
        "        if plt != 'None':\r\n",
        "            min_plt.append(max(plt))\r\n",
        "            max_plt.append(max(plt))\r\n",
        "        else:\r\n",
        "            min_plt.append(0)\r\n",
        "            max_plt.append(0)\r\n",
        "except:\r\n",
        "    max_plt.append(0)\r\n",
        "    min_plt.append(0)"
      ],
      "execution_count": 34,
      "outputs": [
        {
          "output_type": "stream",
          "text": [
            "/usr/local/lib/python3.6/dist-packages/ipykernel_launcher.py:5: FutureWarning: elementwise comparison failed; returning scalar instead, but in the future will perform elementwise comparison\n",
            "  \"\"\"\n"
          ],
          "name": "stderr"
        }
      ]
    },
    {
      "cell_type": "code",
      "metadata": {
        "colab": {
          "base_uri": "https://localhost:8080/"
        },
        "id": "6w_yLLfbQW5s",
        "outputId": "e1f3765a-5385-47c8-94d1-e588f2e80cd3"
      },
      "source": [
        "min_wbc = []\r\n",
        "max_wbc = []\r\n",
        "try:\r\n",
        "    for wbc in wbc_:\r\n",
        "        if wbc != 'None':\r\n",
        "            min_wbc.append(max(wbc))\r\n",
        "            max_wbc.append(max(wbc))\r\n",
        "        else:\r\n",
        "            min_wbc.append(0)\r\n",
        "            max_wbc.append(0)\r\n",
        "except:\r\n",
        "    max_wbc.append(0)\r\n",
        "    min_wbc.append(0)"
      ],
      "execution_count": 35,
      "outputs": [
        {
          "output_type": "stream",
          "text": [
            "/usr/local/lib/python3.6/dist-packages/ipykernel_launcher.py:5: FutureWarning: elementwise comparison failed; returning scalar instead, but in the future will perform elementwise comparison\n",
            "  \"\"\"\n"
          ],
          "name": "stderr"
        }
      ]
    },
    {
      "cell_type": "code",
      "metadata": {
        "colab": {
          "base_uri": "https://localhost:8080/"
        },
        "id": "lvyT74fiUIMG",
        "outputId": "d4e11df8-389a-431c-9c3b-d3e857d77a11"
      },
      "source": [
        "len(max_wbc)"
      ],
      "execution_count": 40,
      "outputs": [
        {
          "output_type": "execute_result",
          "data": {
            "text/plain": [
              "2231"
            ]
          },
          "metadata": {
            "tags": []
          },
          "execution_count": 40
        }
      ]
    },
    {
      "cell_type": "code",
      "metadata": {
        "id": "toCyVo3MRCRE"
      },
      "source": [
        "data_dct = {'ID':ID_,'Max_Platlets':max_plt, \r\n",
        "            \"Min_Platlets\":min_plt, \r\n",
        "            'Max_Leucocytes': max_wbc,\r\n",
        "            'Min_Leucocytes': min_wbc,'Hemoglobin': hgb_,\r\n",
        "           'Max_Creatinine': max_cre, \"Min_Cratinine\": min_cre , \r\n",
        "             'Gender':sex_, \r\n",
        "            'initial_CRP':initial_crp,\r\n",
        "            \"Max_CRP\":max_crp, \r\n",
        "            'Treatment': cleaned_treatment, 'Birthday': bir, 'Admission':ad,\r\n",
        "            'Discharge':dis,  'Diagnosis': list_wo_punct,\r\n",
        "            'COVID-19': c, 'Pneumonia': p, \"Severity\": g,\r\n",
        "            \"IHD\": ihd, \"COPD\": copd_, \"Bronchial_asthma\": ba,\r\n",
        "            \"Obesity\":ob_, \"Diabetes\": dm_, 'RF': rfl, \"ALT\": max_alt,\r\n",
        "            \"AST\": max_ast, \"Initial_Procalcitonine\": initial_pct_,\r\n",
        "            \"Max_Procalcitonine\": max_pct_}\r\n",
        "\r\n",
        "#'LDG': max_ldh,"
      ],
      "execution_count": 65,
      "outputs": []
    },
    {
      "cell_type": "code",
      "metadata": {
        "id": "rlI4SitpT13g"
      },
      "source": [
        "dataFrame = pd.DataFrame(data_dct)"
      ],
      "execution_count": 66,
      "outputs": []
    },
    {
      "cell_type": "code",
      "metadata": {
        "colab": {
          "base_uri": "https://localhost:8080/",
          "height": 383
        },
        "id": "zHsT_4GzUCGH",
        "outputId": "fdf3913b-3ad8-4014-d44c-52e55c3cf752"
      },
      "source": [
        "dataFrame.head()"
      ],
      "execution_count": 70,
      "outputs": [
        {
          "output_type": "execute_result",
          "data": {
            "text/html": [
              "<div>\n",
              "<style scoped>\n",
              "    .dataframe tbody tr th:only-of-type {\n",
              "        vertical-align: middle;\n",
              "    }\n",
              "\n",
              "    .dataframe tbody tr th {\n",
              "        vertical-align: top;\n",
              "    }\n",
              "\n",
              "    .dataframe thead th {\n",
              "        text-align: right;\n",
              "    }\n",
              "</style>\n",
              "<table border=\"1\" class=\"dataframe\">\n",
              "  <thead>\n",
              "    <tr style=\"text-align: right;\">\n",
              "      <th></th>\n",
              "      <th>ID</th>\n",
              "      <th>Max_Platlets</th>\n",
              "      <th>Min_Platlets</th>\n",
              "      <th>Max_Leucocytes</th>\n",
              "      <th>Min_Leucocytes</th>\n",
              "      <th>Hemoglobin</th>\n",
              "      <th>Max_Creatinine</th>\n",
              "      <th>Min_Cratinine</th>\n",
              "      <th>Gender</th>\n",
              "      <th>initial_CRP</th>\n",
              "      <th>Max_CRP</th>\n",
              "      <th>Treatment</th>\n",
              "      <th>Birthday</th>\n",
              "      <th>Admission</th>\n",
              "      <th>Discharge</th>\n",
              "      <th>Diagnosis</th>\n",
              "      <th>COVID-19</th>\n",
              "      <th>Pneumonia</th>\n",
              "      <th>Severity</th>\n",
              "      <th>IHD</th>\n",
              "      <th>COPD</th>\n",
              "      <th>Bronchial_asthma</th>\n",
              "      <th>Obesity</th>\n",
              "      <th>Diabetes</th>\n",
              "      <th>RF</th>\n",
              "      <th>ALT</th>\n",
              "      <th>AST</th>\n",
              "      <th>Initial_Procalcitonine</th>\n",
              "      <th>Max_Procalcitonine</th>\n",
              "    </tr>\n",
              "  </thead>\n",
              "  <tbody>\n",
              "    <tr>\n",
              "      <th>0</th>\n",
              "      <td>1685.0</td>\n",
              "      <td>0.0</td>\n",
              "      <td>0.0</td>\n",
              "      <td>0.00</td>\n",
              "      <td>0.00</td>\n",
              "      <td>None</td>\n",
              "      <td>0.0</td>\n",
              "      <td>0.0</td>\n",
              "      <td>male</td>\n",
              "      <td>0.0</td>\n",
              "      <td>0.0</td>\n",
              "      <td>None</td>\n",
              "      <td>04:06:1953</td>\n",
              "      <td>11:03:2018</td>\n",
              "      <td>20:04:2018</td>\n",
              "      <td>none</td>\n",
              "      <td>0</td>\n",
              "      <td>0</td>\n",
              "      <td>0</td>\n",
              "      <td>0</td>\n",
              "      <td>0</td>\n",
              "      <td>0</td>\n",
              "      <td>0</td>\n",
              "      <td>0</td>\n",
              "      <td>0.0</td>\n",
              "      <td>0.0</td>\n",
              "      <td>0.0</td>\n",
              "      <td>0.0</td>\n",
              "      <td>0.0</td>\n",
              "    </tr>\n",
              "    <tr>\n",
              "      <th>1</th>\n",
              "      <td>678.0</td>\n",
              "      <td>231.0</td>\n",
              "      <td>231.0</td>\n",
              "      <td>4.79</td>\n",
              "      <td>4.79</td>\n",
              "      <td>[146.0, 157.0]</td>\n",
              "      <td>0.0</td>\n",
              "      <td>0.0</td>\n",
              "      <td>female</td>\n",
              "      <td>126.6</td>\n",
              "      <td>126.6</td>\n",
              "      <td>левофлоксацин , амброксол . теофил , серетид ,...</td>\n",
              "      <td>27:01:1961</td>\n",
              "      <td>30:01:2020</td>\n",
              "      <td>07:02:2020</td>\n",
              "      <td>хр бронхит в ст обострения бронхиальная астма ...</td>\n",
              "      <td>0</td>\n",
              "      <td>0</td>\n",
              "      <td>0</td>\n",
              "      <td>0</td>\n",
              "      <td>0</td>\n",
              "      <td>1</td>\n",
              "      <td>0</td>\n",
              "      <td>0</td>\n",
              "      <td>2.0</td>\n",
              "      <td>35.0</td>\n",
              "      <td>23.0</td>\n",
              "      <td>0.0</td>\n",
              "      <td>0.0</td>\n",
              "    </tr>\n",
              "    <tr>\n",
              "      <th>2</th>\n",
              "      <td>777.0</td>\n",
              "      <td>156.0</td>\n",
              "      <td>156.0</td>\n",
              "      <td>6.60</td>\n",
              "      <td>6.60</td>\n",
              "      <td>[101.0, 99.0]</td>\n",
              "      <td>0.0</td>\n",
              "      <td>0.0</td>\n",
              "      <td>female</td>\n",
              "      <td>0.0</td>\n",
              "      <td>0.0</td>\n",
              "      <td>цефтриаксон , кпс,  бисопролол , , лансопрозол...</td>\n",
              "      <td>20:05:1937</td>\n",
              "      <td>03:02:2020</td>\n",
              "      <td>07:02:2020</td>\n",
              "      <td>ибс  атеросклеротический кардиосклероз атероск...</td>\n",
              "      <td>0</td>\n",
              "      <td>0</td>\n",
              "      <td>0</td>\n",
              "      <td>1</td>\n",
              "      <td>0</td>\n",
              "      <td>0</td>\n",
              "      <td>0</td>\n",
              "      <td>0</td>\n",
              "      <td>0.0</td>\n",
              "      <td>80.0</td>\n",
              "      <td>54.0</td>\n",
              "      <td>0.0</td>\n",
              "      <td>0.0</td>\n",
              "    </tr>\n",
              "    <tr>\n",
              "      <th>3</th>\n",
              "      <td>7065.0</td>\n",
              "      <td>0.0</td>\n",
              "      <td>0.0</td>\n",
              "      <td>0.00</td>\n",
              "      <td>0.00</td>\n",
              "      <td>None</td>\n",
              "      <td>167.0</td>\n",
              "      <td>167.0</td>\n",
              "      <td>male</td>\n",
              "      <td>0.0</td>\n",
              "      <td>0.0</td>\n",
              "      <td>метопролол, цефтриаксон, дексаметазон, лизиноп...</td>\n",
              "      <td>01:09:1932</td>\n",
              "      <td>11:11:2018</td>\n",
              "      <td>13:11:2018</td>\n",
              "      <td>клинический j411 слизистогнойный хронический б...</td>\n",
              "      <td>0</td>\n",
              "      <td>0</td>\n",
              "      <td>0</td>\n",
              "      <td>1</td>\n",
              "      <td>0</td>\n",
              "      <td>0</td>\n",
              "      <td>0</td>\n",
              "      <td>0</td>\n",
              "      <td>1.0</td>\n",
              "      <td>0.0</td>\n",
              "      <td>0.0</td>\n",
              "      <td>0.0</td>\n",
              "      <td>0.0</td>\n",
              "    </tr>\n",
              "    <tr>\n",
              "      <th>4</th>\n",
              "      <td>4880.0</td>\n",
              "      <td>0.0</td>\n",
              "      <td>0.0</td>\n",
              "      <td>0.00</td>\n",
              "      <td>0.00</td>\n",
              "      <td>None</td>\n",
              "      <td>0.0</td>\n",
              "      <td>0.0</td>\n",
              "      <td>male</td>\n",
              "      <td>0.0</td>\n",
              "      <td>0.0</td>\n",
              "      <td>None</td>\n",
              "      <td>07:03:1937</td>\n",
              "      <td>03:08:2018</td>\n",
              "      <td>15:08:2018</td>\n",
              "      <td>none</td>\n",
              "      <td>0</td>\n",
              "      <td>0</td>\n",
              "      <td>0</td>\n",
              "      <td>0</td>\n",
              "      <td>0</td>\n",
              "      <td>0</td>\n",
              "      <td>0</td>\n",
              "      <td>0</td>\n",
              "      <td>0.0</td>\n",
              "      <td>0.0</td>\n",
              "      <td>0.0</td>\n",
              "      <td>0.0</td>\n",
              "      <td>0.0</td>\n",
              "    </tr>\n",
              "  </tbody>\n",
              "</table>\n",
              "</div>"
            ],
            "text/plain": [
              "       ID  Max_Platlets  ...  Initial_Procalcitonine  Max_Procalcitonine\n",
              "0  1685.0           0.0  ...                     0.0                 0.0\n",
              "1   678.0         231.0  ...                     0.0                 0.0\n",
              "2   777.0         156.0  ...                     0.0                 0.0\n",
              "3  7065.0           0.0  ...                     0.0                 0.0\n",
              "4  4880.0           0.0  ...                     0.0                 0.0\n",
              "\n",
              "[5 rows x 29 columns]"
            ]
          },
          "metadata": {
            "tags": []
          },
          "execution_count": 70
        }
      ]
    },
    {
      "cell_type": "code",
      "metadata": {
        "id": "l_9mZpQvWmlv"
      },
      "source": [
        "dataFrame.to_csv('Data_12.csv')"
      ],
      "execution_count": 69,
      "outputs": []
    },
    {
      "cell_type": "code",
      "metadata": {
        "colab": {
          "base_uri": "https://localhost:8080/"
        },
        "id": "dRm9xO9BXI3U",
        "outputId": "e55936ea-bf4e-47f0-eef2-abeb275ea206"
      },
      "source": [
        "dataFrame['Initial_Procalcitonine'].value_counts()"
      ],
      "execution_count": 72,
      "outputs": [
        {
          "output_type": "execute_result",
          "data": {
            "text/plain": [
              "0.00    2158\n",
              "0.07      39\n",
              "0.32       4\n",
              "0.08       3\n",
              "0.09       3\n",
              "0.43       2\n",
              "0.16       2\n",
              "0.14       2\n",
              "0.05       2\n",
              "0.10       2\n",
              "0.20       2\n",
              "0.36       1\n",
              "0.60       1\n",
              "0.15       1\n",
              "0.54       1\n",
              "0.24       1\n",
              "0.46       1\n",
              "0.13       1\n",
              "0.98       1\n",
              "0.23       1\n",
              "0.37       1\n",
              "0.11       1\n",
              "0.63       1\n",
              "Name: Initial_Procalcitonine, dtype: int64"
            ]
          },
          "metadata": {
            "tags": []
          },
          "execution_count": 72
        }
      ]
    },
    {
      "cell_type": "code",
      "metadata": {
        "id": "FCyCfyoQX4tg"
      },
      "source": [
        ""
      ],
      "execution_count": null,
      "outputs": []
    }
  ]
}